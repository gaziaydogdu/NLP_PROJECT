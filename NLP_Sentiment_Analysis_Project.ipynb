{
 "cells": [
  {
   "cell_type": "markdown",
   "metadata": {
    "id": "YCgHlyCtyaZ0"
   },
   "source": [
    "___\n",
    "\n",
    "<p style=\"text-align: center;\"><img src=\"https://docs.google.com/uc?id=1lY0Uj5R04yMY3-ZppPWxqCr5pvBLYPnV\" class=\"img-fluid\" alt=\"CLRSWY\"></p>\n",
    "\n",
    "___"
   ]
  },
  {
   "cell_type": "markdown",
   "metadata": {
    "id": "efAoxo_nyaaA"
   },
   "source": [
    "# WELCOME!"
   ]
  },
  {
   "cell_type": "markdown",
   "metadata": {
    "id": "ussoVSxXyaaC"
   },
   "source": [
    "Welcome to the \"***Sentiment Analysis and Classification Project***\" project, the first and only project of the ***Natural Language Processing (NLP)*** course.\n",
    "\n",
    "This analysis will focus on using Natural Language techniques to find broad trends in the written thoughts of the customers. \n",
    "The goal in this project is to predict whether customers recommend the product they purchased using the information in their review text.\n",
    "\n",
    "One of the challenges in this project is to extract useful information from the *Review Text* variable using text mining techniques. The other challenge is that you need to convert text files into numeric feature vectors to run machine learning algorithms.\n",
    "\n",
    "At the end of this project, you will learn how to build sentiment classification models using Machine Learning algorithms (***Logistic Regression, Naive Bayes, Support Vector Machine, Random Forest*** and ***Ada Boosting***), **Deep Learning algorithms** and **BERT algorithm**.\n",
    "\n",
    "Before diving into the project, please take a look at the Determines and Tasks.\n",
    "\n",
    "- ***NOTE:*** *This tutorial assumes that you already know the basics of coding in Python and are familiar with the theory behind the algorithms mentioned above as well as NLP techniques.*\n",
    "\n"
   ]
  },
  {
   "cell_type": "markdown",
   "metadata": {
    "id": "iDMyWVZKyaaF"
   },
   "source": [
    "---\n",
    "---\n"
   ]
  },
  {
   "cell_type": "markdown",
   "metadata": {
    "id": "nZoVuOBgyaaG"
   },
   "source": [
    "# #Determines\n",
    "The data is a collection of 22641 Rows and 10 column variables. Each row includes a written comment as well as additional customer information. \n",
    "Also each row corresponds to a customer review, and includes the variables:\n",
    "\n",
    "\n",
    "**Feature Information:**\n",
    "\n",
    "**Clothing ID:** Integer Categorical variable that refers to the specific piece being reviewed.\n",
    "\n",
    "**Age:** Positive Integer variable of the reviewers age.\n",
    "\n",
    "**Title:** String variable for the title of the review.\n",
    "\n",
    "**Review Text:** String variable for the review body.\n",
    "\n",
    "**Rating:** Positive Ordinal Integer variable for the product score granted by the customer from 1 Worst, to 5 Best.\n",
    "\n",
    "**Recommended IND:** Binary variable stating where the customer recommends the product where 1 is recommended, 0 is not recommended.\n",
    "\n",
    "**Positive Feedback Count:** Positive Integer documenting the number of other customers who found this review positive.\n",
    "\n",
    "**Division Name:** Categorical name of the product high level division.\n",
    "\n",
    "**Department Name:** Categorical name of the product department name.\n",
    "\n",
    "**Class Name:** Categorical name of the product class name.\n",
    "\n",
    "---\n",
    "\n",
    "The basic goal in this project is to predict whether customers recommend the product they purchased using the information in their *Review Text*.\n",
    "Especially, it should be noted that the expectation in this project is to use only the \"Review Text\" variable and neglect the other ones. \n",
    "Of course, if you want, you can work on other variables individually.\n",
    "\n",
    "Project Structure is separated in five tasks: ***EDA, Feature Selection and Data Cleaning , Text Mining, Word Cloud*** and ***Sentiment Classification with Machine Learning, Deep Learning and BERT model***.\n",
    "\n",
    "Classically, you can start to know the data after doing the import and load operations. \n",
    "You need to do missing value detection for Review Text, which is the only variable you need to care about. You can drop other variables.\n",
    "\n",
    "You will need to apply ***noise removal*** and ***lexicon normalization*** processes by using the capabilities of the ***nltk*** library to the data set that is ready for text mining.\n",
    "\n",
    "Afterwards, you will implement ***Word Cloud*** as a visual analysis of word repetition.\n",
    "\n",
    "Finally, You will build models with five different algorithms and compare their performance. Thus, you will determine the algorithm that makes the most accurate emotion estimation by using the information obtained from the * Review Text * variable.\n",
    "\n",
    "\n",
    "\n",
    "\n"
   ]
  },
  {
   "cell_type": "markdown",
   "metadata": {
    "id": "k1eKT-CuyaaJ"
   },
   "source": [
    "---\n",
    "---\n"
   ]
  },
  {
   "cell_type": "markdown",
   "metadata": {
    "id": "os0DEWrcyaaK"
   },
   "source": [
    "# #Tasks\n",
    "\n",
    "#### 1. Exploratory Data Analysis\n",
    "\n",
    "- Import Modules, Load Discover the Data\n",
    "\n",
    "#### 2. Feature Selection and Data Cleaning\n",
    "\n",
    "- Feature Selection and Rename Column Name\n",
    "- Missing Value Detection\n",
    "\n",
    "#### 3. Text Mining\n",
    "\n",
    "- Tokenization\n",
    "- Noise Removal\n",
    "- Lexicon Normalization\n",
    "\n",
    "#### 4. WordCloud - Repetition of Words\n",
    "\n",
    "- Detect Reviews\n",
    "- Collect Words \n",
    "- Create Word Cloud \n",
    "\n",
    "\n",
    "#### 5. Sentiment Classification with Machine Learning, Deep Learning and BERT Model\n",
    "\n",
    "- Train - Test Split\n",
    "- Vectorization\n",
    "- TF-IDF\n",
    "- Logistic Regression\n",
    "- Naive Bayes\n",
    "- Support Vector Machine\n",
    "- Random Forest\n",
    "- AdaBoost\n",
    "- Deep Learning Model\n",
    "- BERT Model\n",
    "- Model Comparison"
   ]
  },
  {
   "cell_type": "markdown",
   "metadata": {
    "id": "80ATtXzEyaaM"
   },
   "source": [
    "---\n",
    "---\n"
   ]
  },
  {
   "cell_type": "markdown",
   "metadata": {
    "id": "HOkP9vyYCV31"
   },
   "source": [
    "# Sentiment analysis of women's clothes reviews\n",
    "\n",
    "\n",
    "In this project we used sentiment analysis to determined whether the product is recommended or not. We used different machine learning algorithms to get more accurate predictions. The following classification algorithms have been used: ML algorithms(Logistic Regression, Naive Bayes, Support Vector Machine (SVM), Random Forest and Ada Boosting), Deep learning algorithm and BERT algorithm. The dataset comes from Woman Clothing Review that can be find at (https://www.kaggle.com/nicapotato/womens-ecommerce-clothing-reviews. \n"
   ]
  },
  {
   "cell_type": "markdown",
   "metadata": {
    "id": "YkSHQgIGyaaP"
   },
   "source": [
    "## 1. Exploratory Data Analysis"
   ]
  },
  {
   "cell_type": "markdown",
   "metadata": {
    "id": "FXzFEeYkCV32"
   },
   "source": [
    "### Import Libraries, Load and Discover the Data"
   ]
  },
  {
   "cell_type": "code",
   "execution_count": 4,
   "metadata": {
    "id": "xNQnqxE7yaaR"
   },
   "outputs": [],
   "source": [
    "import numpy as np\n",
    "import pandas as pd\n",
    "import seaborn as sns\n",
    "import matplotlib.pyplot as plt\n",
    "import nltk\n",
    "from nltk.tokenize import sent_tokenize, word_tokenize\n",
    "from nltk.corpus import stopwords\n",
    "from nltk.stem import WordNetLemmatizer\n",
    "from nltk.stem import PorterStemmer\n",
    "import warnings\n",
    "warnings.filterwarnings(\"ignore\")\n",
    "plt.rcParams[\"figure.figsize\"] = (10,6)\n",
    "pd.set_option('display.max_columns', 50)"
   ]
  },
  {
   "cell_type": "code",
   "execution_count": 5,
   "metadata": {
    "id": "j9UnDZTfyaaT"
   },
   "outputs": [
    {
     "name": "stderr",
     "output_type": "stream",
     "text": [
      "[nltk_data] Downloading package punkt to\n",
      "[nltk_data]     C:\\Users\\MONSTER\\AppData\\Roaming\\nltk_data...\n",
      "[nltk_data]   Package punkt is already up-to-date!\n",
      "[nltk_data] Downloading package stopwords to\n",
      "[nltk_data]     C:\\Users\\MONSTER\\AppData\\Roaming\\nltk_data...\n",
      "[nltk_data]   Package stopwords is already up-to-date!\n",
      "[nltk_data] Downloading package wordnet to\n",
      "[nltk_data]     C:\\Users\\MONSTER\\AppData\\Roaming\\nltk_data...\n",
      "[nltk_data]   Package wordnet is already up-to-date!\n",
      "[nltk_data] Downloading package omw-1.4 to\n",
      "[nltk_data]     C:\\Users\\MONSTER\\AppData\\Roaming\\nltk_data...\n",
      "[nltk_data]   Package omw-1.4 is already up-to-date!\n"
     ]
    },
    {
     "data": {
      "text/plain": [
       "True"
      ]
     },
     "execution_count": 5,
     "metadata": {},
     "output_type": "execute_result"
    }
   ],
   "source": [
    "nltk.download('punkt')\n",
    "nltk.download('stopwords')\n",
    "nltk.download('wordnet')\n",
    "nltk.download('omw-1.4')"
   ]
  },
  {
   "cell_type": "code",
   "execution_count": 6,
   "metadata": {},
   "outputs": [
    {
     "data": {
      "text/html": [
       "<div>\n",
       "<style scoped>\n",
       "    .dataframe tbody tr th:only-of-type {\n",
       "        vertical-align: middle;\n",
       "    }\n",
       "\n",
       "    .dataframe tbody tr th {\n",
       "        vertical-align: top;\n",
       "    }\n",
       "\n",
       "    .dataframe thead th {\n",
       "        text-align: right;\n",
       "    }\n",
       "</style>\n",
       "<table border=\"1\" class=\"dataframe\">\n",
       "  <thead>\n",
       "    <tr style=\"text-align: right;\">\n",
       "      <th></th>\n",
       "      <th>Unnamed: 0</th>\n",
       "      <th>Clothing ID</th>\n",
       "      <th>Age</th>\n",
       "      <th>Title</th>\n",
       "      <th>Review Text</th>\n",
       "      <th>Rating</th>\n",
       "      <th>Recommended IND</th>\n",
       "      <th>Positive Feedback Count</th>\n",
       "      <th>Division Name</th>\n",
       "      <th>Department Name</th>\n",
       "      <th>Class Name</th>\n",
       "    </tr>\n",
       "  </thead>\n",
       "  <tbody>\n",
       "    <tr>\n",
       "      <th>0</th>\n",
       "      <td>0</td>\n",
       "      <td>767</td>\n",
       "      <td>33</td>\n",
       "      <td>NaN</td>\n",
       "      <td>Absolutely wonderful - silky and sexy and comf...</td>\n",
       "      <td>4</td>\n",
       "      <td>1</td>\n",
       "      <td>0</td>\n",
       "      <td>Initmates</td>\n",
       "      <td>Intimate</td>\n",
       "      <td>Intimates</td>\n",
       "    </tr>\n",
       "    <tr>\n",
       "      <th>1</th>\n",
       "      <td>1</td>\n",
       "      <td>1080</td>\n",
       "      <td>34</td>\n",
       "      <td>NaN</td>\n",
       "      <td>Love this dress!  it's sooo pretty.  i happene...</td>\n",
       "      <td>5</td>\n",
       "      <td>1</td>\n",
       "      <td>4</td>\n",
       "      <td>General</td>\n",
       "      <td>Dresses</td>\n",
       "      <td>Dresses</td>\n",
       "    </tr>\n",
       "    <tr>\n",
       "      <th>2</th>\n",
       "      <td>2</td>\n",
       "      <td>1077</td>\n",
       "      <td>60</td>\n",
       "      <td>Some major design flaws</td>\n",
       "      <td>I had such high hopes for this dress and reall...</td>\n",
       "      <td>3</td>\n",
       "      <td>0</td>\n",
       "      <td>0</td>\n",
       "      <td>General</td>\n",
       "      <td>Dresses</td>\n",
       "      <td>Dresses</td>\n",
       "    </tr>\n",
       "    <tr>\n",
       "      <th>3</th>\n",
       "      <td>3</td>\n",
       "      <td>1049</td>\n",
       "      <td>50</td>\n",
       "      <td>My favorite buy!</td>\n",
       "      <td>I love, love, love this jumpsuit. it's fun, fl...</td>\n",
       "      <td>5</td>\n",
       "      <td>1</td>\n",
       "      <td>0</td>\n",
       "      <td>General Petite</td>\n",
       "      <td>Bottoms</td>\n",
       "      <td>Pants</td>\n",
       "    </tr>\n",
       "    <tr>\n",
       "      <th>4</th>\n",
       "      <td>4</td>\n",
       "      <td>847</td>\n",
       "      <td>47</td>\n",
       "      <td>Flattering shirt</td>\n",
       "      <td>This shirt is very flattering to all due to th...</td>\n",
       "      <td>5</td>\n",
       "      <td>1</td>\n",
       "      <td>6</td>\n",
       "      <td>General</td>\n",
       "      <td>Tops</td>\n",
       "      <td>Blouses</td>\n",
       "    </tr>\n",
       "  </tbody>\n",
       "</table>\n",
       "</div>"
      ],
      "text/plain": [
       "   Unnamed: 0  Clothing ID  Age                    Title  \\\n",
       "0           0          767   33                      NaN   \n",
       "1           1         1080   34                      NaN   \n",
       "2           2         1077   60  Some major design flaws   \n",
       "3           3         1049   50         My favorite buy!   \n",
       "4           4          847   47         Flattering shirt   \n",
       "\n",
       "                                         Review Text  Rating  Recommended IND  \\\n",
       "0  Absolutely wonderful - silky and sexy and comf...       4                1   \n",
       "1  Love this dress!  it's sooo pretty.  i happene...       5                1   \n",
       "2  I had such high hopes for this dress and reall...       3                0   \n",
       "3  I love, love, love this jumpsuit. it's fun, fl...       5                1   \n",
       "4  This shirt is very flattering to all due to th...       5                1   \n",
       "\n",
       "   Positive Feedback Count   Division Name Department Name Class Name  \n",
       "0                        0       Initmates        Intimate  Intimates  \n",
       "1                        4         General         Dresses    Dresses  \n",
       "2                        0         General         Dresses    Dresses  \n",
       "3                        0  General Petite         Bottoms      Pants  \n",
       "4                        6         General            Tops    Blouses  "
      ]
     },
     "execution_count": 6,
     "metadata": {},
     "output_type": "execute_result"
    }
   ],
   "source": [
    "df = pd.read_csv(\"Womens Clothing E-Commerce Reviews.csv\")\n",
    "df.head()"
   ]
  },
  {
   "cell_type": "code",
   "execution_count": 4,
   "metadata": {},
   "outputs": [
    {
     "data": {
      "text/plain": [
       "1753     Retailer sizes are all over the place. i fell ...\n",
       "13780    If i ever find something i can wear sans bra, ...\n",
       "19229    I'm 5'6\", 34b/32c, apprx 125#, & lift weights ...\n",
       "15594    Very soft material, probably will pill quickly...\n",
       "523                                                    NaN\n",
       "5942     Based on other reviews that this top ran large...\n",
       "6973     This was long on me (i'm 5'1\") but it could ea...\n",
       "13930    I fell in love with this top on the spot and p...\n",
       "11914    I usually wear a small or medium depending on ...\n",
       "12198    This vest looks exactly as in pictures which i...\n",
       "18793    Beautiful white denim pants. the fit is perfec...\n",
       "17309    I really liked these pants! they are so audrey...\n",
       "2342     Love everything about it but had to get a size...\n",
       "11448    This shirt runs large. i ordered it before it ...\n",
       "22905    Love love love!!! it is a little boxy but it i...\n",
       "4219     This shirt had everything going for it - the c...\n",
       "15598    I love this sweater! it is so comfortable and ...\n",
       "6745     This is one fabulous-looking dress; however, t...\n",
       "19054    This dress is very soft and ultra comfortable....\n",
       "19725    Ok so this top runs extremely large. for refer...\n",
       "Name: Review Text, dtype: object"
      ]
     },
     "execution_count": 4,
     "metadata": {},
     "output_type": "execute_result"
    }
   ],
   "source": [
    "df[\"Review Text\"].sample(20)"
   ]
  },
  {
   "cell_type": "code",
   "execution_count": 7,
   "metadata": {},
   "outputs": [
    {
     "name": "stdout",
     "output_type": "stream",
     "text": [
      "<class 'pandas.core.frame.DataFrame'>\n",
      "RangeIndex: 23486 entries, 0 to 23485\n",
      "Data columns (total 11 columns):\n",
      " #   Column                   Non-Null Count  Dtype \n",
      "---  ------                   --------------  ----- \n",
      " 0   Unnamed: 0               23486 non-null  int64 \n",
      " 1   Clothing ID              23486 non-null  int64 \n",
      " 2   Age                      23486 non-null  int64 \n",
      " 3   Title                    19676 non-null  object\n",
      " 4   Review Text              22641 non-null  object\n",
      " 5   Rating                   23486 non-null  int64 \n",
      " 6   Recommended IND          23486 non-null  int64 \n",
      " 7   Positive Feedback Count  23486 non-null  int64 \n",
      " 8   Division Name            23472 non-null  object\n",
      " 9   Department Name          23472 non-null  object\n",
      " 10  Class Name               23472 non-null  object\n",
      "dtypes: int64(6), object(5)\n",
      "memory usage: 2.0+ MB\n"
     ]
    }
   ],
   "source": [
    "df.info()"
   ]
  },
  {
   "cell_type": "code",
   "execution_count": 6,
   "metadata": {},
   "outputs": [
    {
     "data": {
      "text/plain": [
       "Class Name  Clothing ID\n",
       "Blouses     829            527\n",
       "            850            338\n",
       "            828            225\n",
       "            820            211\n",
       "            836            205\n",
       "                          ... \n",
       "NaN         492              3\n",
       "            184              2\n",
       "            72               1\n",
       "            665              1\n",
       "            772              1\n",
       "Name: Clothing ID, Length: 1207, dtype: int64"
      ]
     },
     "execution_count": 6,
     "metadata": {},
     "output_type": "execute_result"
    }
   ],
   "source": [
    "df.groupby([\"Class Name\"], dropna=False)[\"Clothing ID\"].value_counts()"
   ]
  },
  {
   "cell_type": "code",
   "execution_count": 7,
   "metadata": {},
   "outputs": [
    {
     "data": {
      "text/plain": [
       "1078    1024\n",
       "862      806\n",
       "1094     756\n",
       "1081     582\n",
       "872      545\n",
       "        ... \n",
       "776        1\n",
       "668        1\n",
       "633        1\n",
       "734        1\n",
       "522        1\n",
       "Name: Clothing ID, Length: 1206, dtype: int64"
      ]
     },
     "execution_count": 7,
     "metadata": {},
     "output_type": "execute_result"
    }
   ],
   "source": [
    "df[\"Clothing ID\"].value_counts()"
   ]
  },
  {
   "cell_type": "code",
   "execution_count": 8,
   "metadata": {},
   "outputs": [
    {
     "data": {
      "image/png": "[encoded data removed]",
      "text/plain": [
       "<Figure size 1008x504 with 1 Axes>"
      ]
     },
     "metadata": {
      "needs_background": "light"
     },
     "output_type": "display_data"
    }
   ],
   "source": [
    "plt.figure(figsize=(14,7))\n",
    "ax = sns.countplot(data = df, x =\"Class Name\", hue = \"Recommended IND\")\n",
    "for p in ax.containers:\n",
    "    ax.bar_label(p)\n",
    "plt.xticks(rotation=90, size=12)\n",
    "plt.show()"
   ]
  },
  {
   "cell_type": "code",
   "execution_count": 9,
   "metadata": {},
   "outputs": [
    {
     "data": {
      "image/png": "[encoded data removed]",
      "text/plain": [
       "<Figure size 720x432 with 1 Axes>"
      ]
     },
     "metadata": {
      "needs_background": "light"
     },
     "output_type": "display_data"
    }
   ],
   "source": [
    "ax = sns.countplot(data =df, x = \"Recommended IND\")\n",
    "ax.bar_label(ax.containers[0]);"
   ]
  },
  {
   "cell_type": "markdown",
   "metadata": {
    "id": "T54GVJwICV36"
   },
   "source": [
    "### Data Wrangling"
   ]
  },
  {
   "cell_type": "markdown",
   "metadata": {
    "id": "AQuhTpcwCV38"
   },
   "source": [
    "#### Check Proportion of Target Class Variable:"
   ]
  },
  {
   "cell_type": "markdown",
   "metadata": {
    "id": "0YXKZ5QgCV39"
   },
   "source": [
    "The target class variable is imbalanced, where \"Recommended\" values are more dominating then \"Not Recommendation\"."
   ]
  },
  {
   "cell_type": "code",
   "execution_count": 10,
   "metadata": {
    "id": "TX1Vq6KByaaZ"
   },
   "outputs": [
    {
     "data": {
      "text/plain": [
       "1    19314\n",
       "0     4172\n",
       "Name: Recommended IND, dtype: int64"
      ]
     },
     "execution_count": 10,
     "metadata": {},
     "output_type": "execute_result"
    }
   ],
   "source": [
    "df[\"Recommended IND\"].value_counts()"
   ]
  },
  {
   "cell_type": "markdown",
   "metadata": {
    "id": "cPEVV0JGCV37"
   },
   "source": [
    "## 2. Feature Selection and Data Cleaning\n",
    "\n",
    "From now on, the DataFrame you will work with should contain two columns: **\"Review Text\"** and **\"Recommended IND\"**. You can do the missing value detection operations from now on. You can also rename the column names if you want.\n",
    "\n"
   ]
  },
  {
   "cell_type": "markdown",
   "metadata": {
    "id": "L06bPXRDyaaa"
   },
   "source": [
    "### Feature Selection and Rename Column Name"
   ]
  },
  {
   "cell_type": "code",
   "execution_count": 8,
   "metadata": {},
   "outputs": [],
   "source": [
    "df= df.rename(columns={\"Clothing ID\":\"Clothing_ID\",\"Recommended IND\":\"Recommended_IND\",\"Class Name\":\"Class_Name\",\"Review Text\":\"Review_Text\"})"
   ]
  },
  {
   "cell_type": "code",
   "execution_count": 12,
   "metadata": {},
   "outputs": [
    {
     "data": {
      "text/plain": [
       "Index(['Unnamed: 0', 'Clothing_ID', 'Age', 'Title', 'Review_Text', 'Rating',\n",
       "       'Recommended_IND', 'Positive Feedback Count', 'Division Name',\n",
       "       'Department Name', 'Class_Name'],\n",
       "      dtype='object')"
      ]
     },
     "execution_count": 12,
     "metadata": {},
     "output_type": "execute_result"
    }
   ],
   "source": [
    "df.columns"
   ]
  },
  {
   "cell_type": "code",
   "execution_count": 9,
   "metadata": {
    "id": "aS13LuaTyaaV"
   },
   "outputs": [],
   "source": [
    "df2 = df.copy()"
   ]
  },
  {
   "cell_type": "code",
   "execution_count": 14,
   "metadata": {
    "id": "x7ZxywoyyaaW"
   },
   "outputs": [
    {
     "data": {
      "text/plain": [
       "11905    I bought this during the 25% off dress sale, b...\n",
       "6085     I purchased this vest in the store. the colors...\n",
       "3912     Love this romper. fits perfectly, and looks li...\n",
       "5886     The detail on this top is beautiful, love the ...\n",
       "10426    I really like this dress. i tried it on in the...\n",
       "15017    Great jacket! warm as a coat yet thin enough t...\n",
       "4019     I don't usually have the best luck with pants ...\n",
       "10978    Beautiful skirt, love the colors. so glad i bo...\n",
       "11792    I ordered these in the taupe which is more lik...\n",
       "23354    The fabric has a smooth feel, and the shape is...\n",
       "11914    I usually wear a small or medium depending on ...\n",
       "12335    I ordered this shirt online and didn't even tr...\n",
       "2641     Love the bright colors! made really well!! sup...\n",
       "19472    Just as pictured, this little top is just too ...\n",
       "10276    Bought this blouse in white. fits great. can b...\n",
       "15882    I totally thought this was a dress when i trie...\n",
       "14387    Loved the bright pattern online and had hoped ...\n",
       "2660     I bought one pair last year and two more this ...\n",
       "21281    Looks great with skinny jeans or even white pa...\n",
       "18757    The first time i wore it, felt wonderful. had ...\n",
       "Name: Review_Text, dtype: object"
      ]
     },
     "execution_count": 14,
     "metadata": {},
     "output_type": "execute_result"
    }
   ],
   "source": [
    "df2[\"Review_Text\"].sample(20)"
   ]
  },
  {
   "cell_type": "code",
   "execution_count": 10,
   "metadata": {
    "id": "UzUwT6Alyaab",
    "scrolled": true
   },
   "outputs": [
    {
     "data": {
      "text/html": [
       "<div>\n",
       "<style scoped>\n",
       "    .dataframe tbody tr th:only-of-type {\n",
       "        vertical-align: middle;\n",
       "    }\n",
       "\n",
       "    .dataframe tbody tr th {\n",
       "        vertical-align: top;\n",
       "    }\n",
       "\n",
       "    .dataframe thead th {\n",
       "        text-align: right;\n",
       "    }\n",
       "</style>\n",
       "<table border=\"1\" class=\"dataframe\">\n",
       "  <thead>\n",
       "    <tr style=\"text-align: right;\">\n",
       "      <th></th>\n",
       "      <th>Recommended_IND</th>\n",
       "      <th>Review_Text</th>\n",
       "    </tr>\n",
       "  </thead>\n",
       "  <tbody>\n",
       "    <tr>\n",
       "      <th>0</th>\n",
       "      <td>1</td>\n",
       "      <td>Absolutely wonderful - silky and sexy and comf...</td>\n",
       "    </tr>\n",
       "    <tr>\n",
       "      <th>1</th>\n",
       "      <td>1</td>\n",
       "      <td>Love this dress!  it's sooo pretty.  i happene...</td>\n",
       "    </tr>\n",
       "    <tr>\n",
       "      <th>2</th>\n",
       "      <td>0</td>\n",
       "      <td>I had such high hopes for this dress and reall...</td>\n",
       "    </tr>\n",
       "    <tr>\n",
       "      <th>3</th>\n",
       "      <td>1</td>\n",
       "      <td>I love, love, love this jumpsuit. it's fun, fl...</td>\n",
       "    </tr>\n",
       "    <tr>\n",
       "      <th>4</th>\n",
       "      <td>1</td>\n",
       "      <td>This shirt is very flattering to all due to th...</td>\n",
       "    </tr>\n",
       "  </tbody>\n",
       "</table>\n",
       "</div>"
      ],
      "text/plain": [
       "   Recommended_IND                                        Review_Text\n",
       "0                1  Absolutely wonderful - silky and sexy and comf...\n",
       "1                1  Love this dress!  it's sooo pretty.  i happene...\n",
       "2                0  I had such high hopes for this dress and reall...\n",
       "3                1  I love, love, love this jumpsuit. it's fun, fl...\n",
       "4                1  This shirt is very flattering to all due to th..."
      ]
     },
     "execution_count": 10,
     "metadata": {},
     "output_type": "execute_result"
    }
   ],
   "source": [
    "df2 =df2[[\"Recommended_IND\", \"Review_Text\"]]\n",
    "df2.head()"
   ]
  },
  {
   "cell_type": "markdown",
   "metadata": {
    "id": "XxT4Uo_eyaac"
   },
   "source": [
    "---\n",
    "---\n"
   ]
  },
  {
   "cell_type": "code",
   "execution_count": null,
   "metadata": {},
   "outputs": [],
   "source": []
  },
  {
   "cell_type": "markdown",
   "metadata": {
    "id": "vl2h73vYCV38"
   },
   "source": [
    "### Missing Value Detection"
   ]
  },
  {
   "cell_type": "code",
   "execution_count": 15,
   "metadata": {},
   "outputs": [],
   "source": [
    "df2.dropna(subset=['Review_Text'], how='all', inplace = True)"
   ]
  },
  {
   "cell_type": "code",
   "execution_count": 16,
   "metadata": {
    "id": "tDw7hf8qyaad"
   },
   "outputs": [
    {
     "name": "stdout",
     "output_type": "stream",
     "text": [
      "<class 'pandas.core.frame.DataFrame'>\n",
      "Int64Index: 22641 entries, 0 to 23485\n",
      "Data columns (total 2 columns):\n",
      " #   Column           Non-Null Count  Dtype \n",
      "---  ------           --------------  ----- \n",
      " 0   Recommended_IND  22641 non-null  int64 \n",
      " 1   Review_Text      22641 non-null  object\n",
      "dtypes: int64(1), object(1)\n",
      "memory usage: 530.6+ KB\n"
     ]
    }
   ],
   "source": [
    "df2.info()"
   ]
  },
  {
   "cell_type": "markdown",
   "metadata": {
    "id": "w9qD9OwUyaae"
   },
   "source": [
    "---\n",
    "---\n"
   ]
  },
  {
   "cell_type": "markdown",
   "metadata": {
    "id": "WO_zLq2UCV39"
   },
   "source": [
    "## 3. Text Mining\n",
    "\n",
    "Text is the most unstructured form of all the available data, therefore various types of noise are present in it. This means that the data is not readily analyzable without any pre-processing. The entire process of cleaning and standardization of text, making it noise-free and ready for analysis is known as **text preprocessing**.\n",
    "\n",
    "The three key steps of text preprocessing:\n",
    "\n",
    "- **Tokenization:**\n",
    "This step is one of the top priorities when it comes to working on text mining. Tokenization is essentially splitting a phrase, sentence, paragraph, or an entire text document into smaller units, such as individual words or terms. Each of these smaller units are called tokens.\n",
    "\n",
    "- **Noise Removal:**\n",
    "Any piece of text which is not relevant to the context of the data and the end-output can be specified as the noise.\n",
    "For example – language stopwords (commonly used words of a language – is, am, the, of, in etc), URLs or links, upper and lower case differentiation, punctuations and industry specific words. This step deals with removal of all types of noisy entities present in the text.\n",
    "\n",
    "\n",
    "- **Lexicon Normalization:**\n",
    "Another type of textual noise is about the multiple representations exhibited by single word.\n",
    "For example – “play”, “player”, “played”, “plays” and “playing” are the different variations of the word – “play”. Though they mean different things, contextually they all are similar. This step converts all the disparities of a word into their normalized form (also known as lemma). \n",
    "There are two methods of lexicon normalisation; **[Stemming or Lemmatization](https://www.guru99.com/stemming-lemmatization-python-nltk.html)**. Lemmatization is recommended for this case, because Lemmatization as this will return the root form of each word (rather than just stripping suffixes, which is stemming).\n",
    "\n",
    "As the first step change text to tokens and convertion all of the words to lower case.  Next remove punctuation, bad characters, numbers and stop words. The second step is aimed to normalization them throught the Lemmatization method. \n",
    "\n",
    "\n",
    "***Note:*** *Use the functions of the ***[nltk Library](https://www.guru99.com/nltk-tutorial.html)*** for all the above operations.*\n",
    "\n"
   ]
  },
  {
   "cell_type": "markdown",
   "metadata": {
    "id": "vH7TYkFEyaaf"
   },
   "source": [
    "### Tokenization, Noise Removal, Lexicon Normalization"
   ]
  },
  {
   "cell_type": "code",
   "execution_count": 18,
   "metadata": {},
   "outputs": [
    {
     "data": {
      "text/plain": [
       "['i',\n",
       " 'me',\n",
       " 'my',\n",
       " 'myself',\n",
       " 'we',\n",
       " 'our',\n",
       " 'ours',\n",
       " 'ourselves',\n",
       " 'you',\n",
       " \"you're\",\n",
       " \"you've\",\n",
       " \"you'll\",\n",
       " \"you'd\",\n",
       " 'your',\n",
       " 'yours',\n",
       " 'yourself',\n",
       " 'yourselves',\n",
       " 'he',\n",
       " 'him',\n",
       " 'his',\n",
       " 'himself',\n",
       " 'she',\n",
       " \"she's\",\n",
       " 'her',\n",
       " 'hers',\n",
       " 'herself',\n",
       " 'it',\n",
       " \"it's\",\n",
       " 'its',\n",
       " 'itself',\n",
       " 'they',\n",
       " 'them',\n",
       " 'their',\n",
       " 'theirs',\n",
       " 'themselves',\n",
       " 'what',\n",
       " 'which',\n",
       " 'who',\n",
       " 'whom',\n",
       " 'this',\n",
       " 'that',\n",
       " \"that'll\",\n",
       " 'these',\n",
       " 'those',\n",
       " 'am',\n",
       " 'is',\n",
       " 'are',\n",
       " 'was',\n",
       " 'were',\n",
       " 'be',\n",
       " 'been',\n",
       " 'being',\n",
       " 'have',\n",
       " 'has',\n",
       " 'had',\n",
       " 'having',\n",
       " 'do',\n",
       " 'does',\n",
       " 'did',\n",
       " 'doing',\n",
       " 'a',\n",
       " 'an',\n",
       " 'the',\n",
       " 'and',\n",
       " 'but',\n",
       " 'if',\n",
       " 'or',\n",
       " 'because',\n",
       " 'as',\n",
       " 'until',\n",
       " 'while',\n",
       " 'of',\n",
       " 'at',\n",
       " 'by',\n",
       " 'for',\n",
       " 'with',\n",
       " 'about',\n",
       " 'against',\n",
       " 'between',\n",
       " 'into',\n",
       " 'through',\n",
       " 'during',\n",
       " 'before',\n",
       " 'after',\n",
       " 'above',\n",
       " 'below',\n",
       " 'to',\n",
       " 'from',\n",
       " 'up',\n",
       " 'down',\n",
       " 'in',\n",
       " 'out',\n",
       " 'on',\n",
       " 'off',\n",
       " 'over',\n",
       " 'under',\n",
       " 'again',\n",
       " 'further',\n",
       " 'then',\n",
       " 'once',\n",
       " 'here',\n",
       " 'there',\n",
       " 'when',\n",
       " 'where',\n",
       " 'why',\n",
       " 'how',\n",
       " 'all',\n",
       " 'any',\n",
       " 'both',\n",
       " 'each',\n",
       " 'few',\n",
       " 'more',\n",
       " 'most',\n",
       " 'other',\n",
       " 'some',\n",
       " 'such',\n",
       " 'no',\n",
       " 'nor',\n",
       " 'not',\n",
       " 'only',\n",
       " 'own',\n",
       " 'same',\n",
       " 'so',\n",
       " 'than',\n",
       " 'too',\n",
       " 'very',\n",
       " 's',\n",
       " 't',\n",
       " 'can',\n",
       " 'will',\n",
       " 'just',\n",
       " 'don',\n",
       " \"don't\",\n",
       " 'should',\n",
       " \"should've\",\n",
       " 'now',\n",
       " 'd',\n",
       " 'll',\n",
       " 'm',\n",
       " 'o',\n",
       " 're',\n",
       " 've',\n",
       " 'y',\n",
       " 'ain',\n",
       " 'aren',\n",
       " \"aren't\",\n",
       " 'couldn',\n",
       " \"couldn't\",\n",
       " 'didn',\n",
       " \"didn't\",\n",
       " 'doesn',\n",
       " \"doesn't\",\n",
       " 'hadn',\n",
       " \"hadn't\",\n",
       " 'hasn',\n",
       " \"hasn't\",\n",
       " 'haven',\n",
       " \"haven't\",\n",
       " 'isn',\n",
       " \"isn't\",\n",
       " 'ma',\n",
       " 'mightn',\n",
       " \"mightn't\",\n",
       " 'mustn',\n",
       " \"mustn't\",\n",
       " 'needn',\n",
       " \"needn't\",\n",
       " 'shan',\n",
       " \"shan't\",\n",
       " 'shouldn',\n",
       " \"shouldn't\",\n",
       " 'wasn',\n",
       " \"wasn't\",\n",
       " 'weren',\n",
       " \"weren't\",\n",
       " 'won',\n",
       " \"won't\",\n",
       " 'wouldn',\n",
       " \"wouldn't\"]"
      ]
     },
     "execution_count": 18,
     "metadata": {},
     "output_type": "execute_result"
    }
   ],
   "source": [
    "stopwords.words('english')"
   ]
  },
  {
   "cell_type": "code",
   "execution_count": 19,
   "metadata": {},
   "outputs": [],
   "source": [
    "stop_words = stopwords.words('english')\n",
    "\n",
    "for i in [\"not\", \"no\"]:\n",
    "        stop_words.remove(i)"
   ]
  },
  {
   "cell_type": "code",
   "execution_count": 20,
   "metadata": {
    "id": "odShfMvTyaab"
   },
   "outputs": [],
   "source": [
    "def cleaning(data):\n",
    "    \n",
    "    import re\n",
    "    \n",
    "    #1. Removing URLS\n",
    "    data = re.sub('http\\S+', '', data).strip()\n",
    "    data = re.sub('www\\S+', '', data).strip()\n",
    "\n",
    "    #2. Removing Tags\n",
    "    data = re.sub('#\\S+', '', data).strip()\n",
    "\n",
    "    #3. Removing Mentions\n",
    "    data = re.sub('@\\S+', '', data).strip()\n",
    "    \n",
    "    #4. Removing upper brackets to keep negative auxiliary verbs in text\n",
    "    data = data.replace(\"'\", \"\")\n",
    "    \n",
    "    #5. Tokenize\n",
    "    text_tokens = word_tokenize(data.lower())\n",
    "    \n",
    "    #6. Remove Puncs and number\n",
    "    tokens_without_punc = [w for w in text_tokens if w.isalpha()]\n",
    "    \n",
    "    #7. Removing Stopwords\n",
    "    tokens_without_sw = [t for t in tokens_without_punc if t not in stop_words]\n",
    "    \n",
    "    #8. lemma\n",
    "    text_cleaned = [WordNetLemmatizer().lemmatize(t) for t in tokens_without_sw]\n",
    "    \n",
    "    #joining\n",
    "    return \" \".join(text_cleaned)"
   ]
  },
  {
   "cell_type": "code",
   "execution_count": 21,
   "metadata": {},
   "outputs": [
    {
     "data": {
      "text/plain": [
       "0          absolutely wonderful silky sexy comfortable\n",
       "1    love dress sooo pretty happened find store im ...\n",
       "2    high hope dress really wanted work initially o...\n",
       "3    love love love jumpsuit fun flirty fabulous ev...\n",
       "4    shirt flattering due adjustable front tie perf...\n",
       "Name: Review_Text, dtype: object"
      ]
     },
     "execution_count": 21,
     "metadata": {},
     "output_type": "execute_result"
    }
   ],
   "source": [
    "cleaning_text = df2[\"Review_Text\"].apply(cleaning)\n",
    "cleaning_text.head()"
   ]
  },
  {
   "cell_type": "code",
   "execution_count": null,
   "metadata": {
    "id": "9bbvWQE_yaah"
   },
   "outputs": [],
   "source": []
  },
  {
   "cell_type": "code",
   "execution_count": null,
   "metadata": {
    "id": "Wl2p1vRoyaah"
   },
   "outputs": [],
   "source": []
  },
  {
   "cell_type": "markdown",
   "metadata": {
    "id": "_DTNRasaCV3-"
   },
   "source": [
    "## 4. WordCloud - Repetition of Words\n",
    "\n",
    "Now you'll create a Word Clouds for reviews, representing most common words in each target class.\n",
    "\n",
    "Word Cloud is a data visualization technique used for representing text data in which the size of each word indicates its frequency or importance. Significant textual data points can be highlighted using a word cloud.\n",
    "\n",
    "You are expected to create separate word clouds for positive and negative reviews. You can qualify a review as positive or negative, by looking at its recommended status. You may need to use capabilities of matplotlib for visualizations.\n",
    "\n",
    "You can follow the steps below:\n",
    "\n",
    "- Detect Reviews\n",
    "- Collect Words \n",
    "- Create Word Cloud \n"
   ]
  },
  {
   "cell_type": "markdown",
   "metadata": {
    "id": "IZoWiF7Lyaaj"
   },
   "source": [
    "### Detect Reviews (positive and negative separately)"
   ]
  },
  {
   "cell_type": "code",
   "execution_count": 22,
   "metadata": {
    "id": "SO6z4kUeyaak"
   },
   "outputs": [
    {
     "data": {
      "text/plain": [
       "1    19314\n",
       "0     4172\n",
       "Name: Recommended_IND, dtype: int64"
      ]
     },
     "execution_count": 22,
     "metadata": {},
     "output_type": "execute_result"
    }
   ],
   "source": [
    "df.Recommended_IND.value_counts()"
   ]
  },
  {
   "cell_type": "code",
   "execution_count": 23,
   "metadata": {
    "id": "0WEAXfPxyaal"
   },
   "outputs": [
    {
     "data": {
      "text/plain": [
       "1    0.822362\n",
       "0    0.177638\n",
       "Name: Recommended_IND, dtype: float64"
      ]
     },
     "execution_count": 23,
     "metadata": {},
     "output_type": "execute_result"
    }
   ],
   "source": [
    "df.Recommended_IND.value_counts(normalize=True)"
   ]
  },
  {
   "cell_type": "markdown",
   "metadata": {
    "id": "1WsF_3Zmyaam"
   },
   "source": [
    "### Collect Words (positive and negative separately)"
   ]
  },
  {
   "cell_type": "code",
   "execution_count": 24,
   "metadata": {
    "id": "9sgKO679yaam"
   },
   "outputs": [
    {
     "data": {
      "text/plain": [
       "0        Absolutely wonderful - silky and sexy and comf...\n",
       "1        Love this dress!  it's sooo pretty.  i happene...\n",
       "3        I love, love, love this jumpsuit. it's fun, fl...\n",
       "4        This shirt is very flattering to all due to th...\n",
       "6        I aded this in my basket at hte last mintue to...\n",
       "                               ...                        \n",
       "23479    So i wasn't sure about ordering this skirt bec...\n",
       "23481    I was very happy to snag this dress at such a ...\n",
       "23482    It reminds me of maternity clothes. soft, stre...\n",
       "23484    I bought this dress for a wedding i have this ...\n",
       "23485    This dress in a lovely platinum is feminine an...\n",
       "Name: Review_Text, Length: 18540, dtype: object"
      ]
     },
     "execution_count": 24,
     "metadata": {},
     "output_type": "execute_result"
    }
   ],
   "source": [
    "positive_sen = df2[df2[\"Recommended_IND\"]==1][\"Review_Text\"]\n",
    "positive_sen"
   ]
  },
  {
   "cell_type": "code",
   "execution_count": 25,
   "metadata": {
    "id": "zo-wuz3Wyaam"
   },
   "outputs": [
    {
     "data": {
      "text/plain": [
       "array([['I had such high hopes for this dress and really wanted it to work for me. i initially ordered the petite small (my usual size) but i found this to be outrageously small. so small in fact that i could not zip it up! i reordered it in petite medium, which was just ok. overall, the top half was comfortable and fit nicely, but the bottom half had a very tight under layer and several somewhat cheap (net) over layers. imo, a major design flaw was the net over layer sewn directly into the zipper - it c',\n",
       "        'I love tracy reese dresses, but this one is not for the very petite. i am just under 5 feet tall and usually wear a 0p in this brand. this dress was very pretty out of the package but its a lot of dress. the skirt is long and very full so it overwhelmed my small frame. not a stranger to alterations, shortening and narrowing the skirt would take away from the embellishment of the garment. i love the color and the idea of the style but it just did not work on me. i returned this dress.',\n",
       "        'Dress runs small esp where the zipper area runs. i ordered the sp which typically fits me and it was very tight! the material on the top looks and feels very cheap that even just pulling on it will cause it to rip the fabric. pretty disappointed as it was going to be my christmas dress this year! needless to say it will be going back.',\n",
       "        ...,\n",
       "        \"I purchased this for a very good price and i typically love maeve... should have been a win-win. the fabric is thin and slinky in the most unfortunate way. it made finding appropriate undergarments very difficult. i had to add a slip (that helped) and figured that since i'm losing weight, it would look better when i'm down a few more pounds. that being said, i didn't find it to be figure flattering. i have a tummy and there was at least one photo from the bridal shower i wore this to, where i lo\",\n",
       "        'I was surprised at the positive reviews for this product. its terrible! it cuts you in a weird place to make you look wide. the skirt is also not like the picture. its darker and heavier. the material isnt great. i had to return.',\n",
       "        \"This fit well, but the top was very see through. this never would have worked for me. i'm glad i was able to try it on in the store and didn't order it online. with different fabric, it would have been great.\"]],\n",
       "      dtype=object)"
      ]
     },
     "execution_count": 25,
     "metadata": {},
     "output_type": "execute_result"
    }
   ],
   "source": [
    "negative_sen = df2[df2[\"Recommended_IND\"]==0][\"Review_Text\"]\n",
    "np.array([negative_sen])"
   ]
  },
  {
   "cell_type": "markdown",
   "metadata": {
    "id": "Fq8RVsr2yaan"
   },
   "source": [
    "### Create Word Cloud (for most common words in recommended not recommended reviews separately)"
   ]
  },
  {
   "cell_type": "code",
   "execution_count": 26,
   "metadata": {},
   "outputs": [],
   "source": [
    "#pip install wordcloud\n",
    "#conda install -c conda-forge wordcloud"
   ]
  },
  {
   "cell_type": "code",
   "execution_count": 27,
   "metadata": {
    "id": "YgwbzDWKyaan"
   },
   "outputs": [],
   "source": [
    "from wordcloud import WordCloud"
   ]
  },
  {
   "cell_type": "code",
   "execution_count": 28,
   "metadata": {
    "id": "_XxHfK43yaan"
   },
   "outputs": [],
   "source": [
    "worldcloud = WordCloud(background_color=\"white\", max_words =250)"
   ]
  },
  {
   "cell_type": "code",
   "execution_count": 29,
   "metadata": {},
   "outputs": [],
   "source": [
    "neg_sen = \" \".join(negative_sen)"
   ]
  },
  {
   "cell_type": "code",
   "execution_count": 30,
   "metadata": {},
   "outputs": [],
   "source": [
    "pos_sen = \" \".join(positive_sen)"
   ]
  },
  {
   "cell_type": "code",
   "execution_count": 31,
   "metadata": {
    "id": "wHCH7RuXyaan"
   },
   "outputs": [
    {
     "data": {
      "text/plain": [
       "<wordcloud.wordcloud.WordCloud at 0x1ed2a1403a0>"
      ]
     },
     "execution_count": 31,
     "metadata": {},
     "output_type": "execute_result"
    }
   ],
   "source": [
    "worldcloud.generate(neg_sen)"
   ]
  },
  {
   "cell_type": "code",
   "execution_count": 32,
   "metadata": {},
   "outputs": [
    {
     "data": {
      "text/plain": [
       "<wordcloud.wordcloud.WordCloud at 0x1ed2a1403a0>"
      ]
     },
     "execution_count": 32,
     "metadata": {},
     "output_type": "execute_result"
    }
   ],
   "source": [
    "worldcloud.generate(pos_sen)"
   ]
  },
  {
   "cell_type": "code",
   "execution_count": 33,
   "metadata": {},
   "outputs": [
    {
     "data": {
      "image/png": "[encoded data removed]",
      "text/plain": [
       "<Figure size 936x936 with 1 Axes>"
      ]
     },
     "metadata": {
      "needs_background": "light"
     },
     "output_type": "display_data"
    }
   ],
   "source": [
    "import matplotlib.pyplot as plt\n",
    "plt.figure(figsize = (13,13))\n",
    "plt.imshow(worldcloud, interpolation=\"bilinear\")\n",
    "plt.axis(\"off\")\n",
    "plt.show()"
   ]
  },
  {
   "cell_type": "markdown",
   "metadata": {
    "id": "-9_e1A26CV3_"
   },
   "source": [
    "## 5. Sentiment Classification with Machine Learning, Deep Learning and BERT model\n",
    "\n",
    "Before moving on to modeling, as data preprocessing steps you will need to perform **[vectorization](https://machinelearningmastery.com/prepare-text-data-machine-learning-scikit-learn/)** and **train-test split**. You have performed many times train test split process before.\n",
    "But you will perform the vectorization for the first time.\n",
    "\n",
    "Machine learning algorithms most often take numeric feature vectors as input. Thus, when working with text documents, you need a way to convert each document into a numeric vector. This process is known as text vectorization. Commonly used vectorization approach that you will use here is to represent each text as a vector of word counts.\n",
    "\n",
    "At this moment, you have your review text column as a token (which has no punctuations and stopwords). You can use Scikit-learn’s CountVectorizer to convert the text collection into a matrix of token counts. You can imagine this resulting matrix as a 2-D matrix, where each row is a unique word, and each column is a review.\n",
    "\n",
    "Train all models using TFIDF and Count vectorizer data.\n",
    "\n",
    "**For Deep learning model, use embedding layer for all words.** \n",
    "\n",
    "**For BERT model, use TF tensor**\n",
    "\n",
    "After performing data preprocessing, build your models using following classification algorithms:\n",
    "\n",
    "- Logistic Regression,\n",
    "- Naive Bayes,\n",
    "- Support Vector Machine,\n",
    "- Random Forest,\n",
    "- Ada Boosting\n",
    "- Deep Learning Model\n",
    "- BERT Model"
   ]
  },
  {
   "cell_type": "markdown",
   "metadata": {
    "id": "1qZC05fWyaao"
   },
   "source": [
    "### Train - Test Split"
   ]
  },
  {
   "cell_type": "markdown",
   "metadata": {
    "id": "T2SMUUrxCV3_"
   },
   "source": [
    "To run machine learning algorithms we need to convert text files into numerical feature vectors. We will use bag of words model for our analysis.\n",
    "\n",
    "First we spliting the data into train and test sets:"
   ]
  },
  {
   "cell_type": "code",
   "execution_count": 34,
   "metadata": {
    "id": "_5jiM8T8yaap"
   },
   "outputs": [],
   "source": [
    "from sklearn.model_selection import train_test_split"
   ]
  },
  {
   "cell_type": "code",
   "execution_count": 35,
   "metadata": {
    "id": "zljupyBkyaap"
   },
   "outputs": [],
   "source": [
    "X = df2[\"Review_Text\"]\n",
    "y= df2[\"Recommended_IND\"]"
   ]
  },
  {
   "cell_type": "code",
   "execution_count": 36,
   "metadata": {},
   "outputs": [],
   "source": [
    "X_train, X_test, y_train, y_test = train_test_split(X, y, test_size=0.2, stratify=y, random_state=101)"
   ]
  },
  {
   "cell_type": "markdown",
   "metadata": {
    "id": "adhWeL_iCV3_"
   },
   "source": [
    "In the next step we create a numerical feature vector for each document:"
   ]
  },
  {
   "cell_type": "markdown",
   "metadata": {
    "id": "kMPV90pbyaaq"
   },
   "source": [
    "### Count Vectorization"
   ]
  },
  {
   "cell_type": "code",
   "execution_count": 37,
   "metadata": {
    "id": "9y67aO62yaar"
   },
   "outputs": [],
   "source": [
    "from sklearn.feature_extraction.text import CountVectorizer"
   ]
  },
  {
   "cell_type": "code",
   "execution_count": 38,
   "metadata": {},
   "outputs": [],
   "source": [
    "vectorizer = CountVectorizer(preprocessor=cleaning, min_df=3) # ngram_range=(1,2), max_features= 1500\n",
    "X_train_count = vectorizer.fit_transform(X_train)\n",
    "X_test_count = vectorizer.transform(X_test)\n",
    "\n",
    "# min_df = 3    --> corpusumda 3'den daha az document'da (yorumda) geçen tokenleri ignore et.\n",
    "# max_df = 1000 --> corpusumda 1000'den daha fazla document'da (yorumda) geçen tokenleri ignore et. (0.95, 1.0)\n",
    "\n",
    "# max_features = 1500 --> corpusumda en sık kullanılan ilk 1500 feature (tokeni) dikkate al diğerlerini ignore et."
   ]
  },
  {
   "cell_type": "code",
   "execution_count": 39,
   "metadata": {},
   "outputs": [
    {
     "data": {
      "text/plain": [
       "array([[0, 0, 0, ..., 0, 0, 0],\n",
       "       [0, 0, 0, ..., 0, 0, 0],\n",
       "       [0, 0, 0, ..., 0, 0, 0],\n",
       "       ...,\n",
       "       [0, 0, 0, ..., 0, 0, 0],\n",
       "       [0, 0, 0, ..., 0, 0, 0],\n",
       "       [0, 0, 0, ..., 0, 0, 0]], dtype=int64)"
      ]
     },
     "execution_count": 39,
     "metadata": {},
     "output_type": "execute_result"
    }
   ],
   "source": [
    "X_train_count.toarray()"
   ]
  },
  {
   "cell_type": "code",
   "execution_count": 40,
   "metadata": {},
   "outputs": [
    {
     "data": {
      "text/html": [
       "<div>\n",
       "<style scoped>\n",
       "    .dataframe tbody tr th:only-of-type {\n",
       "        vertical-align: middle;\n",
       "    }\n",
       "\n",
       "    .dataframe tbody tr th {\n",
       "        vertical-align: top;\n",
       "    }\n",
       "\n",
       "    .dataframe thead th {\n",
       "        text-align: right;\n",
       "    }\n",
       "</style>\n",
       "<table border=\"1\" class=\"dataframe\">\n",
       "  <thead>\n",
       "    <tr style=\"text-align: right;\">\n",
       "      <th></th>\n",
       "      <th>ab</th>\n",
       "      <th>abby</th>\n",
       "      <th>abdomen</th>\n",
       "      <th>ability</th>\n",
       "      <th>able</th>\n",
       "      <th>abo</th>\n",
       "      <th>absolute</th>\n",
       "      <th>absolutely</th>\n",
       "      <th>absolutley</th>\n",
       "      <th>abstract</th>\n",
       "      <th>abt</th>\n",
       "      <th>abundance</th>\n",
       "      <th>ac</th>\n",
       "      <th>accent</th>\n",
       "      <th>accented</th>\n",
       "      <th>accentuate</th>\n",
       "      <th>accentuated</th>\n",
       "      <th>accentuates</th>\n",
       "      <th>accentuating</th>\n",
       "      <th>acceptable</th>\n",
       "      <th>access</th>\n",
       "      <th>accessorize</th>\n",
       "      <th>accessorized</th>\n",
       "      <th>accessory</th>\n",
       "      <th>accident</th>\n",
       "      <th>...</th>\n",
       "      <th>yet</th>\n",
       "      <th>yikes</th>\n",
       "      <th>yo</th>\n",
       "      <th>yoga</th>\n",
       "      <th>yoke</th>\n",
       "      <th>york</th>\n",
       "      <th>youd</th>\n",
       "      <th>youll</th>\n",
       "      <th>young</th>\n",
       "      <th>younger</th>\n",
       "      <th>youre</th>\n",
       "      <th>youthful</th>\n",
       "      <th>youve</th>\n",
       "      <th>yr</th>\n",
       "      <th>yuck</th>\n",
       "      <th>yucky</th>\n",
       "      <th>yummy</th>\n",
       "      <th>zero</th>\n",
       "      <th>zip</th>\n",
       "      <th>zipped</th>\n",
       "      <th>zipper</th>\n",
       "      <th>zippered</th>\n",
       "      <th>zipping</th>\n",
       "      <th>zone</th>\n",
       "      <th>zoom</th>\n",
       "    </tr>\n",
       "  </thead>\n",
       "  <tbody>\n",
       "    <tr>\n",
       "      <th>0</th>\n",
       "      <td>0</td>\n",
       "      <td>0</td>\n",
       "      <td>0</td>\n",
       "      <td>0</td>\n",
       "      <td>0</td>\n",
       "      <td>0</td>\n",
       "      <td>0</td>\n",
       "      <td>0</td>\n",
       "      <td>0</td>\n",
       "      <td>0</td>\n",
       "      <td>0</td>\n",
       "      <td>0</td>\n",
       "      <td>0</td>\n",
       "      <td>0</td>\n",
       "      <td>0</td>\n",
       "      <td>0</td>\n",
       "      <td>0</td>\n",
       "      <td>0</td>\n",
       "      <td>0</td>\n",
       "      <td>0</td>\n",
       "      <td>0</td>\n",
       "      <td>0</td>\n",
       "      <td>0</td>\n",
       "      <td>0</td>\n",
       "      <td>0</td>\n",
       "      <td>...</td>\n",
       "      <td>0</td>\n",
       "      <td>0</td>\n",
       "      <td>0</td>\n",
       "      <td>0</td>\n",
       "      <td>0</td>\n",
       "      <td>0</td>\n",
       "      <td>0</td>\n",
       "      <td>0</td>\n",
       "      <td>0</td>\n",
       "      <td>0</td>\n",
       "      <td>0</td>\n",
       "      <td>0</td>\n",
       "      <td>0</td>\n",
       "      <td>0</td>\n",
       "      <td>0</td>\n",
       "      <td>0</td>\n",
       "      <td>0</td>\n",
       "      <td>0</td>\n",
       "      <td>0</td>\n",
       "      <td>0</td>\n",
       "      <td>0</td>\n",
       "      <td>0</td>\n",
       "      <td>0</td>\n",
       "      <td>0</td>\n",
       "      <td>0</td>\n",
       "    </tr>\n",
       "    <tr>\n",
       "      <th>1</th>\n",
       "      <td>0</td>\n",
       "      <td>0</td>\n",
       "      <td>0</td>\n",
       "      <td>0</td>\n",
       "      <td>0</td>\n",
       "      <td>0</td>\n",
       "      <td>0</td>\n",
       "      <td>0</td>\n",
       "      <td>0</td>\n",
       "      <td>0</td>\n",
       "      <td>0</td>\n",
       "      <td>0</td>\n",
       "      <td>0</td>\n",
       "      <td>0</td>\n",
       "      <td>0</td>\n",
       "      <td>0</td>\n",
       "      <td>0</td>\n",
       "      <td>0</td>\n",
       "      <td>0</td>\n",
       "      <td>0</td>\n",
       "      <td>0</td>\n",
       "      <td>0</td>\n",
       "      <td>0</td>\n",
       "      <td>0</td>\n",
       "      <td>0</td>\n",
       "      <td>...</td>\n",
       "      <td>0</td>\n",
       "      <td>0</td>\n",
       "      <td>0</td>\n",
       "      <td>0</td>\n",
       "      <td>0</td>\n",
       "      <td>0</td>\n",
       "      <td>0</td>\n",
       "      <td>0</td>\n",
       "      <td>0</td>\n",
       "      <td>0</td>\n",
       "      <td>0</td>\n",
       "      <td>0</td>\n",
       "      <td>0</td>\n",
       "      <td>0</td>\n",
       "      <td>0</td>\n",
       "      <td>0</td>\n",
       "      <td>0</td>\n",
       "      <td>0</td>\n",
       "      <td>0</td>\n",
       "      <td>0</td>\n",
       "      <td>0</td>\n",
       "      <td>0</td>\n",
       "      <td>0</td>\n",
       "      <td>0</td>\n",
       "      <td>0</td>\n",
       "    </tr>\n",
       "    <tr>\n",
       "      <th>2</th>\n",
       "      <td>0</td>\n",
       "      <td>0</td>\n",
       "      <td>0</td>\n",
       "      <td>0</td>\n",
       "      <td>0</td>\n",
       "      <td>0</td>\n",
       "      <td>0</td>\n",
       "      <td>0</td>\n",
       "      <td>0</td>\n",
       "      <td>0</td>\n",
       "      <td>0</td>\n",
       "      <td>0</td>\n",
       "      <td>0</td>\n",
       "      <td>0</td>\n",
       "      <td>0</td>\n",
       "      <td>0</td>\n",
       "      <td>0</td>\n",
       "      <td>0</td>\n",
       "      <td>0</td>\n",
       "      <td>0</td>\n",
       "      <td>0</td>\n",
       "      <td>0</td>\n",
       "      <td>0</td>\n",
       "      <td>0</td>\n",
       "      <td>0</td>\n",
       "      <td>...</td>\n",
       "      <td>0</td>\n",
       "      <td>0</td>\n",
       "      <td>0</td>\n",
       "      <td>0</td>\n",
       "      <td>0</td>\n",
       "      <td>0</td>\n",
       "      <td>0</td>\n",
       "      <td>0</td>\n",
       "      <td>0</td>\n",
       "      <td>0</td>\n",
       "      <td>0</td>\n",
       "      <td>0</td>\n",
       "      <td>0</td>\n",
       "      <td>0</td>\n",
       "      <td>0</td>\n",
       "      <td>0</td>\n",
       "      <td>0</td>\n",
       "      <td>0</td>\n",
       "      <td>0</td>\n",
       "      <td>0</td>\n",
       "      <td>0</td>\n",
       "      <td>0</td>\n",
       "      <td>0</td>\n",
       "      <td>0</td>\n",
       "      <td>0</td>\n",
       "    </tr>\n",
       "    <tr>\n",
       "      <th>3</th>\n",
       "      <td>0</td>\n",
       "      <td>0</td>\n",
       "      <td>0</td>\n",
       "      <td>0</td>\n",
       "      <td>0</td>\n",
       "      <td>0</td>\n",
       "      <td>0</td>\n",
       "      <td>0</td>\n",
       "      <td>0</td>\n",
       "      <td>0</td>\n",
       "      <td>0</td>\n",
       "      <td>0</td>\n",
       "      <td>0</td>\n",
       "      <td>0</td>\n",
       "      <td>0</td>\n",
       "      <td>0</td>\n",
       "      <td>0</td>\n",
       "      <td>0</td>\n",
       "      <td>0</td>\n",
       "      <td>0</td>\n",
       "      <td>0</td>\n",
       "      <td>0</td>\n",
       "      <td>0</td>\n",
       "      <td>0</td>\n",
       "      <td>0</td>\n",
       "      <td>...</td>\n",
       "      <td>0</td>\n",
       "      <td>0</td>\n",
       "      <td>0</td>\n",
       "      <td>0</td>\n",
       "      <td>0</td>\n",
       "      <td>0</td>\n",
       "      <td>0</td>\n",
       "      <td>0</td>\n",
       "      <td>0</td>\n",
       "      <td>0</td>\n",
       "      <td>0</td>\n",
       "      <td>0</td>\n",
       "      <td>0</td>\n",
       "      <td>0</td>\n",
       "      <td>0</td>\n",
       "      <td>0</td>\n",
       "      <td>0</td>\n",
       "      <td>0</td>\n",
       "      <td>0</td>\n",
       "      <td>0</td>\n",
       "      <td>0</td>\n",
       "      <td>0</td>\n",
       "      <td>0</td>\n",
       "      <td>0</td>\n",
       "      <td>0</td>\n",
       "    </tr>\n",
       "    <tr>\n",
       "      <th>4</th>\n",
       "      <td>0</td>\n",
       "      <td>0</td>\n",
       "      <td>0</td>\n",
       "      <td>0</td>\n",
       "      <td>0</td>\n",
       "      <td>0</td>\n",
       "      <td>0</td>\n",
       "      <td>0</td>\n",
       "      <td>0</td>\n",
       "      <td>0</td>\n",
       "      <td>0</td>\n",
       "      <td>0</td>\n",
       "      <td>0</td>\n",
       "      <td>0</td>\n",
       "      <td>0</td>\n",
       "      <td>0</td>\n",
       "      <td>0</td>\n",
       "      <td>0</td>\n",
       "      <td>0</td>\n",
       "      <td>0</td>\n",
       "      <td>0</td>\n",
       "      <td>0</td>\n",
       "      <td>0</td>\n",
       "      <td>0</td>\n",
       "      <td>0</td>\n",
       "      <td>...</td>\n",
       "      <td>0</td>\n",
       "      <td>0</td>\n",
       "      <td>0</td>\n",
       "      <td>0</td>\n",
       "      <td>0</td>\n",
       "      <td>0</td>\n",
       "      <td>0</td>\n",
       "      <td>0</td>\n",
       "      <td>0</td>\n",
       "      <td>0</td>\n",
       "      <td>0</td>\n",
       "      <td>0</td>\n",
       "      <td>0</td>\n",
       "      <td>0</td>\n",
       "      <td>0</td>\n",
       "      <td>0</td>\n",
       "      <td>0</td>\n",
       "      <td>0</td>\n",
       "      <td>0</td>\n",
       "      <td>0</td>\n",
       "      <td>0</td>\n",
       "      <td>0</td>\n",
       "      <td>0</td>\n",
       "      <td>0</td>\n",
       "      <td>0</td>\n",
       "    </tr>\n",
       "    <tr>\n",
       "      <th>...</th>\n",
       "      <td>...</td>\n",
       "      <td>...</td>\n",
       "      <td>...</td>\n",
       "      <td>...</td>\n",
       "      <td>...</td>\n",
       "      <td>...</td>\n",
       "      <td>...</td>\n",
       "      <td>...</td>\n",
       "      <td>...</td>\n",
       "      <td>...</td>\n",
       "      <td>...</td>\n",
       "      <td>...</td>\n",
       "      <td>...</td>\n",
       "      <td>...</td>\n",
       "      <td>...</td>\n",
       "      <td>...</td>\n",
       "      <td>...</td>\n",
       "      <td>...</td>\n",
       "      <td>...</td>\n",
       "      <td>...</td>\n",
       "      <td>...</td>\n",
       "      <td>...</td>\n",
       "      <td>...</td>\n",
       "      <td>...</td>\n",
       "      <td>...</td>\n",
       "      <td>...</td>\n",
       "      <td>...</td>\n",
       "      <td>...</td>\n",
       "      <td>...</td>\n",
       "      <td>...</td>\n",
       "      <td>...</td>\n",
       "      <td>...</td>\n",
       "      <td>...</td>\n",
       "      <td>...</td>\n",
       "      <td>...</td>\n",
       "      <td>...</td>\n",
       "      <td>...</td>\n",
       "      <td>...</td>\n",
       "      <td>...</td>\n",
       "      <td>...</td>\n",
       "      <td>...</td>\n",
       "      <td>...</td>\n",
       "      <td>...</td>\n",
       "      <td>...</td>\n",
       "      <td>...</td>\n",
       "      <td>...</td>\n",
       "      <td>...</td>\n",
       "      <td>...</td>\n",
       "      <td>...</td>\n",
       "      <td>...</td>\n",
       "      <td>...</td>\n",
       "    </tr>\n",
       "    <tr>\n",
       "      <th>18107</th>\n",
       "      <td>0</td>\n",
       "      <td>0</td>\n",
       "      <td>0</td>\n",
       "      <td>0</td>\n",
       "      <td>0</td>\n",
       "      <td>0</td>\n",
       "      <td>0</td>\n",
       "      <td>0</td>\n",
       "      <td>0</td>\n",
       "      <td>0</td>\n",
       "      <td>0</td>\n",
       "      <td>0</td>\n",
       "      <td>0</td>\n",
       "      <td>0</td>\n",
       "      <td>0</td>\n",
       "      <td>0</td>\n",
       "      <td>0</td>\n",
       "      <td>0</td>\n",
       "      <td>0</td>\n",
       "      <td>0</td>\n",
       "      <td>0</td>\n",
       "      <td>0</td>\n",
       "      <td>0</td>\n",
       "      <td>0</td>\n",
       "      <td>0</td>\n",
       "      <td>...</td>\n",
       "      <td>0</td>\n",
       "      <td>0</td>\n",
       "      <td>0</td>\n",
       "      <td>0</td>\n",
       "      <td>0</td>\n",
       "      <td>0</td>\n",
       "      <td>0</td>\n",
       "      <td>0</td>\n",
       "      <td>0</td>\n",
       "      <td>0</td>\n",
       "      <td>0</td>\n",
       "      <td>0</td>\n",
       "      <td>0</td>\n",
       "      <td>0</td>\n",
       "      <td>0</td>\n",
       "      <td>0</td>\n",
       "      <td>0</td>\n",
       "      <td>0</td>\n",
       "      <td>0</td>\n",
       "      <td>0</td>\n",
       "      <td>0</td>\n",
       "      <td>0</td>\n",
       "      <td>0</td>\n",
       "      <td>0</td>\n",
       "      <td>0</td>\n",
       "    </tr>\n",
       "    <tr>\n",
       "      <th>18108</th>\n",
       "      <td>0</td>\n",
       "      <td>0</td>\n",
       "      <td>0</td>\n",
       "      <td>0</td>\n",
       "      <td>0</td>\n",
       "      <td>0</td>\n",
       "      <td>0</td>\n",
       "      <td>0</td>\n",
       "      <td>0</td>\n",
       "      <td>0</td>\n",
       "      <td>0</td>\n",
       "      <td>0</td>\n",
       "      <td>0</td>\n",
       "      <td>0</td>\n",
       "      <td>0</td>\n",
       "      <td>0</td>\n",
       "      <td>0</td>\n",
       "      <td>0</td>\n",
       "      <td>0</td>\n",
       "      <td>0</td>\n",
       "      <td>0</td>\n",
       "      <td>0</td>\n",
       "      <td>0</td>\n",
       "      <td>0</td>\n",
       "      <td>0</td>\n",
       "      <td>...</td>\n",
       "      <td>0</td>\n",
       "      <td>0</td>\n",
       "      <td>0</td>\n",
       "      <td>0</td>\n",
       "      <td>0</td>\n",
       "      <td>0</td>\n",
       "      <td>0</td>\n",
       "      <td>0</td>\n",
       "      <td>0</td>\n",
       "      <td>0</td>\n",
       "      <td>0</td>\n",
       "      <td>0</td>\n",
       "      <td>0</td>\n",
       "      <td>0</td>\n",
       "      <td>0</td>\n",
       "      <td>0</td>\n",
       "      <td>0</td>\n",
       "      <td>0</td>\n",
       "      <td>0</td>\n",
       "      <td>0</td>\n",
       "      <td>0</td>\n",
       "      <td>0</td>\n",
       "      <td>0</td>\n",
       "      <td>0</td>\n",
       "      <td>0</td>\n",
       "    </tr>\n",
       "    <tr>\n",
       "      <th>18109</th>\n",
       "      <td>0</td>\n",
       "      <td>0</td>\n",
       "      <td>0</td>\n",
       "      <td>0</td>\n",
       "      <td>0</td>\n",
       "      <td>0</td>\n",
       "      <td>0</td>\n",
       "      <td>0</td>\n",
       "      <td>0</td>\n",
       "      <td>0</td>\n",
       "      <td>0</td>\n",
       "      <td>0</td>\n",
       "      <td>0</td>\n",
       "      <td>0</td>\n",
       "      <td>0</td>\n",
       "      <td>0</td>\n",
       "      <td>0</td>\n",
       "      <td>0</td>\n",
       "      <td>0</td>\n",
       "      <td>0</td>\n",
       "      <td>0</td>\n",
       "      <td>0</td>\n",
       "      <td>0</td>\n",
       "      <td>0</td>\n",
       "      <td>0</td>\n",
       "      <td>...</td>\n",
       "      <td>0</td>\n",
       "      <td>0</td>\n",
       "      <td>0</td>\n",
       "      <td>0</td>\n",
       "      <td>0</td>\n",
       "      <td>0</td>\n",
       "      <td>0</td>\n",
       "      <td>0</td>\n",
       "      <td>0</td>\n",
       "      <td>0</td>\n",
       "      <td>0</td>\n",
       "      <td>0</td>\n",
       "      <td>0</td>\n",
       "      <td>0</td>\n",
       "      <td>0</td>\n",
       "      <td>0</td>\n",
       "      <td>0</td>\n",
       "      <td>0</td>\n",
       "      <td>0</td>\n",
       "      <td>0</td>\n",
       "      <td>0</td>\n",
       "      <td>0</td>\n",
       "      <td>0</td>\n",
       "      <td>0</td>\n",
       "      <td>0</td>\n",
       "    </tr>\n",
       "    <tr>\n",
       "      <th>18110</th>\n",
       "      <td>0</td>\n",
       "      <td>0</td>\n",
       "      <td>0</td>\n",
       "      <td>0</td>\n",
       "      <td>0</td>\n",
       "      <td>0</td>\n",
       "      <td>0</td>\n",
       "      <td>0</td>\n",
       "      <td>0</td>\n",
       "      <td>0</td>\n",
       "      <td>0</td>\n",
       "      <td>0</td>\n",
       "      <td>0</td>\n",
       "      <td>0</td>\n",
       "      <td>0</td>\n",
       "      <td>0</td>\n",
       "      <td>0</td>\n",
       "      <td>0</td>\n",
       "      <td>0</td>\n",
       "      <td>0</td>\n",
       "      <td>0</td>\n",
       "      <td>0</td>\n",
       "      <td>0</td>\n",
       "      <td>0</td>\n",
       "      <td>0</td>\n",
       "      <td>...</td>\n",
       "      <td>0</td>\n",
       "      <td>0</td>\n",
       "      <td>0</td>\n",
       "      <td>0</td>\n",
       "      <td>0</td>\n",
       "      <td>0</td>\n",
       "      <td>0</td>\n",
       "      <td>0</td>\n",
       "      <td>0</td>\n",
       "      <td>0</td>\n",
       "      <td>0</td>\n",
       "      <td>0</td>\n",
       "      <td>0</td>\n",
       "      <td>0</td>\n",
       "      <td>0</td>\n",
       "      <td>0</td>\n",
       "      <td>0</td>\n",
       "      <td>0</td>\n",
       "      <td>0</td>\n",
       "      <td>0</td>\n",
       "      <td>0</td>\n",
       "      <td>0</td>\n",
       "      <td>0</td>\n",
       "      <td>0</td>\n",
       "      <td>0</td>\n",
       "    </tr>\n",
       "    <tr>\n",
       "      <th>18111</th>\n",
       "      <td>0</td>\n",
       "      <td>0</td>\n",
       "      <td>0</td>\n",
       "      <td>0</td>\n",
       "      <td>0</td>\n",
       "      <td>0</td>\n",
       "      <td>0</td>\n",
       "      <td>0</td>\n",
       "      <td>0</td>\n",
       "      <td>0</td>\n",
       "      <td>0</td>\n",
       "      <td>0</td>\n",
       "      <td>0</td>\n",
       "      <td>0</td>\n",
       "      <td>0</td>\n",
       "      <td>0</td>\n",
       "      <td>0</td>\n",
       "      <td>0</td>\n",
       "      <td>0</td>\n",
       "      <td>0</td>\n",
       "      <td>0</td>\n",
       "      <td>0</td>\n",
       "      <td>0</td>\n",
       "      <td>0</td>\n",
       "      <td>0</td>\n",
       "      <td>...</td>\n",
       "      <td>0</td>\n",
       "      <td>0</td>\n",
       "      <td>0</td>\n",
       "      <td>0</td>\n",
       "      <td>0</td>\n",
       "      <td>0</td>\n",
       "      <td>0</td>\n",
       "      <td>0</td>\n",
       "      <td>0</td>\n",
       "      <td>0</td>\n",
       "      <td>0</td>\n",
       "      <td>0</td>\n",
       "      <td>0</td>\n",
       "      <td>0</td>\n",
       "      <td>0</td>\n",
       "      <td>0</td>\n",
       "      <td>0</td>\n",
       "      <td>0</td>\n",
       "      <td>0</td>\n",
       "      <td>0</td>\n",
       "      <td>0</td>\n",
       "      <td>0</td>\n",
       "      <td>0</td>\n",
       "      <td>0</td>\n",
       "      <td>0</td>\n",
       "    </tr>\n",
       "  </tbody>\n",
       "</table>\n",
       "<p>18112 rows × 4917 columns</p>\n",
       "</div>"
      ],
      "text/plain": [
       "       ab  abby  abdomen  ability  able  abo  absolute  absolutely  \\\n",
       "0       0     0        0        0     0    0         0           0   \n",
       "1       0     0        0        0     0    0         0           0   \n",
       "2       0     0        0        0     0    0         0           0   \n",
       "3       0     0        0        0     0    0         0           0   \n",
       "4       0     0        0        0     0    0         0           0   \n",
       "...    ..   ...      ...      ...   ...  ...       ...         ...   \n",
       "18107   0     0        0        0     0    0         0           0   \n",
       "18108   0     0        0        0     0    0         0           0   \n",
       "18109   0     0        0        0     0    0         0           0   \n",
       "18110   0     0        0        0     0    0         0           0   \n",
       "18111   0     0        0        0     0    0         0           0   \n",
       "\n",
       "       absolutley  abstract  abt  abundance  ac  accent  accented  accentuate  \\\n",
       "0               0         0    0          0   0       0         0           0   \n",
       "1               0         0    0          0   0       0         0           0   \n",
       "2               0         0    0          0   0       0         0           0   \n",
       "3               0         0    0          0   0       0         0           0   \n",
       "4               0         0    0          0   0       0         0           0   \n",
       "...           ...       ...  ...        ...  ..     ...       ...         ...   \n",
       "18107           0         0    0          0   0       0         0           0   \n",
       "18108           0         0    0          0   0       0         0           0   \n",
       "18109           0         0    0          0   0       0         0           0   \n",
       "18110           0         0    0          0   0       0         0           0   \n",
       "18111           0         0    0          0   0       0         0           0   \n",
       "\n",
       "       accentuated  accentuates  accentuating  acceptable  access  \\\n",
       "0                0            0             0           0       0   \n",
       "1                0            0             0           0       0   \n",
       "2                0            0             0           0       0   \n",
       "3                0            0             0           0       0   \n",
       "4                0            0             0           0       0   \n",
       "...            ...          ...           ...         ...     ...   \n",
       "18107            0            0             0           0       0   \n",
       "18108            0            0             0           0       0   \n",
       "18109            0            0             0           0       0   \n",
       "18110            0            0             0           0       0   \n",
       "18111            0            0             0           0       0   \n",
       "\n",
       "       accessorize  accessorized  accessory  accident  ...  yet  yikes  yo  \\\n",
       "0                0             0          0         0  ...    0      0   0   \n",
       "1                0             0          0         0  ...    0      0   0   \n",
       "2                0             0          0         0  ...    0      0   0   \n",
       "3                0             0          0         0  ...    0      0   0   \n",
       "4                0             0          0         0  ...    0      0   0   \n",
       "...            ...           ...        ...       ...  ...  ...    ...  ..   \n",
       "18107            0             0          0         0  ...    0      0   0   \n",
       "18108            0             0          0         0  ...    0      0   0   \n",
       "18109            0             0          0         0  ...    0      0   0   \n",
       "18110            0             0          0         0  ...    0      0   0   \n",
       "18111            0             0          0         0  ...    0      0   0   \n",
       "\n",
       "       yoga  yoke  york  youd  youll  young  younger  youre  youthful  youve  \\\n",
       "0         0     0     0     0      0      0        0      0         0      0   \n",
       "1         0     0     0     0      0      0        0      0         0      0   \n",
       "2         0     0     0     0      0      0        0      0         0      0   \n",
       "3         0     0     0     0      0      0        0      0         0      0   \n",
       "4         0     0     0     0      0      0        0      0         0      0   \n",
       "...     ...   ...   ...   ...    ...    ...      ...    ...       ...    ...   \n",
       "18107     0     0     0     0      0      0        0      0         0      0   \n",
       "18108     0     0     0     0      0      0        0      0         0      0   \n",
       "18109     0     0     0     0      0      0        0      0         0      0   \n",
       "18110     0     0     0     0      0      0        0      0         0      0   \n",
       "18111     0     0     0     0      0      0        0      0         0      0   \n",
       "\n",
       "       yr  yuck  yucky  yummy  zero  zip  zipped  zipper  zippered  zipping  \\\n",
       "0       0     0      0      0     0    0       0       0         0        0   \n",
       "1       0     0      0      0     0    0       0       0         0        0   \n",
       "2       0     0      0      0     0    0       0       0         0        0   \n",
       "3       0     0      0      0     0    0       0       0         0        0   \n",
       "4       0     0      0      0     0    0       0       0         0        0   \n",
       "...    ..   ...    ...    ...   ...  ...     ...     ...       ...      ...   \n",
       "18107   0     0      0      0     0    0       0       0         0        0   \n",
       "18108   0     0      0      0     0    0       0       0         0        0   \n",
       "18109   0     0      0      0     0    0       0       0         0        0   \n",
       "18110   0     0      0      0     0    0       0       0         0        0   \n",
       "18111   0     0      0      0     0    0       0       0         0        0   \n",
       "\n",
       "       zone  zoom  \n",
       "0         0     0  \n",
       "1         0     0  \n",
       "2         0     0  \n",
       "3         0     0  \n",
       "4         0     0  \n",
       "...     ...   ...  \n",
       "18107     0     0  \n",
       "18108     0     0  \n",
       "18109     0     0  \n",
       "18110     0     0  \n",
       "18111     0     0  \n",
       "\n",
       "[18112 rows x 4917 columns]"
      ]
     },
     "execution_count": 40,
     "metadata": {},
     "output_type": "execute_result"
    }
   ],
   "source": [
    "pd.DataFrame(X_train_count.toarray(), columns = vectorizer.get_feature_names_out())"
   ]
  },
  {
   "cell_type": "code",
   "execution_count": 41,
   "metadata": {},
   "outputs": [],
   "source": [
    "from sklearn.metrics import confusion_matrix, classification_report, f1_score, recall_score"
   ]
  },
  {
   "cell_type": "code",
   "execution_count": 42,
   "metadata": {},
   "outputs": [],
   "source": [
    "def eval(model, X_train, X_test):\n",
    "    y_pred = model.predict(X_test)\n",
    "    y_pred_train = model.predict(X_train)\n",
    "    print(confusion_matrix(y_test, y_pred))\n",
    "    print(\"Test_Set\")\n",
    "    print(classification_report(y_test,y_pred))\n",
    "    print(\"Train_Set\")\n",
    "    print(classification_report(y_train,y_pred_train))\n",
    "    "
   ]
  },
  {
   "cell_type": "markdown",
   "metadata": {
    "id": "3hI_P6_Ryaar"
   },
   "source": [
    "### TF-IDF"
   ]
  },
  {
   "cell_type": "code",
   "execution_count": 43,
   "metadata": {
    "id": "vSSP6ZJkyaar"
   },
   "outputs": [],
   "source": [
    "from sklearn.feature_extraction.text import TfidfVectorizer"
   ]
  },
  {
   "cell_type": "code",
   "execution_count": 44,
   "metadata": {
    "id": "23B1N2XSyaas"
   },
   "outputs": [],
   "source": [
    "tf_idf_vectorizer = TfidfVectorizer(preprocessor=cleaning, min_df=3)\n",
    "X_train_tf_idf = tf_idf_vectorizer.fit_transform(X_train)\n",
    "X_test_tf_idf = tf_idf_vectorizer.transform(X_test)"
   ]
  },
  {
   "cell_type": "code",
   "execution_count": 45,
   "metadata": {},
   "outputs": [
    {
     "data": {
      "text/plain": [
       "array([[0., 0., 0., ..., 0., 0., 0.],\n",
       "       [0., 0., 0., ..., 0., 0., 0.],\n",
       "       [0., 0., 0., ..., 0., 0., 0.],\n",
       "       ...,\n",
       "       [0., 0., 0., ..., 0., 0., 0.],\n",
       "       [0., 0., 0., ..., 0., 0., 0.],\n",
       "       [0., 0., 0., ..., 0., 0., 0.]])"
      ]
     },
     "execution_count": 45,
     "metadata": {},
     "output_type": "execute_result"
    }
   ],
   "source": [
    "X_train_tf_idf.toarray()"
   ]
  },
  {
   "cell_type": "code",
   "execution_count": 46,
   "metadata": {},
   "outputs": [
    {
     "data": {
      "text/html": [
       "<div>\n",
       "<style scoped>\n",
       "    .dataframe tbody tr th:only-of-type {\n",
       "        vertical-align: middle;\n",
       "    }\n",
       "\n",
       "    .dataframe tbody tr th {\n",
       "        vertical-align: top;\n",
       "    }\n",
       "\n",
       "    .dataframe thead th {\n",
       "        text-align: right;\n",
       "    }\n",
       "</style>\n",
       "<table border=\"1\" class=\"dataframe\">\n",
       "  <thead>\n",
       "    <tr style=\"text-align: right;\">\n",
       "      <th></th>\n",
       "      <th>ab</th>\n",
       "      <th>abby</th>\n",
       "      <th>abdomen</th>\n",
       "      <th>ability</th>\n",
       "      <th>able</th>\n",
       "      <th>abo</th>\n",
       "      <th>absolute</th>\n",
       "      <th>absolutely</th>\n",
       "      <th>absolutley</th>\n",
       "      <th>abstract</th>\n",
       "      <th>abt</th>\n",
       "      <th>abundance</th>\n",
       "      <th>ac</th>\n",
       "      <th>accent</th>\n",
       "      <th>accented</th>\n",
       "      <th>accentuate</th>\n",
       "      <th>accentuated</th>\n",
       "      <th>accentuates</th>\n",
       "      <th>accentuating</th>\n",
       "      <th>acceptable</th>\n",
       "      <th>access</th>\n",
       "      <th>accessorize</th>\n",
       "      <th>accessorized</th>\n",
       "      <th>accessory</th>\n",
       "      <th>accident</th>\n",
       "      <th>...</th>\n",
       "      <th>yet</th>\n",
       "      <th>yikes</th>\n",
       "      <th>yo</th>\n",
       "      <th>yoga</th>\n",
       "      <th>yoke</th>\n",
       "      <th>york</th>\n",
       "      <th>youd</th>\n",
       "      <th>youll</th>\n",
       "      <th>young</th>\n",
       "      <th>younger</th>\n",
       "      <th>youre</th>\n",
       "      <th>youthful</th>\n",
       "      <th>youve</th>\n",
       "      <th>yr</th>\n",
       "      <th>yuck</th>\n",
       "      <th>yucky</th>\n",
       "      <th>yummy</th>\n",
       "      <th>zero</th>\n",
       "      <th>zip</th>\n",
       "      <th>zipped</th>\n",
       "      <th>zipper</th>\n",
       "      <th>zippered</th>\n",
       "      <th>zipping</th>\n",
       "      <th>zone</th>\n",
       "      <th>zoom</th>\n",
       "    </tr>\n",
       "  </thead>\n",
       "  <tbody>\n",
       "    <tr>\n",
       "      <th>0</th>\n",
       "      <td>0.0</td>\n",
       "      <td>0.0</td>\n",
       "      <td>0.0</td>\n",
       "      <td>0.0</td>\n",
       "      <td>0.0</td>\n",
       "      <td>0.0</td>\n",
       "      <td>0.0</td>\n",
       "      <td>0.0</td>\n",
       "      <td>0.0</td>\n",
       "      <td>0.0</td>\n",
       "      <td>0.0</td>\n",
       "      <td>0.0</td>\n",
       "      <td>0.0</td>\n",
       "      <td>0.0</td>\n",
       "      <td>0.0</td>\n",
       "      <td>0.0</td>\n",
       "      <td>0.0</td>\n",
       "      <td>0.0</td>\n",
       "      <td>0.0</td>\n",
       "      <td>0.0</td>\n",
       "      <td>0.0</td>\n",
       "      <td>0.0</td>\n",
       "      <td>0.0</td>\n",
       "      <td>0.0</td>\n",
       "      <td>0.0</td>\n",
       "      <td>...</td>\n",
       "      <td>0.0</td>\n",
       "      <td>0.0</td>\n",
       "      <td>0.0</td>\n",
       "      <td>0.0</td>\n",
       "      <td>0.0</td>\n",
       "      <td>0.0</td>\n",
       "      <td>0.0</td>\n",
       "      <td>0.0</td>\n",
       "      <td>0.0</td>\n",
       "      <td>0.0</td>\n",
       "      <td>0.0</td>\n",
       "      <td>0.0</td>\n",
       "      <td>0.0</td>\n",
       "      <td>0.0</td>\n",
       "      <td>0.0</td>\n",
       "      <td>0.0</td>\n",
       "      <td>0.0</td>\n",
       "      <td>0.0</td>\n",
       "      <td>0.0</td>\n",
       "      <td>0.0</td>\n",
       "      <td>0.0</td>\n",
       "      <td>0.0</td>\n",
       "      <td>0.0</td>\n",
       "      <td>0.0</td>\n",
       "      <td>0.0</td>\n",
       "    </tr>\n",
       "    <tr>\n",
       "      <th>1</th>\n",
       "      <td>0.0</td>\n",
       "      <td>0.0</td>\n",
       "      <td>0.0</td>\n",
       "      <td>0.0</td>\n",
       "      <td>0.0</td>\n",
       "      <td>0.0</td>\n",
       "      <td>0.0</td>\n",
       "      <td>0.0</td>\n",
       "      <td>0.0</td>\n",
       "      <td>0.0</td>\n",
       "      <td>0.0</td>\n",
       "      <td>0.0</td>\n",
       "      <td>0.0</td>\n",
       "      <td>0.0</td>\n",
       "      <td>0.0</td>\n",
       "      <td>0.0</td>\n",
       "      <td>0.0</td>\n",
       "      <td>0.0</td>\n",
       "      <td>0.0</td>\n",
       "      <td>0.0</td>\n",
       "      <td>0.0</td>\n",
       "      <td>0.0</td>\n",
       "      <td>0.0</td>\n",
       "      <td>0.0</td>\n",
       "      <td>0.0</td>\n",
       "      <td>...</td>\n",
       "      <td>0.0</td>\n",
       "      <td>0.0</td>\n",
       "      <td>0.0</td>\n",
       "      <td>0.0</td>\n",
       "      <td>0.0</td>\n",
       "      <td>0.0</td>\n",
       "      <td>0.0</td>\n",
       "      <td>0.0</td>\n",
       "      <td>0.0</td>\n",
       "      <td>0.0</td>\n",
       "      <td>0.0</td>\n",
       "      <td>0.0</td>\n",
       "      <td>0.0</td>\n",
       "      <td>0.0</td>\n",
       "      <td>0.0</td>\n",
       "      <td>0.0</td>\n",
       "      <td>0.0</td>\n",
       "      <td>0.0</td>\n",
       "      <td>0.0</td>\n",
       "      <td>0.0</td>\n",
       "      <td>0.0</td>\n",
       "      <td>0.0</td>\n",
       "      <td>0.0</td>\n",
       "      <td>0.0</td>\n",
       "      <td>0.0</td>\n",
       "    </tr>\n",
       "    <tr>\n",
       "      <th>2</th>\n",
       "      <td>0.0</td>\n",
       "      <td>0.0</td>\n",
       "      <td>0.0</td>\n",
       "      <td>0.0</td>\n",
       "      <td>0.0</td>\n",
       "      <td>0.0</td>\n",
       "      <td>0.0</td>\n",
       "      <td>0.0</td>\n",
       "      <td>0.0</td>\n",
       "      <td>0.0</td>\n",
       "      <td>0.0</td>\n",
       "      <td>0.0</td>\n",
       "      <td>0.0</td>\n",
       "      <td>0.0</td>\n",
       "      <td>0.0</td>\n",
       "      <td>0.0</td>\n",
       "      <td>0.0</td>\n",
       "      <td>0.0</td>\n",
       "      <td>0.0</td>\n",
       "      <td>0.0</td>\n",
       "      <td>0.0</td>\n",
       "      <td>0.0</td>\n",
       "      <td>0.0</td>\n",
       "      <td>0.0</td>\n",
       "      <td>0.0</td>\n",
       "      <td>...</td>\n",
       "      <td>0.0</td>\n",
       "      <td>0.0</td>\n",
       "      <td>0.0</td>\n",
       "      <td>0.0</td>\n",
       "      <td>0.0</td>\n",
       "      <td>0.0</td>\n",
       "      <td>0.0</td>\n",
       "      <td>0.0</td>\n",
       "      <td>0.0</td>\n",
       "      <td>0.0</td>\n",
       "      <td>0.0</td>\n",
       "      <td>0.0</td>\n",
       "      <td>0.0</td>\n",
       "      <td>0.0</td>\n",
       "      <td>0.0</td>\n",
       "      <td>0.0</td>\n",
       "      <td>0.0</td>\n",
       "      <td>0.0</td>\n",
       "      <td>0.0</td>\n",
       "      <td>0.0</td>\n",
       "      <td>0.0</td>\n",
       "      <td>0.0</td>\n",
       "      <td>0.0</td>\n",
       "      <td>0.0</td>\n",
       "      <td>0.0</td>\n",
       "    </tr>\n",
       "    <tr>\n",
       "      <th>3</th>\n",
       "      <td>0.0</td>\n",
       "      <td>0.0</td>\n",
       "      <td>0.0</td>\n",
       "      <td>0.0</td>\n",
       "      <td>0.0</td>\n",
       "      <td>0.0</td>\n",
       "      <td>0.0</td>\n",
       "      <td>0.0</td>\n",
       "      <td>0.0</td>\n",
       "      <td>0.0</td>\n",
       "      <td>0.0</td>\n",
       "      <td>0.0</td>\n",
       "      <td>0.0</td>\n",
       "      <td>0.0</td>\n",
       "      <td>0.0</td>\n",
       "      <td>0.0</td>\n",
       "      <td>0.0</td>\n",
       "      <td>0.0</td>\n",
       "      <td>0.0</td>\n",
       "      <td>0.0</td>\n",
       "      <td>0.0</td>\n",
       "      <td>0.0</td>\n",
       "      <td>0.0</td>\n",
       "      <td>0.0</td>\n",
       "      <td>0.0</td>\n",
       "      <td>...</td>\n",
       "      <td>0.0</td>\n",
       "      <td>0.0</td>\n",
       "      <td>0.0</td>\n",
       "      <td>0.0</td>\n",
       "      <td>0.0</td>\n",
       "      <td>0.0</td>\n",
       "      <td>0.0</td>\n",
       "      <td>0.0</td>\n",
       "      <td>0.0</td>\n",
       "      <td>0.0</td>\n",
       "      <td>0.0</td>\n",
       "      <td>0.0</td>\n",
       "      <td>0.0</td>\n",
       "      <td>0.0</td>\n",
       "      <td>0.0</td>\n",
       "      <td>0.0</td>\n",
       "      <td>0.0</td>\n",
       "      <td>0.0</td>\n",
       "      <td>0.0</td>\n",
       "      <td>0.0</td>\n",
       "      <td>0.0</td>\n",
       "      <td>0.0</td>\n",
       "      <td>0.0</td>\n",
       "      <td>0.0</td>\n",
       "      <td>0.0</td>\n",
       "    </tr>\n",
       "    <tr>\n",
       "      <th>4</th>\n",
       "      <td>0.0</td>\n",
       "      <td>0.0</td>\n",
       "      <td>0.0</td>\n",
       "      <td>0.0</td>\n",
       "      <td>0.0</td>\n",
       "      <td>0.0</td>\n",
       "      <td>0.0</td>\n",
       "      <td>0.0</td>\n",
       "      <td>0.0</td>\n",
       "      <td>0.0</td>\n",
       "      <td>0.0</td>\n",
       "      <td>0.0</td>\n",
       "      <td>0.0</td>\n",
       "      <td>0.0</td>\n",
       "      <td>0.0</td>\n",
       "      <td>0.0</td>\n",
       "      <td>0.0</td>\n",
       "      <td>0.0</td>\n",
       "      <td>0.0</td>\n",
       "      <td>0.0</td>\n",
       "      <td>0.0</td>\n",
       "      <td>0.0</td>\n",
       "      <td>0.0</td>\n",
       "      <td>0.0</td>\n",
       "      <td>0.0</td>\n",
       "      <td>...</td>\n",
       "      <td>0.0</td>\n",
       "      <td>0.0</td>\n",
       "      <td>0.0</td>\n",
       "      <td>0.0</td>\n",
       "      <td>0.0</td>\n",
       "      <td>0.0</td>\n",
       "      <td>0.0</td>\n",
       "      <td>0.0</td>\n",
       "      <td>0.0</td>\n",
       "      <td>0.0</td>\n",
       "      <td>0.0</td>\n",
       "      <td>0.0</td>\n",
       "      <td>0.0</td>\n",
       "      <td>0.0</td>\n",
       "      <td>0.0</td>\n",
       "      <td>0.0</td>\n",
       "      <td>0.0</td>\n",
       "      <td>0.0</td>\n",
       "      <td>0.0</td>\n",
       "      <td>0.0</td>\n",
       "      <td>0.0</td>\n",
       "      <td>0.0</td>\n",
       "      <td>0.0</td>\n",
       "      <td>0.0</td>\n",
       "      <td>0.0</td>\n",
       "    </tr>\n",
       "    <tr>\n",
       "      <th>...</th>\n",
       "      <td>...</td>\n",
       "      <td>...</td>\n",
       "      <td>...</td>\n",
       "      <td>...</td>\n",
       "      <td>...</td>\n",
       "      <td>...</td>\n",
       "      <td>...</td>\n",
       "      <td>...</td>\n",
       "      <td>...</td>\n",
       "      <td>...</td>\n",
       "      <td>...</td>\n",
       "      <td>...</td>\n",
       "      <td>...</td>\n",
       "      <td>...</td>\n",
       "      <td>...</td>\n",
       "      <td>...</td>\n",
       "      <td>...</td>\n",
       "      <td>...</td>\n",
       "      <td>...</td>\n",
       "      <td>...</td>\n",
       "      <td>...</td>\n",
       "      <td>...</td>\n",
       "      <td>...</td>\n",
       "      <td>...</td>\n",
       "      <td>...</td>\n",
       "      <td>...</td>\n",
       "      <td>...</td>\n",
       "      <td>...</td>\n",
       "      <td>...</td>\n",
       "      <td>...</td>\n",
       "      <td>...</td>\n",
       "      <td>...</td>\n",
       "      <td>...</td>\n",
       "      <td>...</td>\n",
       "      <td>...</td>\n",
       "      <td>...</td>\n",
       "      <td>...</td>\n",
       "      <td>...</td>\n",
       "      <td>...</td>\n",
       "      <td>...</td>\n",
       "      <td>...</td>\n",
       "      <td>...</td>\n",
       "      <td>...</td>\n",
       "      <td>...</td>\n",
       "      <td>...</td>\n",
       "      <td>...</td>\n",
       "      <td>...</td>\n",
       "      <td>...</td>\n",
       "      <td>...</td>\n",
       "      <td>...</td>\n",
       "      <td>...</td>\n",
       "    </tr>\n",
       "    <tr>\n",
       "      <th>18107</th>\n",
       "      <td>0.0</td>\n",
       "      <td>0.0</td>\n",
       "      <td>0.0</td>\n",
       "      <td>0.0</td>\n",
       "      <td>0.0</td>\n",
       "      <td>0.0</td>\n",
       "      <td>0.0</td>\n",
       "      <td>0.0</td>\n",
       "      <td>0.0</td>\n",
       "      <td>0.0</td>\n",
       "      <td>0.0</td>\n",
       "      <td>0.0</td>\n",
       "      <td>0.0</td>\n",
       "      <td>0.0</td>\n",
       "      <td>0.0</td>\n",
       "      <td>0.0</td>\n",
       "      <td>0.0</td>\n",
       "      <td>0.0</td>\n",
       "      <td>0.0</td>\n",
       "      <td>0.0</td>\n",
       "      <td>0.0</td>\n",
       "      <td>0.0</td>\n",
       "      <td>0.0</td>\n",
       "      <td>0.0</td>\n",
       "      <td>0.0</td>\n",
       "      <td>...</td>\n",
       "      <td>0.0</td>\n",
       "      <td>0.0</td>\n",
       "      <td>0.0</td>\n",
       "      <td>0.0</td>\n",
       "      <td>0.0</td>\n",
       "      <td>0.0</td>\n",
       "      <td>0.0</td>\n",
       "      <td>0.0</td>\n",
       "      <td>0.0</td>\n",
       "      <td>0.0</td>\n",
       "      <td>0.0</td>\n",
       "      <td>0.0</td>\n",
       "      <td>0.0</td>\n",
       "      <td>0.0</td>\n",
       "      <td>0.0</td>\n",
       "      <td>0.0</td>\n",
       "      <td>0.0</td>\n",
       "      <td>0.0</td>\n",
       "      <td>0.0</td>\n",
       "      <td>0.0</td>\n",
       "      <td>0.0</td>\n",
       "      <td>0.0</td>\n",
       "      <td>0.0</td>\n",
       "      <td>0.0</td>\n",
       "      <td>0.0</td>\n",
       "    </tr>\n",
       "    <tr>\n",
       "      <th>18108</th>\n",
       "      <td>0.0</td>\n",
       "      <td>0.0</td>\n",
       "      <td>0.0</td>\n",
       "      <td>0.0</td>\n",
       "      <td>0.0</td>\n",
       "      <td>0.0</td>\n",
       "      <td>0.0</td>\n",
       "      <td>0.0</td>\n",
       "      <td>0.0</td>\n",
       "      <td>0.0</td>\n",
       "      <td>0.0</td>\n",
       "      <td>0.0</td>\n",
       "      <td>0.0</td>\n",
       "      <td>0.0</td>\n",
       "      <td>0.0</td>\n",
       "      <td>0.0</td>\n",
       "      <td>0.0</td>\n",
       "      <td>0.0</td>\n",
       "      <td>0.0</td>\n",
       "      <td>0.0</td>\n",
       "      <td>0.0</td>\n",
       "      <td>0.0</td>\n",
       "      <td>0.0</td>\n",
       "      <td>0.0</td>\n",
       "      <td>0.0</td>\n",
       "      <td>...</td>\n",
       "      <td>0.0</td>\n",
       "      <td>0.0</td>\n",
       "      <td>0.0</td>\n",
       "      <td>0.0</td>\n",
       "      <td>0.0</td>\n",
       "      <td>0.0</td>\n",
       "      <td>0.0</td>\n",
       "      <td>0.0</td>\n",
       "      <td>0.0</td>\n",
       "      <td>0.0</td>\n",
       "      <td>0.0</td>\n",
       "      <td>0.0</td>\n",
       "      <td>0.0</td>\n",
       "      <td>0.0</td>\n",
       "      <td>0.0</td>\n",
       "      <td>0.0</td>\n",
       "      <td>0.0</td>\n",
       "      <td>0.0</td>\n",
       "      <td>0.0</td>\n",
       "      <td>0.0</td>\n",
       "      <td>0.0</td>\n",
       "      <td>0.0</td>\n",
       "      <td>0.0</td>\n",
       "      <td>0.0</td>\n",
       "      <td>0.0</td>\n",
       "    </tr>\n",
       "    <tr>\n",
       "      <th>18109</th>\n",
       "      <td>0.0</td>\n",
       "      <td>0.0</td>\n",
       "      <td>0.0</td>\n",
       "      <td>0.0</td>\n",
       "      <td>0.0</td>\n",
       "      <td>0.0</td>\n",
       "      <td>0.0</td>\n",
       "      <td>0.0</td>\n",
       "      <td>0.0</td>\n",
       "      <td>0.0</td>\n",
       "      <td>0.0</td>\n",
       "      <td>0.0</td>\n",
       "      <td>0.0</td>\n",
       "      <td>0.0</td>\n",
       "      <td>0.0</td>\n",
       "      <td>0.0</td>\n",
       "      <td>0.0</td>\n",
       "      <td>0.0</td>\n",
       "      <td>0.0</td>\n",
       "      <td>0.0</td>\n",
       "      <td>0.0</td>\n",
       "      <td>0.0</td>\n",
       "      <td>0.0</td>\n",
       "      <td>0.0</td>\n",
       "      <td>0.0</td>\n",
       "      <td>...</td>\n",
       "      <td>0.0</td>\n",
       "      <td>0.0</td>\n",
       "      <td>0.0</td>\n",
       "      <td>0.0</td>\n",
       "      <td>0.0</td>\n",
       "      <td>0.0</td>\n",
       "      <td>0.0</td>\n",
       "      <td>0.0</td>\n",
       "      <td>0.0</td>\n",
       "      <td>0.0</td>\n",
       "      <td>0.0</td>\n",
       "      <td>0.0</td>\n",
       "      <td>0.0</td>\n",
       "      <td>0.0</td>\n",
       "      <td>0.0</td>\n",
       "      <td>0.0</td>\n",
       "      <td>0.0</td>\n",
       "      <td>0.0</td>\n",
       "      <td>0.0</td>\n",
       "      <td>0.0</td>\n",
       "      <td>0.0</td>\n",
       "      <td>0.0</td>\n",
       "      <td>0.0</td>\n",
       "      <td>0.0</td>\n",
       "      <td>0.0</td>\n",
       "    </tr>\n",
       "    <tr>\n",
       "      <th>18110</th>\n",
       "      <td>0.0</td>\n",
       "      <td>0.0</td>\n",
       "      <td>0.0</td>\n",
       "      <td>0.0</td>\n",
       "      <td>0.0</td>\n",
       "      <td>0.0</td>\n",
       "      <td>0.0</td>\n",
       "      <td>0.0</td>\n",
       "      <td>0.0</td>\n",
       "      <td>0.0</td>\n",
       "      <td>0.0</td>\n",
       "      <td>0.0</td>\n",
       "      <td>0.0</td>\n",
       "      <td>0.0</td>\n",
       "      <td>0.0</td>\n",
       "      <td>0.0</td>\n",
       "      <td>0.0</td>\n",
       "      <td>0.0</td>\n",
       "      <td>0.0</td>\n",
       "      <td>0.0</td>\n",
       "      <td>0.0</td>\n",
       "      <td>0.0</td>\n",
       "      <td>0.0</td>\n",
       "      <td>0.0</td>\n",
       "      <td>0.0</td>\n",
       "      <td>...</td>\n",
       "      <td>0.0</td>\n",
       "      <td>0.0</td>\n",
       "      <td>0.0</td>\n",
       "      <td>0.0</td>\n",
       "      <td>0.0</td>\n",
       "      <td>0.0</td>\n",
       "      <td>0.0</td>\n",
       "      <td>0.0</td>\n",
       "      <td>0.0</td>\n",
       "      <td>0.0</td>\n",
       "      <td>0.0</td>\n",
       "      <td>0.0</td>\n",
       "      <td>0.0</td>\n",
       "      <td>0.0</td>\n",
       "      <td>0.0</td>\n",
       "      <td>0.0</td>\n",
       "      <td>0.0</td>\n",
       "      <td>0.0</td>\n",
       "      <td>0.0</td>\n",
       "      <td>0.0</td>\n",
       "      <td>0.0</td>\n",
       "      <td>0.0</td>\n",
       "      <td>0.0</td>\n",
       "      <td>0.0</td>\n",
       "      <td>0.0</td>\n",
       "    </tr>\n",
       "    <tr>\n",
       "      <th>18111</th>\n",
       "      <td>0.0</td>\n",
       "      <td>0.0</td>\n",
       "      <td>0.0</td>\n",
       "      <td>0.0</td>\n",
       "      <td>0.0</td>\n",
       "      <td>0.0</td>\n",
       "      <td>0.0</td>\n",
       "      <td>0.0</td>\n",
       "      <td>0.0</td>\n",
       "      <td>0.0</td>\n",
       "      <td>0.0</td>\n",
       "      <td>0.0</td>\n",
       "      <td>0.0</td>\n",
       "      <td>0.0</td>\n",
       "      <td>0.0</td>\n",
       "      <td>0.0</td>\n",
       "      <td>0.0</td>\n",
       "      <td>0.0</td>\n",
       "      <td>0.0</td>\n",
       "      <td>0.0</td>\n",
       "      <td>0.0</td>\n",
       "      <td>0.0</td>\n",
       "      <td>0.0</td>\n",
       "      <td>0.0</td>\n",
       "      <td>0.0</td>\n",
       "      <td>...</td>\n",
       "      <td>0.0</td>\n",
       "      <td>0.0</td>\n",
       "      <td>0.0</td>\n",
       "      <td>0.0</td>\n",
       "      <td>0.0</td>\n",
       "      <td>0.0</td>\n",
       "      <td>0.0</td>\n",
       "      <td>0.0</td>\n",
       "      <td>0.0</td>\n",
       "      <td>0.0</td>\n",
       "      <td>0.0</td>\n",
       "      <td>0.0</td>\n",
       "      <td>0.0</td>\n",
       "      <td>0.0</td>\n",
       "      <td>0.0</td>\n",
       "      <td>0.0</td>\n",
       "      <td>0.0</td>\n",
       "      <td>0.0</td>\n",
       "      <td>0.0</td>\n",
       "      <td>0.0</td>\n",
       "      <td>0.0</td>\n",
       "      <td>0.0</td>\n",
       "      <td>0.0</td>\n",
       "      <td>0.0</td>\n",
       "      <td>0.0</td>\n",
       "    </tr>\n",
       "  </tbody>\n",
       "</table>\n",
       "<p>18112 rows × 4917 columns</p>\n",
       "</div>"
      ],
      "text/plain": [
       "        ab  abby  abdomen  ability  able  abo  absolute  absolutely  \\\n",
       "0      0.0   0.0      0.0      0.0   0.0  0.0       0.0         0.0   \n",
       "1      0.0   0.0      0.0      0.0   0.0  0.0       0.0         0.0   \n",
       "2      0.0   0.0      0.0      0.0   0.0  0.0       0.0         0.0   \n",
       "3      0.0   0.0      0.0      0.0   0.0  0.0       0.0         0.0   \n",
       "4      0.0   0.0      0.0      0.0   0.0  0.0       0.0         0.0   \n",
       "...    ...   ...      ...      ...   ...  ...       ...         ...   \n",
       "18107  0.0   0.0      0.0      0.0   0.0  0.0       0.0         0.0   \n",
       "18108  0.0   0.0      0.0      0.0   0.0  0.0       0.0         0.0   \n",
       "18109  0.0   0.0      0.0      0.0   0.0  0.0       0.0         0.0   \n",
       "18110  0.0   0.0      0.0      0.0   0.0  0.0       0.0         0.0   \n",
       "18111  0.0   0.0      0.0      0.0   0.0  0.0       0.0         0.0   \n",
       "\n",
       "       absolutley  abstract  abt  abundance   ac  accent  accented  \\\n",
       "0             0.0       0.0  0.0        0.0  0.0     0.0       0.0   \n",
       "1             0.0       0.0  0.0        0.0  0.0     0.0       0.0   \n",
       "2             0.0       0.0  0.0        0.0  0.0     0.0       0.0   \n",
       "3             0.0       0.0  0.0        0.0  0.0     0.0       0.0   \n",
       "4             0.0       0.0  0.0        0.0  0.0     0.0       0.0   \n",
       "...           ...       ...  ...        ...  ...     ...       ...   \n",
       "18107         0.0       0.0  0.0        0.0  0.0     0.0       0.0   \n",
       "18108         0.0       0.0  0.0        0.0  0.0     0.0       0.0   \n",
       "18109         0.0       0.0  0.0        0.0  0.0     0.0       0.0   \n",
       "18110         0.0       0.0  0.0        0.0  0.0     0.0       0.0   \n",
       "18111         0.0       0.0  0.0        0.0  0.0     0.0       0.0   \n",
       "\n",
       "       accentuate  accentuated  accentuates  accentuating  acceptable  access  \\\n",
       "0             0.0          0.0          0.0           0.0         0.0     0.0   \n",
       "1             0.0          0.0          0.0           0.0         0.0     0.0   \n",
       "2             0.0          0.0          0.0           0.0         0.0     0.0   \n",
       "3             0.0          0.0          0.0           0.0         0.0     0.0   \n",
       "4             0.0          0.0          0.0           0.0         0.0     0.0   \n",
       "...           ...          ...          ...           ...         ...     ...   \n",
       "18107         0.0          0.0          0.0           0.0         0.0     0.0   \n",
       "18108         0.0          0.0          0.0           0.0         0.0     0.0   \n",
       "18109         0.0          0.0          0.0           0.0         0.0     0.0   \n",
       "18110         0.0          0.0          0.0           0.0         0.0     0.0   \n",
       "18111         0.0          0.0          0.0           0.0         0.0     0.0   \n",
       "\n",
       "       accessorize  accessorized  accessory  accident  ...  yet  yikes   yo  \\\n",
       "0              0.0           0.0        0.0       0.0  ...  0.0    0.0  0.0   \n",
       "1              0.0           0.0        0.0       0.0  ...  0.0    0.0  0.0   \n",
       "2              0.0           0.0        0.0       0.0  ...  0.0    0.0  0.0   \n",
       "3              0.0           0.0        0.0       0.0  ...  0.0    0.0  0.0   \n",
       "4              0.0           0.0        0.0       0.0  ...  0.0    0.0  0.0   \n",
       "...            ...           ...        ...       ...  ...  ...    ...  ...   \n",
       "18107          0.0           0.0        0.0       0.0  ...  0.0    0.0  0.0   \n",
       "18108          0.0           0.0        0.0       0.0  ...  0.0    0.0  0.0   \n",
       "18109          0.0           0.0        0.0       0.0  ...  0.0    0.0  0.0   \n",
       "18110          0.0           0.0        0.0       0.0  ...  0.0    0.0  0.0   \n",
       "18111          0.0           0.0        0.0       0.0  ...  0.0    0.0  0.0   \n",
       "\n",
       "       yoga  yoke  york  youd  youll  young  younger  youre  youthful  youve  \\\n",
       "0       0.0   0.0   0.0   0.0    0.0    0.0      0.0    0.0       0.0    0.0   \n",
       "1       0.0   0.0   0.0   0.0    0.0    0.0      0.0    0.0       0.0    0.0   \n",
       "2       0.0   0.0   0.0   0.0    0.0    0.0      0.0    0.0       0.0    0.0   \n",
       "3       0.0   0.0   0.0   0.0    0.0    0.0      0.0    0.0       0.0    0.0   \n",
       "4       0.0   0.0   0.0   0.0    0.0    0.0      0.0    0.0       0.0    0.0   \n",
       "...     ...   ...   ...   ...    ...    ...      ...    ...       ...    ...   \n",
       "18107   0.0   0.0   0.0   0.0    0.0    0.0      0.0    0.0       0.0    0.0   \n",
       "18108   0.0   0.0   0.0   0.0    0.0    0.0      0.0    0.0       0.0    0.0   \n",
       "18109   0.0   0.0   0.0   0.0    0.0    0.0      0.0    0.0       0.0    0.0   \n",
       "18110   0.0   0.0   0.0   0.0    0.0    0.0      0.0    0.0       0.0    0.0   \n",
       "18111   0.0   0.0   0.0   0.0    0.0    0.0      0.0    0.0       0.0    0.0   \n",
       "\n",
       "        yr  yuck  yucky  yummy  zero  zip  zipped  zipper  zippered  zipping  \\\n",
       "0      0.0   0.0    0.0    0.0   0.0  0.0     0.0     0.0       0.0      0.0   \n",
       "1      0.0   0.0    0.0    0.0   0.0  0.0     0.0     0.0       0.0      0.0   \n",
       "2      0.0   0.0    0.0    0.0   0.0  0.0     0.0     0.0       0.0      0.0   \n",
       "3      0.0   0.0    0.0    0.0   0.0  0.0     0.0     0.0       0.0      0.0   \n",
       "4      0.0   0.0    0.0    0.0   0.0  0.0     0.0     0.0       0.0      0.0   \n",
       "...    ...   ...    ...    ...   ...  ...     ...     ...       ...      ...   \n",
       "18107  0.0   0.0    0.0    0.0   0.0  0.0     0.0     0.0       0.0      0.0   \n",
       "18108  0.0   0.0    0.0    0.0   0.0  0.0     0.0     0.0       0.0      0.0   \n",
       "18109  0.0   0.0    0.0    0.0   0.0  0.0     0.0     0.0       0.0      0.0   \n",
       "18110  0.0   0.0    0.0    0.0   0.0  0.0     0.0     0.0       0.0      0.0   \n",
       "18111  0.0   0.0    0.0    0.0   0.0  0.0     0.0     0.0       0.0      0.0   \n",
       "\n",
       "       zone  zoom  \n",
       "0       0.0   0.0  \n",
       "1       0.0   0.0  \n",
       "2       0.0   0.0  \n",
       "3       0.0   0.0  \n",
       "4       0.0   0.0  \n",
       "...     ...   ...  \n",
       "18107   0.0   0.0  \n",
       "18108   0.0   0.0  \n",
       "18109   0.0   0.0  \n",
       "18110   0.0   0.0  \n",
       "18111   0.0   0.0  \n",
       "\n",
       "[18112 rows x 4917 columns]"
      ]
     },
     "execution_count": 46,
     "metadata": {},
     "output_type": "execute_result"
    }
   ],
   "source": [
    "pd.DataFrame(X_train_tf_idf.toarray(), columns = tf_idf_vectorizer.get_feature_names_out())"
   ]
  },
  {
   "cell_type": "markdown",
   "metadata": {
    "id": "xaVrkxRpCV3_"
   },
   "source": [
    "## Logistic Regression"
   ]
  },
  {
   "cell_type": "markdown",
   "metadata": {
    "id": "GbVbTgoYyaas"
   },
   "source": [
    "### CountVectorizer"
   ]
  },
  {
   "cell_type": "code",
   "execution_count": 47,
   "metadata": {
    "id": "SL84xDUfyaat"
   },
   "outputs": [
    {
     "data": {
      "text/plain": [
       "LogisticRegression(C=0.02, max_iter=1000)"
      ]
     },
     "execution_count": 47,
     "metadata": {},
     "output_type": "execute_result"
    }
   ],
   "source": [
    "from sklearn.linear_model import LogisticRegression\n",
    "log = LogisticRegression(C = 0.02, max_iter=1000) #class_weight='balanced'\n",
    "log.fit(X_train_count,y_train)"
   ]
  },
  {
   "cell_type": "code",
   "execution_count": 48,
   "metadata": {
    "id": "f8QC0uBYyaat"
   },
   "outputs": [
    {
     "name": "stdout",
     "output_type": "stream",
     "text": [
      "LOG MODEL\n",
      "[[ 395  425]\n",
      " [ 100 3609]]\n",
      "Test_Set\n",
      "              precision    recall  f1-score   support\n",
      "\n",
      "           0       0.80      0.48      0.60       820\n",
      "           1       0.89      0.97      0.93      3709\n",
      "\n",
      "    accuracy                           0.88      4529\n",
      "   macro avg       0.85      0.73      0.77      4529\n",
      "weighted avg       0.88      0.88      0.87      4529\n",
      "\n",
      "Train_Set\n",
      "              precision    recall  f1-score   support\n",
      "\n",
      "           0       0.81      0.50      0.62      3281\n",
      "           1       0.90      0.97      0.94     14831\n",
      "\n",
      "    accuracy                           0.89     18112\n",
      "   macro avg       0.86      0.74      0.78     18112\n",
      "weighted avg       0.88      0.89      0.88     18112\n",
      "\n"
     ]
    }
   ],
   "source": [
    "print(\"LOG MODEL\")\n",
    "eval(log, X_train_count, X_test_count)"
   ]
  },
  {
   "cell_type": "code",
   "execution_count": 49,
   "metadata": {
    "id": "wdYd2pAQyaat"
   },
   "outputs": [
    {
     "data": {
      "text/plain": [
       "test_accuracy          0.873730\n",
       "train_accuracy         0.887552\n",
       "test_precision-neg     0.887143\n",
       "train_precision-neg    0.896462\n",
       "test_recall-neg        0.969119\n",
       "train_recall-neg       0.975322\n",
       "test_f1-neg            0.926304\n",
       "train_f1-neg           0.934230\n",
       "dtype: float64"
      ]
     },
     "execution_count": 49,
     "metadata": {},
     "output_type": "execute_result"
    }
   ],
   "source": [
    "from sklearn.model_selection import cross_validate\n",
    "from sklearn.metrics import make_scorer\n",
    "from sklearn.metrics import f1_score, accuracy_score, precision_score, recall_score\n",
    "\n",
    "scoring = {'accuracy': make_scorer(accuracy_score),\n",
    "            'precision-neg': make_scorer(precision_score, average=None, labels=[1]),\n",
    "            'recall-neg': make_scorer(recall_score, average=None, labels = [1]),\n",
    "            'f1-neg': make_scorer(f1_score, average=None, labels = [1])}\n",
    "\n",
    "model = LogisticRegression(C = 0.02, max_iter=1000)\n",
    "scores = cross_validate(model, X_train_count, y_train, scoring = scoring, cv = 10, return_train_score=True)\n",
    "df_scores = pd.DataFrame(scores, index = range(1, 11))\n",
    "df_scores.mean()[2:]"
   ]
  },
  {
   "cell_type": "code",
   "execution_count": 50,
   "metadata": {},
   "outputs": [],
   "source": [
    "#conda install -c districtdatalabs yellowbrick"
   ]
  },
  {
   "cell_type": "code",
   "execution_count": 51,
   "metadata": {},
   "outputs": [
    {
     "data": {
      "image/png": "[encoded data removed]",
      "text/plain": [
       "<Figure size 576x396 with 1 Axes>"
      ]
     },
     "metadata": {},
     "output_type": "display_data"
    }
   ],
   "source": [
    "from yellowbrick.classifier import PrecisionRecallCurve\n",
    "\n",
    "viz = PrecisionRecallCurve(\n",
    "    LogisticRegression(C = 0.02, max_iter=1000),\n",
    "    classes=log.classes_,\n",
    "    per_class=True,\n",
    "    cmap=\"Set1\"\n",
    ")\n",
    "viz.fit(X_train_count,y_train)\n",
    "viz.score(X_test_count, y_test)\n",
    "viz.show();"
   ]
  },
  {
   "cell_type": "code",
   "execution_count": 52,
   "metadata": {},
   "outputs": [],
   "source": [
    "y_pred = log.predict(X_test_count)\n",
    "log_count_rec_positive = recall_score(y_test, y_pred, labels = [1], average = None)\n",
    "log_count_f1_positive = f1_score(y_test, y_pred, labels = [1], average = None)\n",
    "log_AP_positive = viz.score_"
   ]
  },
  {
   "cell_type": "code",
   "execution_count": 53,
   "metadata": {},
   "outputs": [
    {
     "data": {
      "text/plain": [
       "LogisticRegression(C=0.02, class_weight='balanced', max_iter=1000)"
      ]
     },
     "execution_count": 53,
     "metadata": {},
     "output_type": "execute_result"
    }
   ],
   "source": [
    "log = LogisticRegression(C = 0.02, max_iter=1000, class_weight='balanced')\n",
    "log.fit(X_train_count,y_train)"
   ]
  },
  {
   "cell_type": "code",
   "execution_count": 54,
   "metadata": {},
   "outputs": [
    {
     "name": "stdout",
     "output_type": "stream",
     "text": [
      "LOG MODEL BALANCED\n",
      "[[ 700  120]\n",
      " [ 537 3172]]\n",
      "Test_Set\n",
      "              precision    recall  f1-score   support\n",
      "\n",
      "           0       0.57      0.85      0.68       820\n",
      "           1       0.96      0.86      0.91      3709\n",
      "\n",
      "    accuracy                           0.85      4529\n",
      "   macro avg       0.76      0.85      0.79      4529\n",
      "weighted avg       0.89      0.85      0.87      4529\n",
      "\n",
      "Train_Set\n",
      "              precision    recall  f1-score   support\n",
      "\n",
      "           0       0.60      0.90      0.72      3281\n",
      "           1       0.97      0.87      0.92     14831\n",
      "\n",
      "    accuracy                           0.87     18112\n",
      "   macro avg       0.79      0.88      0.82     18112\n",
      "weighted avg       0.91      0.87      0.88     18112\n",
      "\n"
     ]
    }
   ],
   "source": [
    "print(\"LOG MODEL BALANCED\")\n",
    "eval(log, X_train_count, X_test_count)"
   ]
  },
  {
   "cell_type": "markdown",
   "metadata": {
    "id": "wCVIPEEfyaat"
   },
   "source": [
    "### TF-IDF"
   ]
  },
  {
   "cell_type": "code",
   "execution_count": 55,
   "metadata": {
    "id": "nGLZC3pXyaau"
   },
   "outputs": [
    {
     "data": {
      "text/plain": [
       "LogisticRegression(C=0.4, max_iter=1000)"
      ]
     },
     "execution_count": 55,
     "metadata": {},
     "output_type": "execute_result"
    }
   ],
   "source": [
    "from sklearn.linear_model import LogisticRegression\n",
    "log = LogisticRegression(C = 0.4, max_iter=1000) #class_weight='balanced'\n",
    "log.fit(X_train_tf_idf,y_train)"
   ]
  },
  {
   "cell_type": "code",
   "execution_count": 56,
   "metadata": {
    "id": "EqWSaoNUyaau"
   },
   "outputs": [
    {
     "name": "stdout",
     "output_type": "stream",
     "text": [
      "LOG MODEL\n",
      "[[ 366  454]\n",
      " [  75 3634]]\n",
      "Test_Set\n",
      "              precision    recall  f1-score   support\n",
      "\n",
      "           0       0.83      0.45      0.58       820\n",
      "           1       0.89      0.98      0.93      3709\n",
      "\n",
      "    accuracy                           0.88      4529\n",
      "   macro avg       0.86      0.71      0.76      4529\n",
      "weighted avg       0.88      0.88      0.87      4529\n",
      "\n",
      "Train_Set\n",
      "              precision    recall  f1-score   support\n",
      "\n",
      "           0       0.85      0.47      0.61      3281\n",
      "           1       0.89      0.98      0.94     14831\n",
      "\n",
      "    accuracy                           0.89     18112\n",
      "   macro avg       0.87      0.73      0.77     18112\n",
      "weighted avg       0.89      0.89      0.88     18112\n",
      "\n"
     ]
    }
   ],
   "source": [
    "print(\"LOG MODEL\")\n",
    "eval(log, X_train_tf_idf, X_test_tf_idf)"
   ]
  },
  {
   "cell_type": "code",
   "execution_count": 101,
   "metadata": {},
   "outputs": [
    {
     "data": {
      "text/plain": [
       "test_accuracy               0.873951\n",
       "train_accuracy              0.887558\n",
       "test_precision positive     0.881016\n",
       "train_precision positive    0.891162\n",
       "test_recall positive        0.978221\n",
       "train_recall positive       0.982701\n",
       "test_f1 positive            0.927059\n",
       "train_f1 positive           0.934695\n",
       "dtype: float64"
      ]
     },
     "execution_count": 101,
     "metadata": {},
     "output_type": "execute_result"
    }
   ],
   "source": [
    "model = LogisticRegression(C=0.4, max_iter=1000)\n",
    "scores = cross_validate(model, X_train_tf_idf, y_train, scoring = scoring, cv = 10, return_train_score=True)\n",
    "df_scores = pd.DataFrame(scores, index = range(1, 11))\n",
    "df_scores.mean()[2:]"
   ]
  },
  {
   "cell_type": "code",
   "execution_count": 102,
   "metadata": {},
   "outputs": [
    {
     "data": {
      "image/png": "[encoded data removed]",
      "text/plain": [
       "<Figure size 576x396 with 1 Axes>"
      ]
     },
     "metadata": {},
     "output_type": "display_data"
    }
   ],
   "source": [
    "viz = PrecisionRecallCurve(\n",
    "    LogisticRegression(C=0.4, max_iter=1000),\n",
    "    classes=log.classes_,\n",
    "    per_class=True,\n",
    "    cmap=\"Set1\"\n",
    ")\n",
    "viz.fit(X_train_tf_idf,y_train)\n",
    "viz.score(X_test_tf_idf, y_test)\n",
    "viz.show();"
   ]
  },
  {
   "cell_type": "code",
   "execution_count": 104,
   "metadata": {},
   "outputs": [],
   "source": [
    "y_pred = log.predict(X_test_tf_idf)\n",
    "log_tfidf_rec_positive = recall_score(y_test, y_pred, labels = [1], average = None)\n",
    "log_tfidf_f1_positive = f1_score(y_test, y_pred, labels = [1], average = None)\n",
    "log_tfidf_AP_positive = viz.score_"
   ]
  },
  {
   "cell_type": "markdown",
   "metadata": {
    "id": "QACRU9G3CV4A"
   },
   "source": [
    "## Naive Bayes \n",
    "\n",
    "### Countvectorizer"
   ]
  },
  {
   "cell_type": "code",
   "execution_count": 57,
   "metadata": {
    "id": "YE0i90Q5yaav"
   },
   "outputs": [
    {
     "data": {
      "text/plain": [
       "MultinomialNB(alpha=10)"
      ]
     },
     "execution_count": 57,
     "metadata": {},
     "output_type": "execute_result"
    }
   ],
   "source": [
    "from sklearn.naive_bayes import MultinomialNB, BernoulliNB\n",
    "\n",
    "nb = MultinomialNB(alpha=10)\n",
    "nb.fit(X_train_count,y_train)"
   ]
  },
  {
   "cell_type": "code",
   "execution_count": 58,
   "metadata": {
    "id": "qRGX7Ck6yaaw"
   },
   "outputs": [
    {
     "name": "stdout",
     "output_type": "stream",
     "text": [
      "NB MODEL\n",
      "[[ 278  542]\n",
      " [  61 3648]]\n",
      "Test_Set\n",
      "              precision    recall  f1-score   support\n",
      "\n",
      "           0       0.82      0.34      0.48       820\n",
      "           1       0.87      0.98      0.92      3709\n",
      "\n",
      "    accuracy                           0.87      4529\n",
      "   macro avg       0.85      0.66      0.70      4529\n",
      "weighted avg       0.86      0.87      0.84      4529\n",
      "\n",
      "Train_Set\n",
      "              precision    recall  f1-score   support\n",
      "\n",
      "           0       0.83      0.41      0.55      3281\n",
      "           1       0.88      0.98      0.93     14831\n",
      "\n",
      "    accuracy                           0.88     18112\n",
      "   macro avg       0.86      0.69      0.74     18112\n",
      "weighted avg       0.87      0.88      0.86     18112\n",
      "\n"
     ]
    }
   ],
   "source": [
    "print(\"NB MODEL\")\n",
    "eval(nb, X_train_count, X_test_count)"
   ]
  },
  {
   "cell_type": "code",
   "execution_count": 59,
   "metadata": {},
   "outputs": [
    {
     "data": {
      "text/plain": [
       "test_accuracy               0.862688\n",
       "train_accuracy              0.873111\n",
       "test_precision positive     0.867261\n",
       "train_precision positive    0.875001\n",
       "test_recall positive        0.982739\n",
       "train_recall positive       0.985878\n",
       "test_f1 positive            0.921388\n",
       "train_f1 positive           0.927136\n",
       "dtype: float64"
      ]
     },
     "execution_count": 59,
     "metadata": {},
     "output_type": "execute_result"
    }
   ],
   "source": [
    "from sklearn.model_selection import cross_validate\n",
    "from sklearn.metrics import make_scorer\n",
    "from sklearn.metrics import f1_score, accuracy_score, precision_score, recall_score\n",
    "\n",
    "scoring = {'accuracy': make_scorer(accuracy_score),\n",
    "            'precision positive': make_scorer(precision_score, average=None, labels=[1]),\n",
    "            'recall positive': make_scorer(recall_score, average=None, labels = [1]),\n",
    "            'f1 positive': make_scorer(f1_score, average=None, labels = [1])}\n",
    "\n",
    "model = MultinomialNB(alpha=10)\n",
    "scores = cross_validate(model, X_train_count, y_train, scoring = scoring, cv = 10, return_train_score=True)\n",
    "df_scores = pd.DataFrame(scores, index = range(1, 11))\n",
    "df_scores.mean()[2:]"
   ]
  },
  {
   "cell_type": "code",
   "execution_count": 60,
   "metadata": {},
   "outputs": [
    {
     "data": {
      "image/png": "[encoded data removed]",
      "text/plain": [
       "<Figure size 576x396 with 1 Axes>"
      ]
     },
     "metadata": {},
     "output_type": "display_data"
    }
   ],
   "source": [
    "from yellowbrick.classifier import PrecisionRecallCurve\n",
    "\n",
    "viz = PrecisionRecallCurve(\n",
    "    MultinomialNB(alpha=10),\n",
    "    classes=nb.classes_,\n",
    "    per_class=True,\n",
    "    cmap=\"Set1\"\n",
    ")\n",
    "viz.fit(X_train_count,y_train)\n",
    "viz.score(X_test_count, y_test)\n",
    "viz.show();"
   ]
  },
  {
   "cell_type": "code",
   "execution_count": 61,
   "metadata": {},
   "outputs": [],
   "source": [
    "y_pred = nb.predict(X_test_count)\n",
    "nb_count_rec_positive = recall_score(y_test, y_pred, labels = [1], average = None)\n",
    "nb_count_f1_positive = f1_score(y_test, y_pred, labels = [1], average = None)\n",
    "nb_AP_positive = viz.score_"
   ]
  },
  {
   "cell_type": "markdown",
   "metadata": {
    "id": "K0YPoHQIyaaw"
   },
   "source": [
    "### TF-IDF"
   ]
  },
  {
   "cell_type": "code",
   "execution_count": 62,
   "metadata": {
    "id": "sH34zsJqyaax"
   },
   "outputs": [
    {
     "data": {
      "text/plain": [
       "MultinomialNB()"
      ]
     },
     "execution_count": 62,
     "metadata": {},
     "output_type": "execute_result"
    }
   ],
   "source": [
    "from sklearn.naive_bayes import MultinomialNB, BernoulliNB\n",
    "\n",
    "nb = MultinomialNB()\n",
    "nb.fit(X_train_tf_idf,y_train)"
   ]
  },
  {
   "cell_type": "code",
   "execution_count": 63,
   "metadata": {
    "id": "-rWCvkHmyaay"
   },
   "outputs": [
    {
     "name": "stdout",
     "output_type": "stream",
     "text": [
      "NB MODEL\n",
      "[[ 139  681]\n",
      " [  17 3692]]\n",
      "Test_Set\n",
      "              precision    recall  f1-score   support\n",
      "\n",
      "           0       0.89      0.17      0.28       820\n",
      "           1       0.84      1.00      0.91      3709\n",
      "\n",
      "    accuracy                           0.85      4529\n",
      "   macro avg       0.87      0.58      0.60      4529\n",
      "weighted avg       0.85      0.85      0.80      4529\n",
      "\n",
      "Train_Set\n",
      "              precision    recall  f1-score   support\n",
      "\n",
      "           0       0.94      0.25      0.39      3281\n",
      "           1       0.86      1.00      0.92     14831\n",
      "\n",
      "    accuracy                           0.86     18112\n",
      "   macro avg       0.90      0.62      0.66     18112\n",
      "weighted avg       0.87      0.86      0.83     18112\n",
      "\n"
     ]
    }
   ],
   "source": [
    "print(\"NB MODEL\")\n",
    "eval(nb, X_train_tf_idf, X_test_tf_idf)"
   ]
  },
  {
   "cell_type": "code",
   "execution_count": 64,
   "metadata": {},
   "outputs": [
    {
     "data": {
      "text/plain": [
       "test_accuracy               0.848002\n",
       "train_accuracy              0.858970\n",
       "test_precision positive     0.845967\n",
       "train_precision positive    0.854831\n",
       "test_recall positive        0.995685\n",
       "train_recall positive       0.997101\n",
       "test_f1 positive            0.914737\n",
       "train_f1 positive           0.920501\n",
       "dtype: float64"
      ]
     },
     "execution_count": 64,
     "metadata": {},
     "output_type": "execute_result"
    }
   ],
   "source": [
    "model = MultinomialNB()\n",
    "scores = cross_validate(model, X_train_tf_idf, y_train, scoring = scoring, cv = 10, return_train_score=True)\n",
    "df_scores = pd.DataFrame(scores, index = range(1, 11))\n",
    "df_scores.mean()[2:]"
   ]
  },
  {
   "cell_type": "code",
   "execution_count": 65,
   "metadata": {},
   "outputs": [
    {
     "data": {
      "image/png": "[encoded data removed]",
      "text/plain": [
       "<Figure size 576x396 with 1 Axes>"
      ]
     },
     "metadata": {},
     "output_type": "display_data"
    }
   ],
   "source": [
    "viz = PrecisionRecallCurve(\n",
    "    MultinomialNB(),\n",
    "    classes=nb.classes_,\n",
    "    per_class=True,\n",
    "    cmap=\"Set1\"\n",
    ")\n",
    "viz.fit(X_train_tf_idf,y_train)\n",
    "viz.score(X_test_tf_idf, y_test)\n",
    "viz.show();"
   ]
  },
  {
   "cell_type": "code",
   "execution_count": 106,
   "metadata": {},
   "outputs": [],
   "source": [
    "y_pred = nb.predict(X_test_tf_idf)\n",
    "nb_tfidf_rec_positive = recall_score(y_test, y_pred, labels = [1], average = None)\n",
    "nb_tfidf_f1_positive = f1_score(y_test, y_pred, labels = [1], average = None)\n",
    "nb_tfidf_AP_positive = viz.score_"
   ]
  },
  {
   "cell_type": "markdown",
   "metadata": {
    "id": "OSkbnJJiCV4A"
   },
   "source": [
    "## Support Vector Machine (SVM)\n",
    "\n",
    "### Countvectorizer"
   ]
  },
  {
   "cell_type": "code",
   "execution_count": 66,
   "metadata": {
    "id": "xP-Io7Y4yaa0"
   },
   "outputs": [
    {
     "data": {
      "text/plain": [
       "LinearSVC(C=0.01)"
      ]
     },
     "execution_count": 66,
     "metadata": {},
     "output_type": "execute_result"
    }
   ],
   "source": [
    "from sklearn.svm import LinearSVC\n",
    "svc = LinearSVC(C=0.01)\n",
    "svc.fit(X_train_count,y_train)"
   ]
  },
  {
   "cell_type": "code",
   "execution_count": 67,
   "metadata": {
    "id": "v-4GHQYWyaa1"
   },
   "outputs": [
    {
     "name": "stdout",
     "output_type": "stream",
     "text": [
      "SVC MODEL\n",
      "[[ 465  355]\n",
      " [ 131 3578]]\n",
      "Test_Set\n",
      "              precision    recall  f1-score   support\n",
      "\n",
      "           0       0.78      0.57      0.66       820\n",
      "           1       0.91      0.96      0.94      3709\n",
      "\n",
      "    accuracy                           0.89      4529\n",
      "   macro avg       0.84      0.77      0.80      4529\n",
      "weighted avg       0.89      0.89      0.89      4529\n",
      "\n",
      "Train_Set\n",
      "              precision    recall  f1-score   support\n",
      "\n",
      "           0       0.84      0.64      0.73      3281\n",
      "           1       0.92      0.97      0.95     14831\n",
      "\n",
      "    accuracy                           0.91     18112\n",
      "   macro avg       0.88      0.81      0.84     18112\n",
      "weighted avg       0.91      0.91      0.91     18112\n",
      "\n"
     ]
    }
   ],
   "source": [
    "print(\"SVC MODEL\")\n",
    "eval(svc, X_train_count, X_test_count)"
   ]
  },
  {
   "cell_type": "code",
   "execution_count": 68,
   "metadata": {},
   "outputs": [
    {
     "data": {
      "text/plain": [
       "test_accuracy               0.886540\n",
       "train_accuracy              0.914391\n",
       "test_precision positive     0.907278\n",
       "train_precision positive    0.925074\n",
       "test_recall positive        0.959544\n",
       "train_recall positive       0.974371\n",
       "test_f1 positive            0.932659\n",
       "train_f1 positive           0.949083\n",
       "dtype: float64"
      ]
     },
     "execution_count": 68,
     "metadata": {},
     "output_type": "execute_result"
    }
   ],
   "source": [
    "model = LinearSVC(C=0.01)\n",
    "scores = cross_validate(model, X_train_count, y_train, scoring = scoring, cv = 10, return_train_score=True)\n",
    "df_scores = pd.DataFrame(scores, index = range(1, 11))\n",
    "df_scores.mean()[2:]"
   ]
  },
  {
   "cell_type": "code",
   "execution_count": 69,
   "metadata": {},
   "outputs": [
    {
     "data": {
      "image/png": "[encoded data removed]",
      "text/plain": [
       "<Figure size 576x396 with 1 Axes>"
      ]
     },
     "metadata": {},
     "output_type": "display_data"
    }
   ],
   "source": [
    "viz = PrecisionRecallCurve(\n",
    "    LinearSVC(C=0.01),\n",
    "    classes=svc.classes_,\n",
    "    per_class=True,\n",
    "    cmap=\"Set1\"\n",
    ")\n",
    "viz.fit(X_train_count,y_train)\n",
    "viz.score(X_test_count, y_test)\n",
    "viz.show();"
   ]
  },
  {
   "cell_type": "code",
   "execution_count": 70,
   "metadata": {},
   "outputs": [],
   "source": [
    "y_pred = svc.predict(X_test_count)\n",
    "svc_count_rec_positive = recall_score(y_test, y_pred, labels = [1], average = None)\n",
    "svc_count_f1_positive = f1_score(y_test, y_pred, labels = [1], average = None)\n",
    "svc_AP_positive = viz.score_"
   ]
  },
  {
   "cell_type": "markdown",
   "metadata": {
    "id": "BAX3oHiKyaa2"
   },
   "source": [
    "### TD-IDF"
   ]
  },
  {
   "cell_type": "code",
   "execution_count": 71,
   "metadata": {
    "id": "Kvmchzafyaa3"
   },
   "outputs": [
    {
     "data": {
      "text/plain": [
       "LinearSVC(C=0.1)"
      ]
     },
     "execution_count": 71,
     "metadata": {},
     "output_type": "execute_result"
    }
   ],
   "source": [
    "from sklearn.svm import LinearSVC\n",
    "svc = LinearSVC(C=0.1)\n",
    "svc.fit(X_train_tf_idf,y_train)"
   ]
  },
  {
   "cell_type": "code",
   "execution_count": 72,
   "metadata": {
    "id": "4XitL-5Iyaa4"
   },
   "outputs": [
    {
     "name": "stdout",
     "output_type": "stream",
     "text": [
      "SVC MODEL\n",
      "[[ 435  385]\n",
      " [  98 3611]]\n",
      "Test_Set\n",
      "              precision    recall  f1-score   support\n",
      "\n",
      "           0       0.82      0.53      0.64       820\n",
      "           1       0.90      0.97      0.94      3709\n",
      "\n",
      "    accuracy                           0.89      4529\n",
      "   macro avg       0.86      0.75      0.79      4529\n",
      "weighted avg       0.89      0.89      0.88      4529\n",
      "\n",
      "Train_Set\n",
      "              precision    recall  f1-score   support\n",
      "\n",
      "           0       0.86      0.60      0.71      3281\n",
      "           1       0.92      0.98      0.95     14831\n",
      "\n",
      "    accuracy                           0.91     18112\n",
      "   macro avg       0.89      0.79      0.83     18112\n",
      "weighted avg       0.91      0.91      0.90     18112\n",
      "\n"
     ]
    }
   ],
   "source": [
    "print(\"SVC MODEL\")\n",
    "eval(svc, X_train_tf_idf, X_test_tf_idf)"
   ]
  },
  {
   "cell_type": "code",
   "execution_count": 73,
   "metadata": {},
   "outputs": [
    {
     "data": {
      "text/plain": [
       "test_accuracy               0.887257\n",
       "train_accuracy              0.910219\n",
       "test_precision positive     0.900483\n",
       "train_precision positive    0.917003\n",
       "test_recall positive        0.969524\n",
       "train_recall positive       0.978963\n",
       "test_f1 positive            0.933703\n",
       "train_f1 positive           0.946970\n",
       "dtype: float64"
      ]
     },
     "execution_count": 73,
     "metadata": {},
     "output_type": "execute_result"
    }
   ],
   "source": [
    "model = LinearSVC(C=0.1)\n",
    "scores = cross_validate(model, X_train_tf_idf, y_train, scoring = scoring, cv = 10, return_train_score=True)\n",
    "df_scores = pd.DataFrame(scores, index = range(1, 11))\n",
    "df_scores.mean()[2:]"
   ]
  },
  {
   "cell_type": "code",
   "execution_count": 74,
   "metadata": {},
   "outputs": [
    {
     "data": {
      "image/png": "[encoded data removed]",
      "text/plain": [
       "<Figure size 576x396 with 1 Axes>"
      ]
     },
     "metadata": {},
     "output_type": "display_data"
    }
   ],
   "source": [
    "viz = PrecisionRecallCurve(\n",
    "    LinearSVC(C=0.1),\n",
    "    classes=svc.classes_,\n",
    "    per_class=True,\n",
    "    cmap=\"Set1\"\n",
    ")\n",
    "viz.fit(X_train_tf_idf,y_train)\n",
    "viz.score(X_test_tf_idf, y_test)\n",
    "viz.show();"
   ]
  },
  {
   "cell_type": "code",
   "execution_count": 75,
   "metadata": {},
   "outputs": [],
   "source": [
    "y_pred = svc.predict(X_test_tf_idf)\n",
    "svc_tfidf_rec_positive = recall_score(y_test, y_pred, labels = [1], average = None)\n",
    "svc_tfidf_f1_positive = f1_score(y_test, y_pred, labels = [1], average = None)\n",
    "svc_tfidf_AP_positive = viz.score_"
   ]
  },
  {
   "cell_type": "markdown",
   "metadata": {
    "id": "qTECEchfCV4A"
   },
   "source": [
    "## Random Forest\n",
    "\n",
    "### Countvectorizer"
   ]
  },
  {
   "cell_type": "code",
   "execution_count": 76,
   "metadata": {
    "id": "8E4GTelvyaa5"
   },
   "outputs": [
    {
     "data": {
      "text/plain": [
       "RandomForestClassifier(max_depth=40, n_jobs=-1, random_state=42)"
      ]
     },
     "execution_count": 76,
     "metadata": {},
     "output_type": "execute_result"
    }
   ],
   "source": [
    "from sklearn.ensemble import RandomForestClassifier\n",
    "rf = RandomForestClassifier(100, max_depth = 40, random_state = 42, n_jobs = -1) # class_weight=\"balanced\"\n",
    "rf.fit(X_train_count, y_train)"
   ]
  },
  {
   "cell_type": "code",
   "execution_count": 77,
   "metadata": {
    "id": "oukKdl74yaa5"
   },
   "outputs": [
    {
     "name": "stdout",
     "output_type": "stream",
     "text": [
      "RF MODEL\n",
      "[[ 102  718]\n",
      " [   9 3700]]\n",
      "Test_Set\n",
      "              precision    recall  f1-score   support\n",
      "\n",
      "           0       0.92      0.12      0.22       820\n",
      "           1       0.84      1.00      0.91      3709\n",
      "\n",
      "    accuracy                           0.84      4529\n",
      "   macro avg       0.88      0.56      0.56      4529\n",
      "weighted avg       0.85      0.84      0.79      4529\n",
      "\n",
      "Train_Set\n",
      "              precision    recall  f1-score   support\n",
      "\n",
      "           0       1.00      0.64      0.78      3281\n",
      "           1       0.93      1.00      0.96     14831\n",
      "\n",
      "    accuracy                           0.93     18112\n",
      "   macro avg       0.96      0.82      0.87     18112\n",
      "weighted avg       0.94      0.93      0.93     18112\n",
      "\n"
     ]
    }
   ],
   "source": [
    "print(\"RF MODEL\")\n",
    "eval(rf, X_train_count, X_test_count)"
   ]
  },
  {
   "cell_type": "code",
   "execution_count": 78,
   "metadata": {},
   "outputs": [
    {
     "data": {
      "text/plain": [
       "test_accuracy               0.838615\n",
       "train_accuracy              0.937886\n",
       "test_precision positive     0.836816\n",
       "train_precision positive    0.929500\n",
       "test_recall positive        0.997438\n",
       "train_recall positive       0.999993\n",
       "test_f1 positive            0.910090\n",
       "train_f1 positive           0.963459\n",
       "dtype: float64"
      ]
     },
     "execution_count": 78,
     "metadata": {},
     "output_type": "execute_result"
    }
   ],
   "source": [
    "model = RandomForestClassifier(100, max_depth = 40, random_state = 42, n_jobs = -1)\n",
    "scores = cross_validate(model, X_train_count, y_train, scoring = scoring, cv = 10, return_train_score=True)\n",
    "df_scores = pd.DataFrame(scores, index = range(1, 11))\n",
    "df_scores.mean()[2:]"
   ]
  },
  {
   "cell_type": "code",
   "execution_count": 79,
   "metadata": {},
   "outputs": [
    {
     "data": {
      "image/png": "[encoded data removed]",
      "text/plain": [
       "<Figure size 576x396 with 1 Axes>"
      ]
     },
     "metadata": {},
     "output_type": "display_data"
    }
   ],
   "source": [
    "viz = PrecisionRecallCurve(\n",
    "    RandomForestClassifier(100, max_depth = 40, random_state = 42, n_jobs = -1),\n",
    "    classes=rf.classes_,\n",
    "    per_class=True,\n",
    "    cmap=\"Set1\"\n",
    ")\n",
    "viz.fit(X_train_count,y_train)\n",
    "viz.score(X_test_count, y_test)\n",
    "viz.show();"
   ]
  },
  {
   "cell_type": "code",
   "execution_count": 80,
   "metadata": {},
   "outputs": [],
   "source": [
    "y_pred = rf.predict(X_test_count)\n",
    "rf_count_rec_positive = recall_score(y_test, y_pred, labels = [1], average = None)\n",
    "rf_count_f1_positive = f1_score(y_test, y_pred, labels = [1], average = None)\n",
    "rf_AP_positive = viz.score_"
   ]
  },
  {
   "cell_type": "code",
   "execution_count": 81,
   "metadata": {},
   "outputs": [
    {
     "data": {
      "text/plain": [
       "RandomForestClassifier(class_weight='balanced', max_depth=40, n_jobs=-1,\n",
       "                       random_state=42)"
      ]
     },
     "execution_count": 81,
     "metadata": {},
     "output_type": "execute_result"
    }
   ],
   "source": [
    "rf = RandomForestClassifier(100, max_depth = 40, random_state = 42, n_jobs = -1, class_weight=\"balanced\")\n",
    "rf.fit(X_train_count, y_train)"
   ]
  },
  {
   "cell_type": "code",
   "execution_count": 82,
   "metadata": {},
   "outputs": [
    {
     "name": "stdout",
     "output_type": "stream",
     "text": [
      "RF MODEL BALANCED\n",
      "[[ 429  391]\n",
      " [ 183 3526]]\n",
      "Test_Set\n",
      "              precision    recall  f1-score   support\n",
      "\n",
      "           0       0.70      0.52      0.60       820\n",
      "           1       0.90      0.95      0.92      3709\n",
      "\n",
      "    accuracy                           0.87      4529\n",
      "   macro avg       0.80      0.74      0.76      4529\n",
      "weighted avg       0.86      0.87      0.87      4529\n",
      "\n",
      "Train_Set\n",
      "              precision    recall  f1-score   support\n",
      "\n",
      "           0       0.94      0.98      0.96      3281\n",
      "           1       1.00      0.99      0.99     14831\n",
      "\n",
      "    accuracy                           0.98     18112\n",
      "   macro avg       0.97      0.98      0.97     18112\n",
      "weighted avg       0.98      0.98      0.98     18112\n",
      "\n"
     ]
    }
   ],
   "source": [
    "print(\"RF MODEL BALANCED\")\n",
    "eval(rf, X_train_count, X_test_count)"
   ]
  },
  {
   "cell_type": "markdown",
   "metadata": {
    "id": "pXtEODdFyaa6"
   },
   "source": [
    "### TF-IDF"
   ]
  },
  {
   "cell_type": "code",
   "execution_count": 83,
   "metadata": {
    "id": "W5EfAthhyaa6"
   },
   "outputs": [
    {
     "data": {
      "text/plain": [
       "RandomForestClassifier(max_depth=100, n_jobs=-1, random_state=42)"
      ]
     },
     "execution_count": 83,
     "metadata": {},
     "output_type": "execute_result"
    }
   ],
   "source": [
    "rf = RandomForestClassifier(100, max_depth=100, random_state = 42, n_jobs = -1)\n",
    "rf.fit(X_train_tf_idf, y_train)"
   ]
  },
  {
   "cell_type": "code",
   "execution_count": 84,
   "metadata": {},
   "outputs": [
    {
     "name": "stdout",
     "output_type": "stream",
     "text": [
      "RF MODEL\n",
      "[[ 194  626]\n",
      " [  32 3677]]\n",
      "Test_Set\n",
      "              precision    recall  f1-score   support\n",
      "\n",
      "           0       0.86      0.24      0.37       820\n",
      "           1       0.85      0.99      0.92      3709\n",
      "\n",
      "    accuracy                           0.85      4529\n",
      "   macro avg       0.86      0.61      0.64      4529\n",
      "weighted avg       0.86      0.85      0.82      4529\n",
      "\n",
      "Train_Set\n",
      "              precision    recall  f1-score   support\n",
      "\n",
      "           0       1.00      0.98      0.99      3281\n",
      "           1       1.00      1.00      1.00     14831\n",
      "\n",
      "    accuracy                           1.00     18112\n",
      "   macro avg       1.00      0.99      0.99     18112\n",
      "weighted avg       1.00      1.00      1.00     18112\n",
      "\n"
     ]
    }
   ],
   "source": [
    "print(\"RF MODEL\")\n",
    "eval(rf, X_train_tf_idf, X_test_tf_idf)"
   ]
  },
  {
   "cell_type": "code",
   "execution_count": 85,
   "metadata": {},
   "outputs": [
    {
     "data": {
      "text/plain": [
       "test_accuracy               0.850541\n",
       "train_accuracy              0.996037\n",
       "test_precision positive     0.850906\n",
       "train_precision positive    0.995184\n",
       "test_recall positive        0.991167\n",
       "train_recall positive       1.000000\n",
       "test_f1 positive            0.915689\n",
       "train_f1 positive           0.997586\n",
       "dtype: float64"
      ]
     },
     "execution_count": 85,
     "metadata": {},
     "output_type": "execute_result"
    }
   ],
   "source": [
    "model = RandomForestClassifier(100, max_depth=100, random_state = 42, n_jobs = -1)\n",
    "scores = cross_validate(model, X_train_tf_idf, y_train, scoring = scoring, cv = 10, return_train_score=True)\n",
    "df_scores = pd.DataFrame(scores, index = range(1, 11))\n",
    "df_scores.mean()[2:]"
   ]
  },
  {
   "cell_type": "code",
   "execution_count": 86,
   "metadata": {
    "id": "JO3OW5xayaa6"
   },
   "outputs": [
    {
     "data": {
      "image/png": "[encoded data removed]",
      "text/plain": [
       "<Figure size 576x396 with 1 Axes>"
      ]
     },
     "metadata": {},
     "output_type": "display_data"
    }
   ],
   "source": [
    "viz = PrecisionRecallCurve(\n",
    "    RandomForestClassifier(100, max_depth=100, random_state = 42, n_jobs = -1),\n",
    "    classes=rf.classes_,\n",
    "    per_class=True,\n",
    "    cmap=\"Set1\"\n",
    ")\n",
    "viz.fit(X_train_tf_idf,y_train)\n",
    "viz.score(X_test_tf_idf, y_test)\n",
    "viz.show();"
   ]
  },
  {
   "cell_type": "code",
   "execution_count": 87,
   "metadata": {},
   "outputs": [],
   "source": [
    "y_pred = rf.predict(X_test_tf_idf)\n",
    "rf_tfidf_rec_positive = recall_score(y_test, y_pred, labels = [1], average = None)\n",
    "rf_tfidf_f1_positive = f1_score(y_test, y_pred, labels = [1], average = None)\n",
    "rf_tfidf_AP_positive = viz.score_"
   ]
  },
  {
   "cell_type": "code",
   "execution_count": 88,
   "metadata": {},
   "outputs": [
    {
     "name": "stdout",
     "output_type": "stream",
     "text": [
      "RF MODEL BALANCED\n",
      "[[ 194  626]\n",
      " [  32 3677]]\n",
      "Test_Set\n",
      "              precision    recall  f1-score   support\n",
      "\n",
      "           0       0.86      0.24      0.37       820\n",
      "           1       0.85      0.99      0.92      3709\n",
      "\n",
      "    accuracy                           0.85      4529\n",
      "   macro avg       0.86      0.61      0.64      4529\n",
      "weighted avg       0.86      0.85      0.82      4529\n",
      "\n",
      "Train_Set\n",
      "              precision    recall  f1-score   support\n",
      "\n",
      "           0       1.00      0.98      0.99      3281\n",
      "           1       1.00      1.00      1.00     14831\n",
      "\n",
      "    accuracy                           1.00     18112\n",
      "   macro avg       1.00      0.99      0.99     18112\n",
      "weighted avg       1.00      1.00      1.00     18112\n",
      "\n"
     ]
    }
   ],
   "source": [
    "print(\"RF MODEL BALANCED\")\n",
    "eval(rf, X_train_tf_idf, X_test_tf_idf)"
   ]
  },
  {
   "cell_type": "markdown",
   "metadata": {
    "id": "-SezeeY2yaa6"
   },
   "source": [
    "## Ada Boosting\n",
    "\n",
    "### Countvectorizer"
   ]
  },
  {
   "cell_type": "code",
   "execution_count": 89,
   "metadata": {
    "id": "Wh_3SQPuyaa7"
   },
   "outputs": [
    {
     "data": {
      "text/plain": [
       "AdaBoostClassifier(n_estimators=500, random_state=42)"
      ]
     },
     "execution_count": 89,
     "metadata": {},
     "output_type": "execute_result"
    }
   ],
   "source": [
    "from sklearn.ensemble import AdaBoostClassifier\n",
    "ada = AdaBoostClassifier(n_estimators= 500, random_state = 42)\n",
    "ada.fit(X_train_count, y_train)"
   ]
  },
  {
   "cell_type": "code",
   "execution_count": 90,
   "metadata": {
    "id": "xAl3ZHO9yaa7"
   },
   "outputs": [
    {
     "name": "stdout",
     "output_type": "stream",
     "text": [
      "Ada MODEL\n",
      "[[ 478  342]\n",
      " [ 186 3523]]\n",
      "Test_Set\n",
      "              precision    recall  f1-score   support\n",
      "\n",
      "           0       0.72      0.58      0.64       820\n",
      "           1       0.91      0.95      0.93      3709\n",
      "\n",
      "    accuracy                           0.88      4529\n",
      "   macro avg       0.82      0.77      0.79      4529\n",
      "weighted avg       0.88      0.88      0.88      4529\n",
      "\n",
      "Train_Set\n",
      "              precision    recall  f1-score   support\n",
      "\n",
      "           0       0.80      0.66      0.73      3281\n",
      "           1       0.93      0.96      0.95     14831\n",
      "\n",
      "    accuracy                           0.91     18112\n",
      "   macro avg       0.87      0.81      0.84     18112\n",
      "weighted avg       0.91      0.91      0.91     18112\n",
      "\n"
     ]
    }
   ],
   "source": [
    "print(\"Ada MODEL\")\n",
    "eval(ada, X_train_count, X_test_count)"
   ]
  },
  {
   "cell_type": "code",
   "execution_count": 91,
   "metadata": {},
   "outputs": [
    {
     "data": {
      "text/plain": [
       "test_accuracy               0.878147\n",
       "train_accuracy              0.910618\n",
       "test_precision positive     0.908811\n",
       "train_precision positive    0.929062\n",
       "test_recall positive        0.946194\n",
       "train_recall positive       0.964489\n",
       "test_f1 positive            0.927102\n",
       "train_f1 positive           0.946443\n",
       "dtype: float64"
      ]
     },
     "execution_count": 91,
     "metadata": {},
     "output_type": "execute_result"
    }
   ],
   "source": [
    "model = AdaBoostClassifier(n_estimators= 500, random_state = 42)\n",
    "scores = cross_validate(model, X_train_count, y_train, scoring = scoring, cv = 10, return_train_score=True)\n",
    "df_scores = pd.DataFrame(scores, index = range(1, 11))\n",
    "df_scores.mean()[2:]"
   ]
  },
  {
   "cell_type": "code",
   "execution_count": 92,
   "metadata": {},
   "outputs": [
    {
     "data": {
      "image/png": "[encoded data removed]",
      "text/plain": [
       "<Figure size 576x396 with 1 Axes>"
      ]
     },
     "metadata": {},
     "output_type": "display_data"
    }
   ],
   "source": [
    "viz = PrecisionRecallCurve(\n",
    "    AdaBoostClassifier(n_estimators= 500, random_state = 42),\n",
    "    classes=ada.classes_,\n",
    "    per_class=True,\n",
    "    cmap=\"Set1\"\n",
    ")\n",
    "viz.fit(X_train_count,y_train)\n",
    "viz.score(X_test_count, y_test)\n",
    "viz.show();"
   ]
  },
  {
   "cell_type": "code",
   "execution_count": 93,
   "metadata": {},
   "outputs": [],
   "source": [
    "y_pred = ada.predict(X_test_count)\n",
    "ada_count_rec_positive = recall_score(y_test, y_pred, labels = [1], average = None)\n",
    "ada_count_f1_positive = f1_score(y_test, y_pred, labels = [1], average = None)\n",
    "ada_AP_positive = viz.score_"
   ]
  },
  {
   "cell_type": "markdown",
   "metadata": {
    "id": "TkBYO2fdyaa8"
   },
   "source": [
    "### TF-IDF"
   ]
  },
  {
   "cell_type": "code",
   "execution_count": 94,
   "metadata": {
    "id": "JO-PdyCtyaa8"
   },
   "outputs": [
    {
     "data": {
      "text/plain": [
       "AdaBoostClassifier(n_estimators=500, random_state=42)"
      ]
     },
     "execution_count": 94,
     "metadata": {},
     "output_type": "execute_result"
    }
   ],
   "source": [
    "from sklearn.ensemble import AdaBoostClassifier\n",
    "ada = AdaBoostClassifier(n_estimators= 500, random_state = 42)\n",
    "ada.fit(X_train_tf_idf, y_train)"
   ]
  },
  {
   "cell_type": "code",
   "execution_count": 95,
   "metadata": {
    "id": "3eLEu7-Nyaa8"
   },
   "outputs": [
    {
     "name": "stdout",
     "output_type": "stream",
     "text": [
      "Ada MODEL\n",
      "[[ 477  343]\n",
      " [ 199 3510]]\n",
      "Test_Set\n",
      "              precision    recall  f1-score   support\n",
      "\n",
      "           0       0.71      0.58      0.64       820\n",
      "           1       0.91      0.95      0.93      3709\n",
      "\n",
      "    accuracy                           0.88      4529\n",
      "   macro avg       0.81      0.76      0.78      4529\n",
      "weighted avg       0.87      0.88      0.88      4529\n",
      "\n",
      "Train_Set\n",
      "              precision    recall  f1-score   support\n",
      "\n",
      "           0       0.82      0.71      0.76      3281\n",
      "           1       0.94      0.97      0.95     14831\n",
      "\n",
      "    accuracy                           0.92     18112\n",
      "   macro avg       0.88      0.84      0.86     18112\n",
      "weighted avg       0.92      0.92      0.92     18112\n",
      "\n"
     ]
    }
   ],
   "source": [
    "print(\"Ada MODEL\")\n",
    "eval(ada, X_train_tf_idf, X_test_tf_idf)"
   ]
  },
  {
   "cell_type": "code",
   "execution_count": 96,
   "metadata": {},
   "outputs": [
    {
     "data": {
      "image/png": "[encoded data removed]",
      "text/plain": [
       "<Figure size 576x396 with 1 Axes>"
      ]
     },
     "metadata": {},
     "output_type": "display_data"
    }
   ],
   "source": [
    "viz = PrecisionRecallCurve(\n",
    "    AdaBoostClassifier(n_estimators= 500, random_state = 42),\n",
    "    classes=ada.classes_,\n",
    "    per_class=True,\n",
    "    cmap=\"Set1\"\n",
    ")\n",
    "viz.fit(X_train_tf_idf,y_train)\n",
    "viz.score(X_test_tf_idf, y_test)\n",
    "viz.show();"
   ]
  },
  {
   "cell_type": "code",
   "execution_count": 97,
   "metadata": {},
   "outputs": [],
   "source": [
    "y_pred = ada.predict(X_test_tf_idf)\n",
    "ada_tfidf_rec_positive = recall_score(y_test, y_pred, labels = [1], average = None)\n",
    "ada_tfidf_f1_positive = f1_score(y_test, y_pred, labels = [1], average = None)\n",
    "ada_tfidf_AP_positive = viz.score_"
   ]
  },
  {
   "cell_type": "code",
   "execution_count": 108,
   "metadata": {},
   "outputs": [
    {
     "data": {
      "image/png": "[encoded data removed]",
      "text/plain": [
       "<Figure size 1080x2160 with 3 Axes>"
      ]
     },
     "metadata": {},
     "output_type": "display_data"
    }
   ],
   "source": [
    "compare = pd.DataFrame({\"Model\": [\"NaiveBayes_count\", \"LogReg_count\", \"SVM_count\", \"Random Forest_count\", \n",
    "                                  \"AdaBoost_count\", \"NaiveBayes_tfidf\", \"LogReg_tfidf\", \"SVM_tfidf\", \n",
    "                                  \"Random Forest_tfidf\", \"AdaBoost_tfidf\"],\n",
    "                        \n",
    "                        \"F1_Score_positive\": [nb_count_f1_positive[0], log_count_f1_positive[0], svc_count_f1_positive[0], \n",
    "                                             rf_count_f1_positive[0], ada_count_f1_positive[0], nb_tfidf_f1_positive[0], log_tfidf_f1_positive[0],\n",
    "                                             svc_tfidf_f1_positive[0], rf_tfidf_f1_positive[0], ada_tfidf_f1_positive[0]],\n",
    "                    \n",
    "                        \n",
    "                        \"Recall_Score_positive\": [nb_count_rec_positive[0], log_count_rec_positive[0], svc_count_rec_positive[0], \n",
    "                                                 rf_count_rec_positive[0], ada_count_rec_positive[0], \n",
    "                                                  nb_tfidf_rec_positive[0], log_tfidf_rec_positive[0], svc_tfidf_rec_positive[0], \n",
    "                                                   rf_tfidf_rec_positive[0], ada_tfidf_rec_positive[0]],\n",
    "                        \n",
    "                        \"Average_Precision_Score_positive\": [nb_AP_positive, log_AP_positive, svc_AP_positive, rf_AP_positive,\n",
    "                                                          ada_AP_positive, nb_tfidf_AP_positive, log_tfidf_AP_positive, svc_tfidf_AP_positive,\n",
    "                                                        rf_tfidf_AP_positive, ada_tfidf_AP_positive]})\n",
    "\n",
    "\n",
    "    \n",
    "plt.figure(figsize=(15,30))\n",
    "plt.subplot(311)\n",
    "compare = compare.sort_values(by=\"Recall_Score_positive\", ascending=False)\n",
    "ax=sns.barplot(x=\"Recall_Score_positive\", y=\"Model\", data=compare, palette=\"Blues_d\")            \n",
    "ax.bar_label(ax.containers[0], fmt=\"%.3f\")\n",
    "\n",
    "plt.subplot(312)\n",
    "compare = compare.sort_values(by=\"F1_Score_positive\", ascending=False)\n",
    "ax=sns.barplot(x=\"F1_Score_positive\", y=\"Model\", data=compare, palette=\"Blues_d\")\n",
    "ax.bar_label(ax.containers[0],fmt=\"%.3f\")\n",
    "\n",
    "\n",
    "plt.subplot(313)\n",
    "compare = compare.sort_values(by=\"Average_Precision_Score_positive\", ascending=False)\n",
    "ax=sns.barplot(x=\"Average_Precision_Score_positive\", y=\"Model\", data=compare, palette=\"Blues_d\")\n",
    "ax.bar_label(ax.containers[0],fmt=\"%.3f\")\n",
    "plt.show();"
   ]
  },
  {
   "cell_type": "markdown",
   "metadata": {
    "id": "d_u6smUMyaa8"
   },
   "source": [
    "## DL modeling"
   ]
  },
  {
   "cell_type": "code",
   "execution_count": 2,
   "metadata": {
    "id": "L41zsZXfyaa9"
   },
   "outputs": [],
   "source": [
    "from tensorflow.keras.models import Sequential\n",
    "from tensorflow.keras.layers import Dense, GRU, Embedding, Dropout\n",
    "from tensorflow.keras.optimizers import Adam\n",
    "from tensorflow.keras.preprocessing.text import Tokenizer\n",
    "from tensorflow.keras.preprocessing.sequence import pad_sequences"
   ]
  },
  {
   "cell_type": "code",
   "execution_count": 17,
   "metadata": {
    "id": "hgZzYhYfyaa9"
   },
   "outputs": [
    {
     "data": {
      "text/html": [
       "<div>\n",
       "<style scoped>\n",
       "    .dataframe tbody tr th:only-of-type {\n",
       "        vertical-align: middle;\n",
       "    }\n",
       "\n",
       "    .dataframe tbody tr th {\n",
       "        vertical-align: top;\n",
       "    }\n",
       "\n",
       "    .dataframe thead th {\n",
       "        text-align: right;\n",
       "    }\n",
       "</style>\n",
       "<table border=\"1\" class=\"dataframe\">\n",
       "  <thead>\n",
       "    <tr style=\"text-align: right;\">\n",
       "      <th></th>\n",
       "      <th>Recommended_IND</th>\n",
       "      <th>Review_Text</th>\n",
       "    </tr>\n",
       "  </thead>\n",
       "  <tbody>\n",
       "    <tr>\n",
       "      <th>0</th>\n",
       "      <td>1</td>\n",
       "      <td>Absolutely wonderful - silky and sexy and comf...</td>\n",
       "    </tr>\n",
       "    <tr>\n",
       "      <th>1</th>\n",
       "      <td>1</td>\n",
       "      <td>Love this dress!  it's sooo pretty.  i happene...</td>\n",
       "    </tr>\n",
       "    <tr>\n",
       "      <th>2</th>\n",
       "      <td>0</td>\n",
       "      <td>I had such high hopes for this dress and reall...</td>\n",
       "    </tr>\n",
       "    <tr>\n",
       "      <th>3</th>\n",
       "      <td>1</td>\n",
       "      <td>I love, love, love this jumpsuit. it's fun, fl...</td>\n",
       "    </tr>\n",
       "    <tr>\n",
       "      <th>4</th>\n",
       "      <td>1</td>\n",
       "      <td>This shirt is very flattering to all due to th...</td>\n",
       "    </tr>\n",
       "  </tbody>\n",
       "</table>\n",
       "</div>"
      ],
      "text/plain": [
       "   Recommended_IND                                        Review_Text\n",
       "0                1  Absolutely wonderful - silky and sexy and comf...\n",
       "1                1  Love this dress!  it's sooo pretty.  i happene...\n",
       "2                0  I had such high hopes for this dress and reall...\n",
       "3                1  I love, love, love this jumpsuit. it's fun, fl...\n",
       "4                1  This shirt is very flattering to all due to th..."
      ]
     },
     "execution_count": 17,
     "metadata": {},
     "output_type": "execute_result"
    }
   ],
   "source": [
    "df2.head()"
   ]
  },
  {
   "cell_type": "code",
   "execution_count": 18,
   "metadata": {},
   "outputs": [
    {
     "name": "stdout",
     "output_type": "stream",
     "text": [
      "<class 'pandas.core.frame.DataFrame'>\n",
      "Int64Index: 22641 entries, 0 to 23485\n",
      "Data columns (total 2 columns):\n",
      " #   Column           Non-Null Count  Dtype \n",
      "---  ------           --------------  ----- \n",
      " 0   Recommended_IND  22641 non-null  int64 \n",
      " 1   Review_Text      22641 non-null  object\n",
      "dtypes: int64(1), object(1)\n",
      "memory usage: 530.6+ KB\n"
     ]
    }
   ],
   "source": [
    "df2.info()"
   ]
  },
  {
   "cell_type": "code",
   "execution_count": 21,
   "metadata": {},
   "outputs": [
    {
     "data": {
      "text/plain": [
       "1    0.818868\n",
       "0    0.181132\n",
       "Name: Recommended_IND, dtype: float64"
      ]
     },
     "execution_count": 21,
     "metadata": {},
     "output_type": "execute_result"
    }
   ],
   "source": [
    "df2.Recommended_IND.value_counts(normalize=True)"
   ]
  },
  {
   "cell_type": "markdown",
   "metadata": {
    "id": "EsBCaOJwyaa9"
   },
   "source": [
    "### Tokenization"
   ]
  },
  {
   "cell_type": "code",
   "execution_count": 23,
   "metadata": {
    "id": "8VoMw3wWyaa-"
   },
   "outputs": [],
   "source": [
    "X = df2['Review_Text']\n",
    "y = df2['Recommended_IND']"
   ]
  },
  {
   "cell_type": "code",
   "execution_count": 24,
   "metadata": {
    "id": "Sk9qU4g3yaa-"
   },
   "outputs": [],
   "source": [
    "num_words = 15000 # corpusta geçen en fazla kullanılan ilk 15.000 kelimeyi(tokeni) alacağız gerisini yok sayacağız. \n",
    "# None değeri atanırsa tüm kelimeler dikkate alınır.\n",
    "tokenizer = Tokenizer(num_words=num_words) #filters='!\"#$%&()*+,-./:;<=>?@[\\\\]^_`{|}~\\t\\n1234567890' "
   ]
  },
  {
   "cell_type": "code",
   "execution_count": 25,
   "metadata": {},
   "outputs": [],
   "source": [
    "tokenizer.fit_on_texts(X)"
   ]
  },
  {
   "cell_type": "markdown",
   "metadata": {
    "id": "cBqiLAauyaa_"
   },
   "source": [
    "### Creating word index"
   ]
  },
  {
   "cell_type": "code",
   "execution_count": 26,
   "metadata": {
    "id": "s2-nask6yabA"
   },
   "outputs": [
    {
     "data": {
      "text/plain": [
       "{'the': 1,\n",
       " 'i': 2,\n",
       " 'and': 3,\n",
       " 'a': 4,\n",
       " 'it': 5,\n",
       " 'is': 6,\n",
       " 'this': 7,\n",
       " 'to': 8,\n",
       " 'in': 9,\n",
       " 'but': 10,\n",
       " 'on': 11,\n",
       " 'for': 12,\n",
       " 'of': 13,\n",
       " 'with': 14,\n",
       " 'was': 15,\n",
       " 'so': 16,\n",
       " 'my': 17,\n",
       " 'dress': 18,\n",
       " 'not': 19,\n",
       " 'that': 20,\n",
       " 'love': 21,\n",
       " 'size': 22,\n",
       " 'very': 23,\n",
       " 'have': 24,\n",
       " 'top': 25,\n",
       " 'fit': 26,\n",
       " 'are': 27,\n",
       " 'like': 28,\n",
       " 'be': 29,\n",
       " 'as': 30,\n",
       " 'me': 31,\n",
       " 'wear': 32,\n",
       " \"it's\": 33,\n",
       " 'great': 34,\n",
       " 'too': 35,\n",
       " \"i'm\": 36,\n",
       " 'or': 37,\n",
       " 'am': 38,\n",
       " 'just': 39,\n",
       " 'you': 40,\n",
       " 'would': 41,\n",
       " 'they': 42,\n",
       " 'up': 43,\n",
       " 'at': 44,\n",
       " 'fabric': 45,\n",
       " 'small': 46,\n",
       " 'color': 47,\n",
       " 'look': 48,\n",
       " 'if': 49,\n",
       " 'more': 50,\n",
       " 'really': 51,\n",
       " 'ordered': 52,\n",
       " 'little': 53,\n",
       " 'perfect': 54,\n",
       " 'will': 55,\n",
       " 'one': 56,\n",
       " 'these': 57,\n",
       " 'flattering': 58,\n",
       " 'well': 59,\n",
       " 'an': 60,\n",
       " 'soft': 61,\n",
       " 'out': 62,\n",
       " 'back': 63,\n",
       " 'because': 64,\n",
       " 'had': 65,\n",
       " 'can': 66,\n",
       " '\\r': 67,\n",
       " 'comfortable': 68,\n",
       " 'cute': 69,\n",
       " 'nice': 70,\n",
       " 'than': 71,\n",
       " 'bought': 72,\n",
       " 'beautiful': 73,\n",
       " 'when': 74,\n",
       " 'all': 75,\n",
       " 'looks': 76,\n",
       " 'bit': 77,\n",
       " 'fits': 78,\n",
       " 'large': 79,\n",
       " 'shirt': 80,\n",
       " 'down': 81,\n",
       " 'which': 82,\n",
       " 'material': 83,\n",
       " 'much': 84,\n",
       " 'them': 85,\n",
       " 'length': 86,\n",
       " 'also': 87,\n",
       " 'sweater': 88,\n",
       " 'has': 89,\n",
       " 'long': 90,\n",
       " 'got': 91,\n",
       " 'jeans': 92,\n",
       " 'colors': 93,\n",
       " 'waist': 94,\n",
       " 'petite': 95,\n",
       " 'quality': 96,\n",
       " 'medium': 97,\n",
       " 'xs': 98,\n",
       " 'pretty': 99,\n",
       " 'think': 100,\n",
       " 'even': 101,\n",
       " 'work': 102,\n",
       " 'retailer': 103,\n",
       " 'tried': 104,\n",
       " 'from': 105,\n",
       " 'store': 106,\n",
       " 'usually': 107,\n",
       " 'other': 108,\n",
       " 'skirt': 109,\n",
       " 'about': 110,\n",
       " 'good': 111,\n",
       " 'made': 112,\n",
       " 'pants': 113,\n",
       " 'short': 114,\n",
       " 'get': 115,\n",
       " 'way': 116,\n",
       " 'only': 117,\n",
       " 'could': 118,\n",
       " 'big': 119,\n",
       " 'cut': 120,\n",
       " 'see': 121,\n",
       " \"don't\": 122,\n",
       " 'black': 123,\n",
       " \"didn't\": 124,\n",
       " 'still': 125,\n",
       " 'were': 126,\n",
       " 'right': 127,\n",
       " 'super': 128,\n",
       " 'there': 129,\n",
       " 'true': 130,\n",
       " 'did': 131,\n",
       " 'runs': 132,\n",
       " 'style': 133,\n",
       " 'do': 134,\n",
       " 'sleeves': 135,\n",
       " 'online': 136,\n",
       " 'no': 137,\n",
       " 'summer': 138,\n",
       " 'purchased': 139,\n",
       " 'white': 140,\n",
       " 'wearing': 141,\n",
       " 'design': 142,\n",
       " 'however': 143,\n",
       " 'does': 144,\n",
       " 'feel': 145,\n",
       " 'off': 146,\n",
       " 'go': 147,\n",
       " 'tight': 148,\n",
       " 'enough': 149,\n",
       " 'perfectly': 150,\n",
       " 'over': 151,\n",
       " 'some': 152,\n",
       " 'model': 153,\n",
       " '4': 154,\n",
       " 'definitely': 155,\n",
       " 'front': 156,\n",
       " 'looked': 157,\n",
       " 'sale': 158,\n",
       " 'though': 159,\n",
       " '2': 160,\n",
       " 'blue': 161,\n",
       " 'price': 162,\n",
       " 'person': 163,\n",
       " 'lbs': 164,\n",
       " 'loved': 165,\n",
       " 'been': 166,\n",
       " 'how': 167,\n",
       " 'what': 168,\n",
       " 'better': 169,\n",
       " 'jacket': 170,\n",
       " 'first': 171,\n",
       " 'fall': 172,\n",
       " 'your': 173,\n",
       " 'body': 174,\n",
       " 'bottom': 175,\n",
       " 'going': 176,\n",
       " 'loose': 177,\n",
       " 'high': 178,\n",
       " 'try': 179,\n",
       " '6': 180,\n",
       " 'worn': 181,\n",
       " 'around': 182,\n",
       " 'time': 183,\n",
       " 'regular': 184,\n",
       " 'looking': 185,\n",
       " 'shape': 186,\n",
       " 'light': 187,\n",
       " 'many': 188,\n",
       " 'both': 189,\n",
       " 'chest': 190,\n",
       " 'thought': 191,\n",
       " 'make': 192,\n",
       " 'lovely': 193,\n",
       " 'arms': 194,\n",
       " 'wanted': 195,\n",
       " 'saw': 196,\n",
       " 'gorgeous': 197,\n",
       " 'piece': 198,\n",
       " 's': 199,\n",
       " 'shoulders': 200,\n",
       " 'casual': 201,\n",
       " 'thin': 202,\n",
       " 'through': 203,\n",
       " 'makes': 204,\n",
       " 'recommend': 205,\n",
       " 'after': 206,\n",
       " 'without': 207,\n",
       " 'bust': 208,\n",
       " \"doesn't\": 209,\n",
       " 'compliments': 210,\n",
       " 'pattern': 211,\n",
       " 'need': 212,\n",
       " 'being': 213,\n",
       " 'went': 214,\n",
       " 'side': 215,\n",
       " 'want': 216,\n",
       " 'run': 217,\n",
       " 'tops': 218,\n",
       " 'found': 219,\n",
       " 'blouse': 220,\n",
       " 'find': 221,\n",
       " 'pair': 222,\n",
       " 'bra': 223,\n",
       " 'sure': 224,\n",
       " 'reviews': 225,\n",
       " 'weight': 226,\n",
       " 'wore': 227,\n",
       " 'wish': 228,\n",
       " \"can't\": 229,\n",
       " 'picture': 230,\n",
       " \"i've\": 231,\n",
       " 'print': 232,\n",
       " 'buy': 233,\n",
       " 'hips': 234,\n",
       " 'since': 235,\n",
       " 'usual': 236,\n",
       " '8': 237,\n",
       " 'dresses': 238,\n",
       " 'normally': 239,\n",
       " 'by': 240,\n",
       " 'order': 241,\n",
       " 'comfy': 242,\n",
       " 'received': 243,\n",
       " 'different': 244,\n",
       " 'its': 245,\n",
       " 'lot': 246,\n",
       " 'while': 247,\n",
       " 'longer': 248,\n",
       " 'm': 249,\n",
       " 'overall': 250,\n",
       " 'any': 251,\n",
       " 'most': 252,\n",
       " 'absolutely': 253,\n",
       " 'may': 254,\n",
       " 'quite': 255,\n",
       " 'fitted': 256,\n",
       " 'detail': 257,\n",
       " 'nicely': 258,\n",
       " 'slightly': 259,\n",
       " 'keep': 260,\n",
       " 'return': 261,\n",
       " 'two': 262,\n",
       " 'day': 263,\n",
       " 'then': 264,\n",
       " '5': 265,\n",
       " 'green': 266,\n",
       " 'felt': 267,\n",
       " 'leggings': 268,\n",
       " 'might': 269,\n",
       " 'red': 270,\n",
       " 'another': 271,\n",
       " 'under': 272,\n",
       " 'underneath': 273,\n",
       " 'wide': 274,\n",
       " 'stretch': 275,\n",
       " 'neck': 276,\n",
       " 'easy': 277,\n",
       " 'unique': 278,\n",
       " 'say': 279,\n",
       " 'now': 280,\n",
       " 'lace': 281,\n",
       " \"wasn't\": 282,\n",
       " 'fun': 283,\n",
       " 'boxy': 284,\n",
       " 'extra': 285,\n",
       " 'probably': 286,\n",
       " 'happy': 287,\n",
       " '10': 288,\n",
       " 'almost': 289,\n",
       " 'sizing': 290,\n",
       " 'actually': 291,\n",
       " 'photo': 292,\n",
       " 'tank': 293,\n",
       " 'something': 294,\n",
       " 'warm': 295,\n",
       " 'sizes': 296,\n",
       " 'low': 297,\n",
       " 'area': 298,\n",
       " 'smaller': 299,\n",
       " 'sheer': 300,\n",
       " 'fine': 301,\n",
       " 'unfortunately': 302,\n",
       " 'flowy': 303,\n",
       " 'pockets': 304,\n",
       " 'dressed': 305,\n",
       " 'purchase': 306,\n",
       " 't': 307,\n",
       " 'worth': 308,\n",
       " 'feels': 309,\n",
       " \"5'4\": 310,\n",
       " 'tee': 311,\n",
       " 'such': 312,\n",
       " 'into': 313,\n",
       " 'glad': 314,\n",
       " 'full': 315,\n",
       " 'every': 316,\n",
       " 'shorter': 317,\n",
       " 'same': 318,\n",
       " 'said': 319,\n",
       " 'between': 320,\n",
       " 'boots': 321,\n",
       " 'tall': 322,\n",
       " 'put': 323,\n",
       " 'give': 324,\n",
       " 'sized': 325,\n",
       " 'yet': 326,\n",
       " 'always': 327,\n",
       " 'tts': 328,\n",
       " 'disappointed': 329,\n",
       " 'reference': 330,\n",
       " 'spring': 331,\n",
       " 'everything': 332,\n",
       " 'buttons': 333,\n",
       " 'navy': 334,\n",
       " 'line': 335,\n",
       " 'denim': 336,\n",
       " 'skinny': 337,\n",
       " 'wait': 338,\n",
       " 'maybe': 339,\n",
       " 'versatile': 340,\n",
       " 'decided': 341,\n",
       " 'larger': 342,\n",
       " 'part': 343,\n",
       " 'neckline': 344,\n",
       " 'adorable': 345,\n",
       " 'liked': 346,\n",
       " 'should': 347,\n",
       " 'huge': 348,\n",
       " 'winter': 349,\n",
       " 'above': 350,\n",
       " 'thick': 351,\n",
       " 'favorite': 352,\n",
       " 'where': 353,\n",
       " 'especially': 354,\n",
       " 'easily': 355,\n",
       " 'fitting': 356,\n",
       " \"i'd\": 357,\n",
       " 'returned': 358,\n",
       " 'problem': 359,\n",
       " 'grey': 360,\n",
       " 'figure': 361,\n",
       " 'shorts': 362,\n",
       " 'pink': 363,\n",
       " 'came': 364,\n",
       " 'details': 365,\n",
       " 'best': 366,\n",
       " 'heavy': 367,\n",
       " 'thing': 368,\n",
       " 'snug': 369,\n",
       " 'wash': 370,\n",
       " 'button': 371,\n",
       " 'seems': 372,\n",
       " \"isn't\": 373,\n",
       " 'take': 374,\n",
       " 'room': 375,\n",
       " 'slip': 376,\n",
       " 'amazing': 377,\n",
       " 'reviewers': 378,\n",
       " 'coat': 379,\n",
       " '3': 380,\n",
       " 'normal': 381,\n",
       " 'lightweight': 382,\n",
       " 'cotton': 383,\n",
       " \"5'3\": 384,\n",
       " 'feminine': 385,\n",
       " 'hem': 386,\n",
       " \"couldn't\": 387,\n",
       " 'tunic': 388,\n",
       " 'pictured': 389,\n",
       " 'know': 390,\n",
       " 'few': 391,\n",
       " 'knee': 392,\n",
       " 'knit': 393,\n",
       " 'l': 394,\n",
       " 'cardigan': 395,\n",
       " 'took': 396,\n",
       " 'kind': 397,\n",
       " 'cami': 398,\n",
       " \"that's\": 399,\n",
       " 'expected': 400,\n",
       " 'dark': 401,\n",
       " 'goes': 402,\n",
       " 'torso': 403,\n",
       " 'hit': 404,\n",
       " 'embroidery': 405,\n",
       " 'belt': 406,\n",
       " '12': 407,\n",
       " 'curvy': 408,\n",
       " 'returning': 409,\n",
       " \"5'5\": 410,\n",
       " 'beautifully': 411,\n",
       " 'reviewer': 412,\n",
       " \"5'2\": 413,\n",
       " 'arm': 414,\n",
       " '0': 415,\n",
       " 'hits': 416,\n",
       " 'extremely': 417,\n",
       " 'xl': 418,\n",
       " 'lined': 419,\n",
       " 'lining': 420,\n",
       " 'show': 421,\n",
       " 'frame': 422,\n",
       " 'typically': 423,\n",
       " 'works': 424,\n",
       " 'once': 425,\n",
       " 'although': 426,\n",
       " 'able': 427,\n",
       " \"i'll\": 428,\n",
       " 'never': 429,\n",
       " 'before': 430,\n",
       " 'excited': 431,\n",
       " 'legs': 432,\n",
       " 'highly': 433,\n",
       " 'washed': 434,\n",
       " 'anything': 435,\n",
       " 'today': 436,\n",
       " 'either': 437,\n",
       " 'someone': 438,\n",
       " 'who': 439,\n",
       " 'year': 440,\n",
       " 'those': 441,\n",
       " 'shown': 442,\n",
       " 'sleeve': 443,\n",
       " 'xxs': 444,\n",
       " 'bad': 445,\n",
       " \"5'7\": 446,\n",
       " 'new': 447,\n",
       " 'ended': 448,\n",
       " 'issue': 449,\n",
       " 'sold': 450,\n",
       " 'photos': 451,\n",
       " 'weather': 452,\n",
       " 'things': 453,\n",
       " 'below': 454,\n",
       " 'already': 455,\n",
       " 'stretchy': 456,\n",
       " 'shoulder': 457,\n",
       " 'trying': 458,\n",
       " \"5'6\": 459,\n",
       " 'cool': 460,\n",
       " \"you're\": 461,\n",
       " 'gray': 462,\n",
       " 'needed': 463,\n",
       " 'type': 464,\n",
       " 'holes': 465,\n",
       " 'agree': 466,\n",
       " 'tie': 467,\n",
       " 'last': 468,\n",
       " 'zipper': 469,\n",
       " 'arrived': 470,\n",
       " 'otherwise': 471,\n",
       " 'hard': 472,\n",
       " 'fell': 473,\n",
       " 'why': 474,\n",
       " 'layer': 475,\n",
       " 'hoping': 476,\n",
       " 'days': 477,\n",
       " 'exactly': 478,\n",
       " 'wardrobe': 479,\n",
       " 'brand': 480,\n",
       " 'cozy': 481,\n",
       " 'orange': 482,\n",
       " 'suit': 483,\n",
       " 'come': 484,\n",
       " 'add': 485,\n",
       " 'due': 486,\n",
       " '26': 487,\n",
       " 'across': 488,\n",
       " 'cheap': 489,\n",
       " 'inches': 490,\n",
       " 'straps': 491,\n",
       " 'vest': 492,\n",
       " 'sadly': 493,\n",
       " 'local': 494,\n",
       " 'hot': 495,\n",
       " 'skin': 496,\n",
       " 'away': 497,\n",
       " 'again': 498,\n",
       " 'swing': 499,\n",
       " 'unflattering': 500,\n",
       " \"5'8\": 501,\n",
       " 'least': 502,\n",
       " 'heels': 503,\n",
       " '1': 504,\n",
       " 'ever': 505,\n",
       " \"wouldn't\": 506,\n",
       " 'tad': 507,\n",
       " 'sides': 508,\n",
       " \"5'\": 509,\n",
       " 'rather': 510,\n",
       " 'keeping': 511,\n",
       " 'open': 512,\n",
       " 'stylish': 513,\n",
       " 'dry': 514,\n",
       " 'getting': 515,\n",
       " 'ran': 516,\n",
       " 'must': 517,\n",
       " 'vibrant': 518,\n",
       " 'classic': 519,\n",
       " \"they're\": 520,\n",
       " 'plan': 521,\n",
       " 'straight': 522,\n",
       " 'baggy': 523,\n",
       " 'slim': 524,\n",
       " 'others': 525,\n",
       " 'pictures': 526,\n",
       " 'several': 527,\n",
       " 'plus': 528,\n",
       " 'delicate': 529,\n",
       " 'pilcro': 530,\n",
       " 'surprised': 531,\n",
       " 'wonderful': 532,\n",
       " 'nothing': 533,\n",
       " 'less': 534,\n",
       " 'pull': 535,\n",
       " 'touch': 536,\n",
       " 'kept': 537,\n",
       " 'pounds': 538,\n",
       " 'ordering': 539,\n",
       " 'item': 540,\n",
       " 'based': 541,\n",
       " 'roomy': 542,\n",
       " 'waisted': 543,\n",
       " 'seem': 544,\n",
       " 'stunning': 545,\n",
       " 'bright': 546,\n",
       " 'yellow': 547,\n",
       " 'simple': 548,\n",
       " 'drapes': 549,\n",
       " 'drape': 550,\n",
       " 'use': 551,\n",
       " 'years': 552,\n",
       " 'shirts': 553,\n",
       " 'cropped': 554,\n",
       " 'hangs': 555,\n",
       " 'sometimes': 556,\n",
       " '27': 557,\n",
       " 'their': 558,\n",
       " 'available': 559,\n",
       " 'itchy': 560,\n",
       " 'worked': 561,\n",
       " 'v': 562,\n",
       " 'paired': 563,\n",
       " 'night': 564,\n",
       " 'review': 565,\n",
       " 'version': 566,\n",
       " 'ankle': 567,\n",
       " 'gives': 568,\n",
       " 'bigger': 569,\n",
       " 'flat': 570,\n",
       " 'instead': 571,\n",
       " 'own': 572,\n",
       " 'myself': 573,\n",
       " 'far': 574,\n",
       " 'skirts': 575,\n",
       " 'seemed': 576,\n",
       " 'tights': 577,\n",
       " 'times': 578,\n",
       " '28': 579,\n",
       " 'here': 580,\n",
       " 'previous': 581,\n",
       " 'buying': 582,\n",
       " 'busty': 583,\n",
       " 'tiny': 584,\n",
       " 'immediately': 585,\n",
       " 'comes': 586,\n",
       " 'oversized': 587,\n",
       " 'special': 588,\n",
       " 'having': 589,\n",
       " 'lots': 590,\n",
       " 'she': 591,\n",
       " 'wedding': 592,\n",
       " 'mine': 593,\n",
       " \"won't\": 594,\n",
       " 'mentioned': 595,\n",
       " 'falls': 596,\n",
       " 'making': 597,\n",
       " 'ivory': 598,\n",
       " 'end': 599,\n",
       " 'adds': 600,\n",
       " 'elastic': 601,\n",
       " \"5'1\": 602,\n",
       " \"5'9\": 603,\n",
       " 'cover': 604,\n",
       " 'staple': 605,\n",
       " 'cold': 606,\n",
       " '115': 607,\n",
       " 'lower': 608,\n",
       " 'season': 609,\n",
       " 'higher': 610,\n",
       " 'athletic': 611,\n",
       " 'completely': 612,\n",
       " 'collar': 613,\n",
       " 'totally': 614,\n",
       " 'sandals': 615,\n",
       " 'booties': 616,\n",
       " 'flare': 617,\n",
       " 'shows': 618,\n",
       " 'mid': 619,\n",
       " 'leg': 620,\n",
       " 'weird': 621,\n",
       " 'texture': 622,\n",
       " 'second': 623,\n",
       " 'form': 624,\n",
       " 'jean': 625,\n",
       " 'knees': 626,\n",
       " 'wool': 627,\n",
       " \"there's\": 628,\n",
       " 'stiff': 629,\n",
       " 'jumpsuit': 630,\n",
       " 'read': 631,\n",
       " 'cream': 632,\n",
       " 'clothes': 633,\n",
       " 'often': 634,\n",
       " 'knew': 635,\n",
       " 'worried': 636,\n",
       " 'ok': 637,\n",
       " 'used': 638,\n",
       " 'curves': 639,\n",
       " 'months': 640,\n",
       " 'finally': 641,\n",
       " 'else': 642,\n",
       " 'neutral': 643,\n",
       " 'people': 644,\n",
       " 'slimming': 645,\n",
       " 'incredibly': 646,\n",
       " 'layering': 647,\n",
       " 'interesting': 648,\n",
       " 'odd': 649,\n",
       " 'thinking': 650,\n",
       " 'eye': 651,\n",
       " 'broad': 652,\n",
       " 'awesome': 653,\n",
       " 'basic': 654,\n",
       " 'similar': 655,\n",
       " 'half': 656,\n",
       " 'linen': 657,\n",
       " 'prefer': 658,\n",
       " '120': 659,\n",
       " 'clothing': 660,\n",
       " 'fact': 661,\n",
       " 'sexy': 662,\n",
       " 'hope': 663,\n",
       " 'throw': 664,\n",
       " 'wrong': 665,\n",
       " 'mind': 666,\n",
       " 'substantial': 667,\n",
       " 'flats': 668,\n",
       " 'hourglass': 669,\n",
       " 'brown': 670,\n",
       " 'bulky': 671,\n",
       " 'inside': 672,\n",
       " 'gotten': 673,\n",
       " 'amount': 674,\n",
       " 'dressy': 675,\n",
       " 'elegant': 676,\n",
       " 'gave': 677,\n",
       " 'deep': 678,\n",
       " 'hip': 679,\n",
       " 'sweaters': 680,\n",
       " 'outfit': 681,\n",
       " 'b': 682,\n",
       " 'upper': 683,\n",
       " 'rich': 684,\n",
       " 'addition': 685,\n",
       " 'closet': 686,\n",
       " 'maternity': 687,\n",
       " 'c': 688,\n",
       " 'next': 689,\n",
       " 'appears': 690,\n",
       " '30': 691,\n",
       " 'armholes': 692,\n",
       " 'flow': 693,\n",
       " 'point': 694,\n",
       " 'couple': 695,\n",
       " 'home': 696,\n",
       " 'reason': 697,\n",
       " 'during': 698,\n",
       " 'close': 699,\n",
       " 'appropriate': 700,\n",
       " 'mail': 701,\n",
       " '25': 702,\n",
       " 'subtle': 703,\n",
       " 'soon': 704,\n",
       " 'justice': 705,\n",
       " 'depending': 706,\n",
       " '135': 707,\n",
       " 'except': 708,\n",
       " '34b': 709,\n",
       " 'tell': 710,\n",
       " 'her': 711,\n",
       " 'washing': 712,\n",
       " 'stripes': 713,\n",
       " 'expect': 714,\n",
       " 'thicker': 715,\n",
       " 'thighs': 716,\n",
       " 'rise': 717,\n",
       " 'somewhat': 718,\n",
       " 'until': 719,\n",
       " 'detailing': 720,\n",
       " 'sad': 721,\n",
       " 'colored': 722,\n",
       " 'left': 723,\n",
       " 'nude': 724,\n",
       " 'peplum': 725,\n",
       " 'baby': 726,\n",
       " 'hang': 727,\n",
       " 'complaint': 728,\n",
       " 'pant': 729,\n",
       " 'hand': 730,\n",
       " 'seam': 731,\n",
       " 'silk': 732,\n",
       " 'purple': 733,\n",
       " 'yes': 734,\n",
       " 'forward': 735,\n",
       " 'case': 736,\n",
       " 'pleased': 737,\n",
       " '34c': 738,\n",
       " 'exchange': 739,\n",
       " 'build': 740,\n",
       " '125': 741,\n",
       " 'cannot': 742,\n",
       " '140': 743,\n",
       " 'w': 744,\n",
       " 'perhaps': 745,\n",
       " 'looser': 746,\n",
       " 'anyway': 747,\n",
       " 'idea': 748,\n",
       " 'tent': 749,\n",
       " 'expecting': 750,\n",
       " 'hold': 751,\n",
       " 'fairly': 752,\n",
       " 'product': 753,\n",
       " 'bodice': 754,\n",
       " 'place': 755,\n",
       " 'flows': 756,\n",
       " 'taller': 757,\n",
       " \"haven't\": 758,\n",
       " 'fan': 759,\n",
       " 'middle': 760,\n",
       " 'everywhere': 761,\n",
       " 'together': 762,\n",
       " '130': 763,\n",
       " 'darker': 764,\n",
       " 'bottoms': 765,\n",
       " 'deal': 766,\n",
       " 'blazer': 767,\n",
       " 'hung': 768,\n",
       " 'classy': 769,\n",
       " 'real': 770,\n",
       " 'maeve': 771,\n",
       " 'truly': 772,\n",
       " 'awkward': 773,\n",
       " 'added': 774,\n",
       " 'slight': 775,\n",
       " 'pieces': 776,\n",
       " 'along': 777,\n",
       " 'barely': 778,\n",
       " 'floral': 779,\n",
       " 'spot': 780,\n",
       " 'narrow': 781,\n",
       " 'inch': 782,\n",
       " 'gold': 783,\n",
       " 'zip': 784,\n",
       " 'office': 785,\n",
       " 'typical': 786,\n",
       " 'gone': 787,\n",
       " 'fabulous': 788,\n",
       " 'sweatshirt': 789,\n",
       " 'heavier': 790,\n",
       " 'motif': 791,\n",
       " 'butt': 792,\n",
       " 'chic': 793,\n",
       " 'old': 794,\n",
       " 'three': 795,\n",
       " 'band': 796,\n",
       " 'feeling': 797,\n",
       " 'opinion': 798,\n",
       " 'sort': 799,\n",
       " 'items': 800,\n",
       " '34': 801,\n",
       " 'imagine': 802,\n",
       " 'tag': 803,\n",
       " 'fantastic': 804,\n",
       " 'romper': 805,\n",
       " 'live': 806,\n",
       " 'issues': 807,\n",
       " 'past': 808,\n",
       " 'pulled': 809,\n",
       " 'noticed': 810,\n",
       " 'waistband': 811,\n",
       " 'anyone': 812,\n",
       " 'tummy': 813,\n",
       " 'whole': 814,\n",
       " 'showing': 815,\n",
       " 'we': 816,\n",
       " '34d': 817,\n",
       " 'stitching': 818,\n",
       " 'seen': 819,\n",
       " 'reading': 820,\n",
       " 'itself': 821,\n",
       " 'seams': 822,\n",
       " 'belly': 823,\n",
       " 'places': 824,\n",
       " 'unless': 825,\n",
       " '14': 826,\n",
       " 'meant': 827,\n",
       " 'leather': 828,\n",
       " 'lay': 829,\n",
       " 'sewn': 830,\n",
       " 'pairs': 831,\n",
       " 'chested': 832,\n",
       " 'styling': 833,\n",
       " 'strange': 834,\n",
       " 'says': 835,\n",
       " 'needs': 836,\n",
       " 'running': 837,\n",
       " 'each': 838,\n",
       " 'comfort': 839,\n",
       " 'coverage': 840,\n",
       " 'weekend': 841,\n",
       " 'lighter': 842,\n",
       " '100': 843,\n",
       " \"5'10\": 844,\n",
       " 'party': 845,\n",
       " 'generally': 846,\n",
       " 'women': 847,\n",
       " '29': 848,\n",
       " 'transition': 849,\n",
       " 'scratchy': 850,\n",
       " 'excellent': 851,\n",
       " 'rest': 852,\n",
       " 'necklace': 853,\n",
       " 'please': 854,\n",
       " 'done': 855,\n",
       " 'clingy': 856,\n",
       " 'relaxed': 857,\n",
       " 'husband': 858,\n",
       " 'believe': 859,\n",
       " 'stay': 860,\n",
       " 'pregnant': 861,\n",
       " 'wider': 862,\n",
       " 'stars': 863,\n",
       " 'glove': 864,\n",
       " 'beach': 865,\n",
       " 'frumpy': 866,\n",
       " 'height': 867,\n",
       " 'caught': 868,\n",
       " 'girls': 869,\n",
       " 'cup': 870,\n",
       " 'tucked': 871,\n",
       " 'difficult': 872,\n",
       " 'slender': 873,\n",
       " 'portion': 874,\n",
       " 'ago': 875,\n",
       " \"aren't\": 876,\n",
       " 'dinner': 877,\n",
       " 'chance': 878,\n",
       " 'lines': 879,\n",
       " 'sack': 880,\n",
       " 'airy': 881,\n",
       " 'help': 882,\n",
       " 'coral': 883,\n",
       " 'girl': 884,\n",
       " 'finding': 885,\n",
       " 'seasons': 886,\n",
       " 'forgiving': 887,\n",
       " 'bag': 888,\n",
       " 'house': 889,\n",
       " 'slits': 890,\n",
       " 'plenty': 891,\n",
       " 'shaped': 892,\n",
       " 'silhouette': 893,\n",
       " 'expensive': 894,\n",
       " 'care': 895,\n",
       " 'simply': 896,\n",
       " 'tailored': 897,\n",
       " 'maxi': 898,\n",
       " 'clean': 899,\n",
       " 'everyone': 900,\n",
       " 'money': 901,\n",
       " 'camisole': 902,\n",
       " 'd': 903,\n",
       " '39': 904,\n",
       " 'description': 905,\n",
       " 'prettier': 906,\n",
       " 'keeper': 907,\n",
       " 'stock': 908,\n",
       " 'p': 909,\n",
       " 'stomach': 910,\n",
       " 'solid': 911,\n",
       " '36': 912,\n",
       " 'pear': 913,\n",
       " 'pleats': 914,\n",
       " 'hide': 915,\n",
       " 'swingy': 916,\n",
       " 'silky': 917,\n",
       " 'etc': 918,\n",
       " 'option': 919,\n",
       " '38': 920,\n",
       " 'wow': 921,\n",
       " 'cooler': 922,\n",
       " 'shade': 923,\n",
       " 'structured': 924,\n",
       " 'guess': 925,\n",
       " 'life': 926,\n",
       " '40': 927,\n",
       " 'thigh': 928,\n",
       " 'adore': 929,\n",
       " 'given': 930,\n",
       " 'hanging': 931,\n",
       " 'average': 932,\n",
       " 'natural': 933,\n",
       " 'despite': 934,\n",
       " 'send': 935,\n",
       " 'website': 936,\n",
       " 'ladies': 937,\n",
       " 'round': 938,\n",
       " 'wrinkle': 939,\n",
       " 'note': 940,\n",
       " 'yesterday': 941,\n",
       " 'hole': 942,\n",
       " 'beige': 943,\n",
       " 'purchasing': 944,\n",
       " 'plaid': 945,\n",
       " 'uncomfortable': 946,\n",
       " 'polyester': 947,\n",
       " 'pencil': 948,\n",
       " 'considering': 949,\n",
       " 'disappointing': 950,\n",
       " 'originally': 951,\n",
       " 'jackets': 952,\n",
       " '32': 953,\n",
       " 'plain': 954,\n",
       " 'daughter': 955,\n",
       " 'surprise': 956,\n",
       " 'dressing': 957,\n",
       " 'ruffle': 958,\n",
       " 'recently': 959,\n",
       " 'layered': 960,\n",
       " 'beading': 961,\n",
       " 'patterns': 962,\n",
       " 'oh': 963,\n",
       " '36c': 964,\n",
       " 'afraid': 965,\n",
       " 'flowers': 966,\n",
       " 'sit': 967,\n",
       " 'ag': 968,\n",
       " 'hanger': 969,\n",
       " 'shapeless': 970,\n",
       " 'flowing': 971,\n",
       " 'pass': 972,\n",
       " 'pricey': 973,\n",
       " 'designed': 974,\n",
       " 'layers': 975,\n",
       " 'ways': 976,\n",
       " 'poor': 977,\n",
       " 'us': 978,\n",
       " 'swimming': 979,\n",
       " 'tend': 980,\n",
       " 'sent': 981,\n",
       " 'week': 982,\n",
       " 'pay': 983,\n",
       " 'sweet': 984,\n",
       " 'covers': 985,\n",
       " 'pale': 986,\n",
       " 'hides': 987,\n",
       " 'holiday': 988,\n",
       " 'stretched': 989,\n",
       " 'slit': 990,\n",
       " 'let': 991,\n",
       " 'snag': 992,\n",
       " 'stated': 993,\n",
       " 'okay': 994,\n",
       " 'twice': 995,\n",
       " 'everyday': 996,\n",
       " 'coming': 997,\n",
       " 'machine': 998,\n",
       " 'flares': 999,\n",
       " 'receive': 1000,\n",
       " ...}"
      ]
     },
     "execution_count": 26,
     "metadata": {},
     "output_type": "execute_result"
    }
   ],
   "source": [
    "tokenizer.word_index"
   ]
  },
  {
   "cell_type": "code",
   "execution_count": 27,
   "metadata": {
    "id": "ozBK5t7_yabB"
   },
   "outputs": [
    {
     "data": {
      "text/plain": [
       "14847"
      ]
     },
     "execution_count": 27,
     "metadata": {},
     "output_type": "execute_result"
    }
   ],
   "source": [
    "len(tokenizer.word_index)"
   ]
  },
  {
   "cell_type": "markdown",
   "metadata": {
    "id": "8BgD95SgyabC"
   },
   "source": [
    "### Converting tokens to numeric"
   ]
  },
  {
   "cell_type": "code",
   "execution_count": 28,
   "metadata": {
    "id": "bgyYCVMeyabD"
   },
   "outputs": [],
   "source": [
    "X_num_tokens = tokenizer.texts_to_sequences(X)"
   ]
  },
  {
   "cell_type": "code",
   "execution_count": 30,
   "metadata": {
    "id": "0L6LpsuqyabE"
   },
   "outputs": [
    {
     "data": {
      "text/plain": [
       "'I am usually a petite 6 but since this dress did not come in petites i tried on 4 and it fit. i\\'m 5\\'1\" -112lbs so dress hit rt below knee -will have it hemmed up a bit do not so overwhelming.\\n\\nthis dress looks stunning on! great vibrant color ( i have dark hair) makes this classic elegant dress look contemporary and stylish. when i tried it on in store, salesperson and others who happen to see it on me raved and told me to grab it! i did and am glad.\\n\\ni plan to wear it this spring for my daughte'"
      ]
     },
     "execution_count": 30,
     "metadata": {},
     "output_type": "execute_result"
    }
   ],
   "source": [
    "X[80]"
   ]
  },
  {
   "cell_type": "code",
   "execution_count": 31,
   "metadata": {},
   "outputs": [
    {
     "name": "stdout",
     "output_type": "stream",
     "text": [
      "[2, 38, 107, 4, 95, 180, 10, 235, 7, 18, 131, 19, 484, 9, 1016, 2, 104, 11, 154, 3, 5, 26, 36, 602, 4250, 16, 18, 404, 8533, 454, 392, 55, 24, 5, 1168, 43, 4, 77, 134, 19, 16, 1169, 7, 18, 76, 545, 11, 34, 518, 47, 2, 24, 401, 1260, 204, 7, 519, 676, 18, 48, 2774, 3, 513, 74, 2, 104, 5, 11, 9, 106, 2865, 3, 525, 439, 1780, 8, 121, 5, 11, 31, 5726, 3, 1954, 31, 8, 1457, 5, 2, 131, 3, 38, 314, 2, 521, 8, 32, 5, 7, 331, 12, 17, 8534]\n"
     ]
    }
   ],
   "source": [
    "print(X_num_tokens[80])"
   ]
  },
  {
   "cell_type": "markdown",
   "metadata": {
    "id": "Rj9JkageyabE"
   },
   "source": [
    "### Maximum number of tokens for all documents¶"
   ]
  },
  {
   "cell_type": "code",
   "execution_count": 32,
   "metadata": {
    "id": "cEGs4NkGyabF"
   },
   "outputs": [
    {
     "data": {
      "text/plain": [
       "102"
      ]
     },
     "execution_count": 32,
     "metadata": {},
     "output_type": "execute_result"
    }
   ],
   "source": [
    "len(X_num_tokens[80])"
   ]
  },
  {
   "cell_type": "code",
   "execution_count": 33,
   "metadata": {
    "id": "qpHWEnkvyabG"
   },
   "outputs": [],
   "source": [
    "num_tokens = [len(tokens) for tokens in X_num_tokens]\n",
    "num_tokens = np.array(num_tokens)"
   ]
  },
  {
   "cell_type": "code",
   "execution_count": 34,
   "metadata": {},
   "outputs": [
    {
     "data": {
      "text/plain": [
       "array([ 7, 62, 97, ..., 42, 85, 19])"
      ]
     },
     "execution_count": 34,
     "metadata": {},
     "output_type": "execute_result"
    }
   ],
   "source": [
    "num_tokens"
   ]
  },
  {
   "cell_type": "code",
   "execution_count": 35,
   "metadata": {},
   "outputs": [
    {
     "data": {
      "text/plain": [
       "60.60699615741354"
      ]
     },
     "execution_count": 35,
     "metadata": {},
     "output_type": "execute_result"
    }
   ],
   "source": [
    "num_tokens.mean()"
   ]
  },
  {
   "cell_type": "code",
   "execution_count": 36,
   "metadata": {},
   "outputs": [
    {
     "data": {
      "text/plain": [
       "116"
      ]
     },
     "execution_count": 36,
     "metadata": {},
     "output_type": "execute_result"
    }
   ],
   "source": [
    "num_tokens.max()"
   ]
  },
  {
   "cell_type": "code",
   "execution_count": 37,
   "metadata": {},
   "outputs": [
    {
     "data": {
      "text/plain": [
       "16263"
      ]
     },
     "execution_count": 37,
     "metadata": {},
     "output_type": "execute_result"
    }
   ],
   "source": [
    "num_tokens.argmax() # listedeki en uzun yorumun indexini argmax ile bulabiliyoruz."
   ]
  },
  {
   "cell_type": "code",
   "execution_count": 41,
   "metadata": {},
   "outputs": [
    {
     "data": {
      "text/plain": [
       "\"I love this sweater. as others have mentioned, it's not the softest acrylic in the world, but i can overlook that for the simple fact that it's adorable. i like the cropped fit- pairs perfectly with high waisted jeans/skirts. the embroidery has a sort of handmade feel to it without looking cheap. the slit up only one side makes it unique in my opinion. i did expect it to be a bit heavier, but it's a great layering piece and ideal for transitioning into colder weather. i may be biased because of\""
      ]
     },
     "execution_count": 41,
     "metadata": {},
     "output_type": "execute_result"
    }
   ],
   "source": [
    "X[16263]"
   ]
  },
  {
   "cell_type": "code",
   "execution_count": 42,
   "metadata": {},
   "outputs": [
    {
     "data": {
      "text/plain": [
       "116"
      ]
     },
     "execution_count": 42,
     "metadata": {},
     "output_type": "execute_result"
    }
   ],
   "source": [
    "len(X_num_tokens[16263])"
   ]
  },
  {
   "cell_type": "code",
   "execution_count": 43,
   "metadata": {},
   "outputs": [
    {
     "name": "stdout",
     "output_type": "stream",
     "text": [
      "[ True  True  True  True False False]\n",
      "4\n",
      "0.6666666666666666\n"
     ]
    }
   ],
   "source": [
    "list = [5, 10, 8, 9, 12, 15]\n",
    "print(np.array(list) < 11)\n",
    "print(sum(np.array(list) < 11))\n",
    "print(sum(np.array(list) < 11)/len(list))"
   ]
  },
  {
   "cell_type": "code",
   "execution_count": null,
   "metadata": {},
   "outputs": [],
   "source": []
  },
  {
   "cell_type": "code",
   "execution_count": null,
   "metadata": {},
   "outputs": [],
   "source": []
  },
  {
   "cell_type": "markdown",
   "metadata": {
    "id": "uy1B4hK-yabG"
   },
   "source": [
    "### Fixing token counts of all documents (pad_sequences)"
   ]
  },
  {
   "cell_type": "code",
   "execution_count": null,
   "metadata": {},
   "outputs": [],
   "source": []
  },
  {
   "cell_type": "code",
   "execution_count": null,
   "metadata": {},
   "outputs": [],
   "source": []
  },
  {
   "cell_type": "code",
   "execution_count": null,
   "metadata": {
    "id": "_iWx4UIMyabH"
   },
   "outputs": [],
   "source": []
  },
  {
   "cell_type": "code",
   "execution_count": null,
   "metadata": {
    "id": "_dhsOUyPyabI"
   },
   "outputs": [],
   "source": []
  },
  {
   "cell_type": "markdown",
   "metadata": {
    "id": "pDncmu1XyabI"
   },
   "source": [
    "### Train Set Split"
   ]
  },
  {
   "cell_type": "code",
   "execution_count": null,
   "metadata": {
    "id": "zqsRIshXyabJ"
   },
   "outputs": [],
   "source": []
  },
  {
   "cell_type": "code",
   "execution_count": null,
   "metadata": {
    "id": "c0S3dNtLyabJ"
   },
   "outputs": [],
   "source": []
  },
  {
   "cell_type": "markdown",
   "metadata": {
    "id": "dNgzp1YlyabJ"
   },
   "source": [
    "### Modeling"
   ]
  },
  {
   "cell_type": "code",
   "execution_count": null,
   "metadata": {
    "id": "coscTq6fyabK"
   },
   "outputs": [],
   "source": []
  },
  {
   "cell_type": "code",
   "execution_count": null,
   "metadata": {
    "id": "OB4exQP0yabK"
   },
   "outputs": [],
   "source": []
  },
  {
   "cell_type": "markdown",
   "metadata": {
    "id": "90psEuqfyabK"
   },
   "source": [
    "## BERT Modeling"
   ]
  },
  {
   "cell_type": "code",
   "execution_count": null,
   "metadata": {
    "id": "7jOXjgWtyabL"
   },
   "outputs": [],
   "source": []
  },
  {
   "cell_type": "code",
   "execution_count": null,
   "metadata": {
    "id": "Ype7yLKOyabL"
   },
   "outputs": [],
   "source": []
  },
  {
   "cell_type": "markdown",
   "metadata": {
    "id": "ux_iaGqlyabL"
   },
   "source": [
    "### Tokenization"
   ]
  },
  {
   "cell_type": "code",
   "execution_count": null,
   "metadata": {
    "id": "zApTMyZAyabM"
   },
   "outputs": [],
   "source": []
  },
  {
   "cell_type": "code",
   "execution_count": null,
   "metadata": {
    "id": "Ti_HMgv-O0hP"
   },
   "outputs": [],
   "source": []
  },
  {
   "cell_type": "markdown",
   "metadata": {
    "id": "2DRmOt6kO2Cr"
   },
   "source": [
    "### Train test split"
   ]
  },
  {
   "cell_type": "code",
   "execution_count": null,
   "metadata": {
    "id": "fMh01UkEyabM"
   },
   "outputs": [],
   "source": []
  },
  {
   "cell_type": "markdown",
   "metadata": {
    "id": "4pu5teiDyabM"
   },
   "source": [
    "### Transformation text to tensor"
   ]
  },
  {
   "cell_type": "code",
   "execution_count": null,
   "metadata": {
    "id": "JjufdfhryabN"
   },
   "outputs": [],
   "source": []
  },
  {
   "cell_type": "code",
   "execution_count": null,
   "metadata": {
    "id": "t7UcEY1syabN"
   },
   "outputs": [],
   "source": []
  },
  {
   "cell_type": "code",
   "execution_count": null,
   "metadata": {
    "id": "qpREU78cyabW"
   },
   "outputs": [],
   "source": []
  },
  {
   "cell_type": "markdown",
   "metadata": {
    "id": "K8c-hlqCPJY2"
   },
   "source": [
    "### Batch Size"
   ]
  },
  {
   "cell_type": "code",
   "execution_count": null,
   "metadata": {
    "id": "CT5OATB4PITT"
   },
   "outputs": [],
   "source": []
  },
  {
   "cell_type": "code",
   "execution_count": null,
   "metadata": {
    "id": "QPGbr0tGPIf9"
   },
   "outputs": [],
   "source": []
  },
  {
   "cell_type": "markdown",
   "metadata": {
    "id": "5QPfdcqdyabX"
   },
   "source": [
    "### Creating Model"
   ]
  },
  {
   "cell_type": "code",
   "execution_count": null,
   "metadata": {
    "id": "eNt0Mo6QyabX"
   },
   "outputs": [],
   "source": []
  },
  {
   "cell_type": "code",
   "execution_count": null,
   "metadata": {
    "id": "cEtMIXv2yabX"
   },
   "outputs": [],
   "source": []
  },
  {
   "cell_type": "code",
   "execution_count": null,
   "metadata": {
    "id": "SCyJKZ8IyabY"
   },
   "outputs": [],
   "source": []
  },
  {
   "cell_type": "code",
   "execution_count": null,
   "metadata": {
    "id": "SrC2_jJsyabY"
   },
   "outputs": [],
   "source": []
  },
  {
   "cell_type": "code",
   "execution_count": null,
   "metadata": {
    "id": "rMYMHALCyabZ"
   },
   "outputs": [],
   "source": []
  },
  {
   "cell_type": "code",
   "execution_count": null,
   "metadata": {
    "id": "fccgYh-eyabZ"
   },
   "outputs": [],
   "source": []
  },
  {
   "cell_type": "code",
   "execution_count": null,
   "metadata": {
    "id": "765MIgPoyaba"
   },
   "outputs": [],
   "source": []
  },
  {
   "cell_type": "markdown",
   "metadata": {
    "id": "-1ffMrzzyaba"
   },
   "source": [
    "### Model evaluation"
   ]
  },
  {
   "cell_type": "code",
   "execution_count": null,
   "metadata": {
    "id": "veJ3S964yabb"
   },
   "outputs": [],
   "source": []
  },
  {
   "cell_type": "code",
   "execution_count": null,
   "metadata": {
    "id": "X6wnuC81yabb"
   },
   "outputs": [],
   "source": []
  },
  {
   "cell_type": "markdown",
   "metadata": {
    "id": "Hdc5JYOXCV4A"
   },
   "source": [
    "### Compare Models F1 Scores, Recall Scores and Average Precision Score"
   ]
  },
  {
   "cell_type": "code",
   "execution_count": null,
   "metadata": {
    "id": "v0NYuHKNyabd"
   },
   "outputs": [],
   "source": []
  },
  {
   "cell_type": "code",
   "execution_count": null,
   "metadata": {
    "id": "KVjW_XLyyabd"
   },
   "outputs": [],
   "source": []
  },
  {
   "cell_type": "code",
   "execution_count": null,
   "metadata": {
    "id": "wXU-Yov1yabd"
   },
   "outputs": [],
   "source": []
  },
  {
   "cell_type": "code",
   "execution_count": null,
   "metadata": {
    "id": "zoeKmJwEyabe"
   },
   "outputs": [],
   "source": []
  },
  {
   "cell_type": "markdown",
   "metadata": {
    "id": "mfUL4ZaXCV4A"
   },
   "source": [
    "### Conclusion"
   ]
  },
  {
   "cell_type": "code",
   "execution_count": null,
   "metadata": {
    "id": "gtY0hTdRCV4A"
   },
   "outputs": [],
   "source": []
  },
  {
   "cell_type": "markdown",
   "metadata": {
    "id": "epg2QSwryabf"
   },
   "source": [
    "___\n",
    "\n",
    "<p style=\"text-align: center;\"><img src=\"https://docs.google.com/uc?id=1lY0Uj5R04yMY3-ZppPWxqCr5pvBLYPnV\" class=\"img-fluid\" alt=\"CLRSWY\"></p>\n",
    "\n",
    "___"
   ]
  }
 ],
 "metadata": {
  "colab": {
   "collapsed_sections": [],
   "provenance": []
  },
  "kernelspec": {
   "display_name": "Python 3 (ipykernel)",
   "language": "python",
   "name": "python3"
  },
  "language_info": {
   "codemirror_mode": {
    "name": "ipython",
    "version": 3
   },
   "file_extension": ".py",
   "mimetype": "text/x-python",
   "name": "python",
   "nbconvert_exporter": "python",
   "pygments_lexer": "ipython3",
   "version": "3.9.12"
  }
 },
 "nbformat": 4,
 "nbformat_minor": 1
}
